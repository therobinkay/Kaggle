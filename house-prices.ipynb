{
 "cells": [
  {
   "cell_type": "code",
   "execution_count": 1,
   "id": "512ca61a",
   "metadata": {
    "_cell_guid": "b1076dfc-b9ad-4769-8c92-a6c4dae69d19",
    "_uuid": "8f2839f25d086af736a60e9eeb907d3b93b6e0e5",
    "execution": {
     "iopub.execute_input": "2022-05-26T15:29:16.770811Z",
     "iopub.status.busy": "2022-05-26T15:29:16.770096Z",
     "iopub.status.idle": "2022-05-26T15:29:16.783336Z",
     "shell.execute_reply": "2022-05-26T15:29:16.782549Z"
    },
    "papermill": {
     "duration": 0.043362,
     "end_time": "2022-05-26T15:29:16.786289",
     "exception": false,
     "start_time": "2022-05-26T15:29:16.742927",
     "status": "completed"
    },
    "tags": []
   },
   "outputs": [
    {
     "name": "stdout",
     "output_type": "stream",
     "text": [
      "/kaggle/input/house-prices-advanced-regression-techniques/sample_submission.csv\n",
      "/kaggle/input/house-prices-advanced-regression-techniques/data_description.txt\n",
      "/kaggle/input/house-prices-advanced-regression-techniques/train.csv\n",
      "/kaggle/input/house-prices-advanced-regression-techniques/test.csv\n"
     ]
    }
   ],
   "source": [
    "# This Python 3 environment comes with many helpful analytics libraries installed\n",
    "# It is defined by the kaggle/python Docker image: https://github.com/kaggle/docker-python\n",
    "# For example, here's several helpful packages to load\n",
    "\n",
    "import numpy as np # linear algebra\n",
    "import pandas as pd # data processing, CSV file I/O (e.g. pd.read_csv)\n",
    "\n",
    "# Input data files are available in the read-only \"../input/\" directory\n",
    "# For example, running this (by clicking run or pressing Shift+Enter) will list all files under the input directory\n",
    "\n",
    "import os\n",
    "for dirname, _, filenames in os.walk('/kaggle/input'):\n",
    "    for filename in filenames:\n",
    "        print(os.path.join(dirname, filename))\n",
    "\n",
    "# You can write up to 20GB to the current directory (/kaggle/working/) that gets preserved as output when you create a version using \"Save & Run All\" \n",
    "# You can also write temporary files to /kaggle/temp/, but they won't be saved outside of the current session"
   ]
  },
  {
   "cell_type": "code",
   "execution_count": 2,
   "id": "2c84925f",
   "metadata": {
    "execution": {
     "iopub.execute_input": "2022-05-26T15:29:16.845234Z",
     "iopub.status.busy": "2022-05-26T15:29:16.844562Z",
     "iopub.status.idle": "2022-05-26T15:29:18.078480Z",
     "shell.execute_reply": "2022-05-26T15:29:18.077647Z"
    },
    "papermill": {
     "duration": 1.266244,
     "end_time": "2022-05-26T15:29:18.080951",
     "exception": false,
     "start_time": "2022-05-26T15:29:16.814707",
     "status": "completed"
    },
    "tags": []
   },
   "outputs": [],
   "source": [
    "%matplotlib inline\n",
    "import matplotlib.pyplot as plt\n",
    "import seaborn as sns\n",
    "\n",
    "plt.style.use(\"ggplot\")"
   ]
  },
  {
   "cell_type": "code",
   "execution_count": 3,
   "id": "81b66a1f",
   "metadata": {
    "execution": {
     "iopub.execute_input": "2022-05-26T15:29:18.132998Z",
     "iopub.status.busy": "2022-05-26T15:29:18.131962Z",
     "iopub.status.idle": "2022-05-26T15:29:18.137293Z",
     "shell.execute_reply": "2022-05-26T15:29:18.136280Z"
    },
    "papermill": {
     "duration": 0.033433,
     "end_time": "2022-05-26T15:29:18.139667",
     "exception": false,
     "start_time": "2022-05-26T15:29:18.106234",
     "status": "completed"
    },
    "tags": []
   },
   "outputs": [],
   "source": [
    "import random\n",
    "np.random.seed(1234)\n",
    "random.seed(1234)"
   ]
  },
  {
   "cell_type": "code",
   "execution_count": 4,
   "id": "8526abcb",
   "metadata": {
    "execution": {
     "iopub.execute_input": "2022-05-26T15:29:18.188761Z",
     "iopub.status.busy": "2022-05-26T15:29:18.188343Z",
     "iopub.status.idle": "2022-05-26T15:29:18.314529Z",
     "shell.execute_reply": "2022-05-26T15:29:18.313433Z"
    },
    "papermill": {
     "duration": 0.154317,
     "end_time": "2022-05-26T15:29:18.316939",
     "exception": false,
     "start_time": "2022-05-26T15:29:18.162622",
     "status": "completed"
    },
    "tags": []
   },
   "outputs": [
    {
     "data": {
      "text/html": [
       "<div>\n",
       "<style scoped>\n",
       "    .dataframe tbody tr th:only-of-type {\n",
       "        vertical-align: middle;\n",
       "    }\n",
       "\n",
       "    .dataframe tbody tr th {\n",
       "        vertical-align: top;\n",
       "    }\n",
       "\n",
       "    .dataframe thead th {\n",
       "        text-align: right;\n",
       "    }\n",
       "</style>\n",
       "<table border=\"1\" class=\"dataframe\">\n",
       "  <thead>\n",
       "    <tr style=\"text-align: right;\">\n",
       "      <th></th>\n",
       "      <th>Id</th>\n",
       "      <th>MSSubClass</th>\n",
       "      <th>MSZoning</th>\n",
       "      <th>LotFrontage</th>\n",
       "      <th>LotArea</th>\n",
       "      <th>Street</th>\n",
       "      <th>Alley</th>\n",
       "      <th>LotShape</th>\n",
       "      <th>LandContour</th>\n",
       "      <th>Utilities</th>\n",
       "      <th>...</th>\n",
       "      <th>PoolArea</th>\n",
       "      <th>PoolQC</th>\n",
       "      <th>Fence</th>\n",
       "      <th>MiscFeature</th>\n",
       "      <th>MiscVal</th>\n",
       "      <th>MoSold</th>\n",
       "      <th>YrSold</th>\n",
       "      <th>SaleType</th>\n",
       "      <th>SaleCondition</th>\n",
       "      <th>SalePrice</th>\n",
       "    </tr>\n",
       "  </thead>\n",
       "  <tbody>\n",
       "    <tr>\n",
       "      <th>0</th>\n",
       "      <td>1</td>\n",
       "      <td>60</td>\n",
       "      <td>RL</td>\n",
       "      <td>65.0</td>\n",
       "      <td>8450</td>\n",
       "      <td>Pave</td>\n",
       "      <td>NaN</td>\n",
       "      <td>Reg</td>\n",
       "      <td>Lvl</td>\n",
       "      <td>AllPub</td>\n",
       "      <td>...</td>\n",
       "      <td>0</td>\n",
       "      <td>NaN</td>\n",
       "      <td>NaN</td>\n",
       "      <td>NaN</td>\n",
       "      <td>0</td>\n",
       "      <td>2</td>\n",
       "      <td>2008</td>\n",
       "      <td>WD</td>\n",
       "      <td>Normal</td>\n",
       "      <td>208500</td>\n",
       "    </tr>\n",
       "    <tr>\n",
       "      <th>1</th>\n",
       "      <td>2</td>\n",
       "      <td>20</td>\n",
       "      <td>RL</td>\n",
       "      <td>80.0</td>\n",
       "      <td>9600</td>\n",
       "      <td>Pave</td>\n",
       "      <td>NaN</td>\n",
       "      <td>Reg</td>\n",
       "      <td>Lvl</td>\n",
       "      <td>AllPub</td>\n",
       "      <td>...</td>\n",
       "      <td>0</td>\n",
       "      <td>NaN</td>\n",
       "      <td>NaN</td>\n",
       "      <td>NaN</td>\n",
       "      <td>0</td>\n",
       "      <td>5</td>\n",
       "      <td>2007</td>\n",
       "      <td>WD</td>\n",
       "      <td>Normal</td>\n",
       "      <td>181500</td>\n",
       "    </tr>\n",
       "    <tr>\n",
       "      <th>2</th>\n",
       "      <td>3</td>\n",
       "      <td>60</td>\n",
       "      <td>RL</td>\n",
       "      <td>68.0</td>\n",
       "      <td>11250</td>\n",
       "      <td>Pave</td>\n",
       "      <td>NaN</td>\n",
       "      <td>IR1</td>\n",
       "      <td>Lvl</td>\n",
       "      <td>AllPub</td>\n",
       "      <td>...</td>\n",
       "      <td>0</td>\n",
       "      <td>NaN</td>\n",
       "      <td>NaN</td>\n",
       "      <td>NaN</td>\n",
       "      <td>0</td>\n",
       "      <td>9</td>\n",
       "      <td>2008</td>\n",
       "      <td>WD</td>\n",
       "      <td>Normal</td>\n",
       "      <td>223500</td>\n",
       "    </tr>\n",
       "    <tr>\n",
       "      <th>3</th>\n",
       "      <td>4</td>\n",
       "      <td>70</td>\n",
       "      <td>RL</td>\n",
       "      <td>60.0</td>\n",
       "      <td>9550</td>\n",
       "      <td>Pave</td>\n",
       "      <td>NaN</td>\n",
       "      <td>IR1</td>\n",
       "      <td>Lvl</td>\n",
       "      <td>AllPub</td>\n",
       "      <td>...</td>\n",
       "      <td>0</td>\n",
       "      <td>NaN</td>\n",
       "      <td>NaN</td>\n",
       "      <td>NaN</td>\n",
       "      <td>0</td>\n",
       "      <td>2</td>\n",
       "      <td>2006</td>\n",
       "      <td>WD</td>\n",
       "      <td>Abnorml</td>\n",
       "      <td>140000</td>\n",
       "    </tr>\n",
       "    <tr>\n",
       "      <th>4</th>\n",
       "      <td>5</td>\n",
       "      <td>60</td>\n",
       "      <td>RL</td>\n",
       "      <td>84.0</td>\n",
       "      <td>14260</td>\n",
       "      <td>Pave</td>\n",
       "      <td>NaN</td>\n",
       "      <td>IR1</td>\n",
       "      <td>Lvl</td>\n",
       "      <td>AllPub</td>\n",
       "      <td>...</td>\n",
       "      <td>0</td>\n",
       "      <td>NaN</td>\n",
       "      <td>NaN</td>\n",
       "      <td>NaN</td>\n",
       "      <td>0</td>\n",
       "      <td>12</td>\n",
       "      <td>2008</td>\n",
       "      <td>WD</td>\n",
       "      <td>Normal</td>\n",
       "      <td>250000</td>\n",
       "    </tr>\n",
       "  </tbody>\n",
       "</table>\n",
       "<p>5 rows × 81 columns</p>\n",
       "</div>"
      ],
      "text/plain": [
       "   Id  MSSubClass MSZoning  LotFrontage  LotArea Street Alley LotShape  \\\n",
       "0   1          60       RL         65.0     8450   Pave   NaN      Reg   \n",
       "1   2          20       RL         80.0     9600   Pave   NaN      Reg   \n",
       "2   3          60       RL         68.0    11250   Pave   NaN      IR1   \n",
       "3   4          70       RL         60.0     9550   Pave   NaN      IR1   \n",
       "4   5          60       RL         84.0    14260   Pave   NaN      IR1   \n",
       "\n",
       "  LandContour Utilities  ... PoolArea PoolQC Fence MiscFeature MiscVal MoSold  \\\n",
       "0         Lvl    AllPub  ...        0    NaN   NaN         NaN       0      2   \n",
       "1         Lvl    AllPub  ...        0    NaN   NaN         NaN       0      5   \n",
       "2         Lvl    AllPub  ...        0    NaN   NaN         NaN       0      9   \n",
       "3         Lvl    AllPub  ...        0    NaN   NaN         NaN       0      2   \n",
       "4         Lvl    AllPub  ...        0    NaN   NaN         NaN       0     12   \n",
       "\n",
       "  YrSold  SaleType  SaleCondition  SalePrice  \n",
       "0   2008        WD         Normal     208500  \n",
       "1   2007        WD         Normal     181500  \n",
       "2   2008        WD         Normal     223500  \n",
       "3   2006        WD        Abnorml     140000  \n",
       "4   2008        WD         Normal     250000  \n",
       "\n",
       "[5 rows x 81 columns]"
      ]
     },
     "execution_count": 4,
     "metadata": {},
     "output_type": "execute_result"
    }
   ],
   "source": [
    "train_df = pd.read_csv(\"../input/house-prices-advanced-regression-techniques/train.csv\")\n",
    "test_df = pd.read_csv(\"../input/house-prices-advanced-regression-techniques/test.csv\")\n",
    "submission = pd.read_csv(\"../input/house-prices-advanced-regression-techniques/sample_submission.csv\")\n",
    "\n",
    "train_df.head()"
   ]
  },
  {
   "cell_type": "markdown",
   "id": "0ea55a5c",
   "metadata": {
    "papermill": {
     "duration": 0.026105,
     "end_time": "2022-05-26T15:29:18.370506",
     "exception": false,
     "start_time": "2022-05-26T15:29:18.344401",
     "status": "completed"
    },
    "tags": []
   },
   "source": [
    "# Create Baseline"
   ]
  },
  {
   "cell_type": "code",
   "execution_count": 5,
   "id": "d428ca82",
   "metadata": {
    "execution": {
     "iopub.execute_input": "2022-05-26T15:29:18.424466Z",
     "iopub.status.busy": "2022-05-26T15:29:18.423623Z",
     "iopub.status.idle": "2022-05-26T15:29:18.433200Z",
     "shell.execute_reply": "2022-05-26T15:29:18.432231Z"
    },
    "papermill": {
     "duration": 0.037969,
     "end_time": "2022-05-26T15:29:18.435355",
     "exception": false,
     "start_time": "2022-05-26T15:29:18.397386",
     "status": "completed"
    },
    "tags": []
   },
   "outputs": [
    {
     "data": {
      "text/plain": [
       "Id                 int64\n",
       "MSSubClass         int64\n",
       "MSZoning          object\n",
       "LotFrontage      float64\n",
       "LotArea            int64\n",
       "                  ...   \n",
       "MoSold             int64\n",
       "YrSold             int64\n",
       "SaleType          object\n",
       "SaleCondition     object\n",
       "SalePrice          int64\n",
       "Length: 81, dtype: object"
      ]
     },
     "execution_count": 5,
     "metadata": {},
     "output_type": "execute_result"
    }
   ],
   "source": [
    "train_df.dtypes"
   ]
  },
  {
   "cell_type": "code",
   "execution_count": 6,
   "id": "467f3434",
   "metadata": {
    "execution": {
     "iopub.execute_input": "2022-05-26T15:29:18.486685Z",
     "iopub.status.busy": "2022-05-26T15:29:18.485744Z",
     "iopub.status.idle": "2022-05-26T15:29:18.501033Z",
     "shell.execute_reply": "2022-05-26T15:29:18.499990Z"
    },
    "papermill": {
     "duration": 0.043831,
     "end_time": "2022-05-26T15:29:18.503250",
     "exception": false,
     "start_time": "2022-05-26T15:29:18.459419",
     "status": "completed"
    },
    "tags": []
   },
   "outputs": [
    {
     "data": {
      "text/plain": [
       "RL         1151\n",
       "RM          218\n",
       "FV           65\n",
       "RH           16\n",
       "C (all)      10\n",
       "Name: MSZoning, dtype: int64"
      ]
     },
     "execution_count": 6,
     "metadata": {},
     "output_type": "execute_result"
    }
   ],
   "source": [
    "train_df[\"MSZoning\"].value_counts()"
   ]
  },
  {
   "cell_type": "code",
   "execution_count": 7,
   "id": "ebff8919",
   "metadata": {
    "execution": {
     "iopub.execute_input": "2022-05-26T15:29:18.555928Z",
     "iopub.status.busy": "2022-05-26T15:29:18.555480Z",
     "iopub.status.idle": "2022-05-26T15:29:18.615635Z",
     "shell.execute_reply": "2022-05-26T15:29:18.614486Z"
    },
    "papermill": {
     "duration": 0.090529,
     "end_time": "2022-05-26T15:29:18.618095",
     "exception": false,
     "start_time": "2022-05-26T15:29:18.527566",
     "status": "completed"
    },
    "tags": []
   },
   "outputs": [
    {
     "data": {
      "text/html": [
       "<div>\n",
       "<style scoped>\n",
       "    .dataframe tbody tr th:only-of-type {\n",
       "        vertical-align: middle;\n",
       "    }\n",
       "\n",
       "    .dataframe tbody tr th {\n",
       "        vertical-align: top;\n",
       "    }\n",
       "\n",
       "    .dataframe thead th {\n",
       "        text-align: right;\n",
       "    }\n",
       "</style>\n",
       "<table border=\"1\" class=\"dataframe\">\n",
       "  <thead>\n",
       "    <tr style=\"text-align: right;\">\n",
       "      <th></th>\n",
       "      <th>Id</th>\n",
       "      <th>MSSubClass</th>\n",
       "      <th>MSZoning</th>\n",
       "      <th>LotFrontage</th>\n",
       "      <th>LotArea</th>\n",
       "      <th>Street</th>\n",
       "      <th>Alley</th>\n",
       "      <th>LotShape</th>\n",
       "      <th>LandContour</th>\n",
       "      <th>Utilities</th>\n",
       "      <th>...</th>\n",
       "      <th>PoolArea</th>\n",
       "      <th>PoolQC</th>\n",
       "      <th>Fence</th>\n",
       "      <th>MiscFeature</th>\n",
       "      <th>MiscVal</th>\n",
       "      <th>MoSold</th>\n",
       "      <th>YrSold</th>\n",
       "      <th>SaleType</th>\n",
       "      <th>SaleCondition</th>\n",
       "      <th>SalePrice</th>\n",
       "    </tr>\n",
       "  </thead>\n",
       "  <tbody>\n",
       "    <tr>\n",
       "      <th>0</th>\n",
       "      <td>1</td>\n",
       "      <td>60</td>\n",
       "      <td>RL</td>\n",
       "      <td>65.0</td>\n",
       "      <td>8450</td>\n",
       "      <td>Pave</td>\n",
       "      <td>NaN</td>\n",
       "      <td>Reg</td>\n",
       "      <td>Lvl</td>\n",
       "      <td>AllPub</td>\n",
       "      <td>...</td>\n",
       "      <td>0</td>\n",
       "      <td>NaN</td>\n",
       "      <td>NaN</td>\n",
       "      <td>NaN</td>\n",
       "      <td>0</td>\n",
       "      <td>2</td>\n",
       "      <td>2008</td>\n",
       "      <td>WD</td>\n",
       "      <td>Normal</td>\n",
       "      <td>208500.0</td>\n",
       "    </tr>\n",
       "    <tr>\n",
       "      <th>1</th>\n",
       "      <td>2</td>\n",
       "      <td>20</td>\n",
       "      <td>RL</td>\n",
       "      <td>80.0</td>\n",
       "      <td>9600</td>\n",
       "      <td>Pave</td>\n",
       "      <td>NaN</td>\n",
       "      <td>Reg</td>\n",
       "      <td>Lvl</td>\n",
       "      <td>AllPub</td>\n",
       "      <td>...</td>\n",
       "      <td>0</td>\n",
       "      <td>NaN</td>\n",
       "      <td>NaN</td>\n",
       "      <td>NaN</td>\n",
       "      <td>0</td>\n",
       "      <td>5</td>\n",
       "      <td>2007</td>\n",
       "      <td>WD</td>\n",
       "      <td>Normal</td>\n",
       "      <td>181500.0</td>\n",
       "    </tr>\n",
       "    <tr>\n",
       "      <th>2</th>\n",
       "      <td>3</td>\n",
       "      <td>60</td>\n",
       "      <td>RL</td>\n",
       "      <td>68.0</td>\n",
       "      <td>11250</td>\n",
       "      <td>Pave</td>\n",
       "      <td>NaN</td>\n",
       "      <td>IR1</td>\n",
       "      <td>Lvl</td>\n",
       "      <td>AllPub</td>\n",
       "      <td>...</td>\n",
       "      <td>0</td>\n",
       "      <td>NaN</td>\n",
       "      <td>NaN</td>\n",
       "      <td>NaN</td>\n",
       "      <td>0</td>\n",
       "      <td>9</td>\n",
       "      <td>2008</td>\n",
       "      <td>WD</td>\n",
       "      <td>Normal</td>\n",
       "      <td>223500.0</td>\n",
       "    </tr>\n",
       "    <tr>\n",
       "      <th>3</th>\n",
       "      <td>4</td>\n",
       "      <td>70</td>\n",
       "      <td>RL</td>\n",
       "      <td>60.0</td>\n",
       "      <td>9550</td>\n",
       "      <td>Pave</td>\n",
       "      <td>NaN</td>\n",
       "      <td>IR1</td>\n",
       "      <td>Lvl</td>\n",
       "      <td>AllPub</td>\n",
       "      <td>...</td>\n",
       "      <td>0</td>\n",
       "      <td>NaN</td>\n",
       "      <td>NaN</td>\n",
       "      <td>NaN</td>\n",
       "      <td>0</td>\n",
       "      <td>2</td>\n",
       "      <td>2006</td>\n",
       "      <td>WD</td>\n",
       "      <td>Abnorml</td>\n",
       "      <td>140000.0</td>\n",
       "    </tr>\n",
       "    <tr>\n",
       "      <th>4</th>\n",
       "      <td>5</td>\n",
       "      <td>60</td>\n",
       "      <td>RL</td>\n",
       "      <td>84.0</td>\n",
       "      <td>14260</td>\n",
       "      <td>Pave</td>\n",
       "      <td>NaN</td>\n",
       "      <td>IR1</td>\n",
       "      <td>Lvl</td>\n",
       "      <td>AllPub</td>\n",
       "      <td>...</td>\n",
       "      <td>0</td>\n",
       "      <td>NaN</td>\n",
       "      <td>NaN</td>\n",
       "      <td>NaN</td>\n",
       "      <td>0</td>\n",
       "      <td>12</td>\n",
       "      <td>2008</td>\n",
       "      <td>WD</td>\n",
       "      <td>Normal</td>\n",
       "      <td>250000.0</td>\n",
       "    </tr>\n",
       "    <tr>\n",
       "      <th>...</th>\n",
       "      <td>...</td>\n",
       "      <td>...</td>\n",
       "      <td>...</td>\n",
       "      <td>...</td>\n",
       "      <td>...</td>\n",
       "      <td>...</td>\n",
       "      <td>...</td>\n",
       "      <td>...</td>\n",
       "      <td>...</td>\n",
       "      <td>...</td>\n",
       "      <td>...</td>\n",
       "      <td>...</td>\n",
       "      <td>...</td>\n",
       "      <td>...</td>\n",
       "      <td>...</td>\n",
       "      <td>...</td>\n",
       "      <td>...</td>\n",
       "      <td>...</td>\n",
       "      <td>...</td>\n",
       "      <td>...</td>\n",
       "      <td>...</td>\n",
       "    </tr>\n",
       "    <tr>\n",
       "      <th>2914</th>\n",
       "      <td>2915</td>\n",
       "      <td>160</td>\n",
       "      <td>RM</td>\n",
       "      <td>21.0</td>\n",
       "      <td>1936</td>\n",
       "      <td>Pave</td>\n",
       "      <td>NaN</td>\n",
       "      <td>Reg</td>\n",
       "      <td>Lvl</td>\n",
       "      <td>AllPub</td>\n",
       "      <td>...</td>\n",
       "      <td>0</td>\n",
       "      <td>NaN</td>\n",
       "      <td>NaN</td>\n",
       "      <td>NaN</td>\n",
       "      <td>0</td>\n",
       "      <td>6</td>\n",
       "      <td>2006</td>\n",
       "      <td>WD</td>\n",
       "      <td>Normal</td>\n",
       "      <td>NaN</td>\n",
       "    </tr>\n",
       "    <tr>\n",
       "      <th>2915</th>\n",
       "      <td>2916</td>\n",
       "      <td>160</td>\n",
       "      <td>RM</td>\n",
       "      <td>21.0</td>\n",
       "      <td>1894</td>\n",
       "      <td>Pave</td>\n",
       "      <td>NaN</td>\n",
       "      <td>Reg</td>\n",
       "      <td>Lvl</td>\n",
       "      <td>AllPub</td>\n",
       "      <td>...</td>\n",
       "      <td>0</td>\n",
       "      <td>NaN</td>\n",
       "      <td>NaN</td>\n",
       "      <td>NaN</td>\n",
       "      <td>0</td>\n",
       "      <td>4</td>\n",
       "      <td>2006</td>\n",
       "      <td>WD</td>\n",
       "      <td>Abnorml</td>\n",
       "      <td>NaN</td>\n",
       "    </tr>\n",
       "    <tr>\n",
       "      <th>2916</th>\n",
       "      <td>2917</td>\n",
       "      <td>20</td>\n",
       "      <td>RL</td>\n",
       "      <td>160.0</td>\n",
       "      <td>20000</td>\n",
       "      <td>Pave</td>\n",
       "      <td>NaN</td>\n",
       "      <td>Reg</td>\n",
       "      <td>Lvl</td>\n",
       "      <td>AllPub</td>\n",
       "      <td>...</td>\n",
       "      <td>0</td>\n",
       "      <td>NaN</td>\n",
       "      <td>NaN</td>\n",
       "      <td>NaN</td>\n",
       "      <td>0</td>\n",
       "      <td>9</td>\n",
       "      <td>2006</td>\n",
       "      <td>WD</td>\n",
       "      <td>Abnorml</td>\n",
       "      <td>NaN</td>\n",
       "    </tr>\n",
       "    <tr>\n",
       "      <th>2917</th>\n",
       "      <td>2918</td>\n",
       "      <td>85</td>\n",
       "      <td>RL</td>\n",
       "      <td>62.0</td>\n",
       "      <td>10441</td>\n",
       "      <td>Pave</td>\n",
       "      <td>NaN</td>\n",
       "      <td>Reg</td>\n",
       "      <td>Lvl</td>\n",
       "      <td>AllPub</td>\n",
       "      <td>...</td>\n",
       "      <td>0</td>\n",
       "      <td>NaN</td>\n",
       "      <td>MnPrv</td>\n",
       "      <td>Shed</td>\n",
       "      <td>700</td>\n",
       "      <td>7</td>\n",
       "      <td>2006</td>\n",
       "      <td>WD</td>\n",
       "      <td>Normal</td>\n",
       "      <td>NaN</td>\n",
       "    </tr>\n",
       "    <tr>\n",
       "      <th>2918</th>\n",
       "      <td>2919</td>\n",
       "      <td>60</td>\n",
       "      <td>RL</td>\n",
       "      <td>74.0</td>\n",
       "      <td>9627</td>\n",
       "      <td>Pave</td>\n",
       "      <td>NaN</td>\n",
       "      <td>Reg</td>\n",
       "      <td>Lvl</td>\n",
       "      <td>AllPub</td>\n",
       "      <td>...</td>\n",
       "      <td>0</td>\n",
       "      <td>NaN</td>\n",
       "      <td>NaN</td>\n",
       "      <td>NaN</td>\n",
       "      <td>0</td>\n",
       "      <td>11</td>\n",
       "      <td>2006</td>\n",
       "      <td>WD</td>\n",
       "      <td>Normal</td>\n",
       "      <td>NaN</td>\n",
       "    </tr>\n",
       "  </tbody>\n",
       "</table>\n",
       "<p>2919 rows × 81 columns</p>\n",
       "</div>"
      ],
      "text/plain": [
       "        Id  MSSubClass MSZoning  LotFrontage  LotArea Street Alley LotShape  \\\n",
       "0        1          60       RL         65.0     8450   Pave   NaN      Reg   \n",
       "1        2          20       RL         80.0     9600   Pave   NaN      Reg   \n",
       "2        3          60       RL         68.0    11250   Pave   NaN      IR1   \n",
       "3        4          70       RL         60.0     9550   Pave   NaN      IR1   \n",
       "4        5          60       RL         84.0    14260   Pave   NaN      IR1   \n",
       "...    ...         ...      ...          ...      ...    ...   ...      ...   \n",
       "2914  2915         160       RM         21.0     1936   Pave   NaN      Reg   \n",
       "2915  2916         160       RM         21.0     1894   Pave   NaN      Reg   \n",
       "2916  2917          20       RL        160.0    20000   Pave   NaN      Reg   \n",
       "2917  2918          85       RL         62.0    10441   Pave   NaN      Reg   \n",
       "2918  2919          60       RL         74.0     9627   Pave   NaN      Reg   \n",
       "\n",
       "     LandContour Utilities  ... PoolArea PoolQC  Fence MiscFeature MiscVal  \\\n",
       "0            Lvl    AllPub  ...        0    NaN    NaN         NaN       0   \n",
       "1            Lvl    AllPub  ...        0    NaN    NaN         NaN       0   \n",
       "2            Lvl    AllPub  ...        0    NaN    NaN         NaN       0   \n",
       "3            Lvl    AllPub  ...        0    NaN    NaN         NaN       0   \n",
       "4            Lvl    AllPub  ...        0    NaN    NaN         NaN       0   \n",
       "...          ...       ...  ...      ...    ...    ...         ...     ...   \n",
       "2914         Lvl    AllPub  ...        0    NaN    NaN         NaN       0   \n",
       "2915         Lvl    AllPub  ...        0    NaN    NaN         NaN       0   \n",
       "2916         Lvl    AllPub  ...        0    NaN    NaN         NaN       0   \n",
       "2917         Lvl    AllPub  ...        0    NaN  MnPrv        Shed     700   \n",
       "2918         Lvl    AllPub  ...        0    NaN    NaN         NaN       0   \n",
       "\n",
       "     MoSold YrSold  SaleType  SaleCondition  SalePrice  \n",
       "0         2   2008        WD         Normal   208500.0  \n",
       "1         5   2007        WD         Normal   181500.0  \n",
       "2         9   2008        WD         Normal   223500.0  \n",
       "3         2   2006        WD        Abnorml   140000.0  \n",
       "4        12   2008        WD         Normal   250000.0  \n",
       "...     ...    ...       ...            ...        ...  \n",
       "2914      6   2006        WD         Normal        NaN  \n",
       "2915      4   2006        WD        Abnorml        NaN  \n",
       "2916      9   2006        WD        Abnorml        NaN  \n",
       "2917      7   2006        WD         Normal        NaN  \n",
       "2918     11   2006        WD         Normal        NaN  \n",
       "\n",
       "[2919 rows x 81 columns]"
      ]
     },
     "execution_count": 7,
     "metadata": {},
     "output_type": "execute_result"
    }
   ],
   "source": [
    "# Preprocessing after concatenating\n",
    "\n",
    "all_df = pd.concat([train_df, test_df], sort=False).reset_index(drop=True)\n",
    "all_df"
   ]
  },
  {
   "cell_type": "code",
   "execution_count": 8,
   "id": "56aa0388",
   "metadata": {
    "execution": {
     "iopub.execute_input": "2022-05-26T15:29:18.674187Z",
     "iopub.status.busy": "2022-05-26T15:29:18.673146Z",
     "iopub.status.idle": "2022-05-26T15:29:18.682866Z",
     "shell.execute_reply": "2022-05-26T15:29:18.681522Z"
    },
    "papermill": {
     "duration": 0.040171,
     "end_time": "2022-05-26T15:29:18.685448",
     "exception": false,
     "start_time": "2022-05-26T15:29:18.645277",
     "status": "completed"
    },
    "tags": []
   },
   "outputs": [
    {
     "data": {
      "text/plain": [
       "0       208500.0\n",
       "1       181500.0\n",
       "2       223500.0\n",
       "3       140000.0\n",
       "4       250000.0\n",
       "          ...   \n",
       "2914         NaN\n",
       "2915         NaN\n",
       "2916         NaN\n",
       "2917         NaN\n",
       "2918         NaN\n",
       "Name: SalePrice, Length: 2919, dtype: float64"
      ]
     },
     "execution_count": 8,
     "metadata": {},
     "output_type": "execute_result"
    }
   ],
   "source": [
    "all_df[\"SalePrice\"]"
   ]
  },
  {
   "cell_type": "markdown",
   "id": "9463cdf7",
   "metadata": {
    "papermill": {
     "duration": 0.024787,
     "end_time": "2022-05-26T15:29:18.735636",
     "exception": false,
     "start_time": "2022-05-26T15:29:18.710849",
     "status": "completed"
    },
    "tags": []
   },
   "source": [
    "## categorical to quantitative"
   ]
  },
  {
   "cell_type": "code",
   "execution_count": 9,
   "id": "7a6d9bbf",
   "metadata": {
    "execution": {
     "iopub.execute_input": "2022-05-26T15:29:18.788275Z",
     "iopub.status.busy": "2022-05-26T15:29:18.787541Z",
     "iopub.status.idle": "2022-05-26T15:29:18.969221Z",
     "shell.execute_reply": "2022-05-26T15:29:18.968162Z"
    },
    "papermill": {
     "duration": 0.211261,
     "end_time": "2022-05-26T15:29:18.971889",
     "exception": false,
     "start_time": "2022-05-26T15:29:18.760628",
     "status": "completed"
    },
    "tags": []
   },
   "outputs": [],
   "source": [
    "from sklearn.preprocessing import LabelEncoder"
   ]
  },
  {
   "cell_type": "code",
   "execution_count": 10,
   "id": "7ecaf578",
   "metadata": {
    "execution": {
     "iopub.execute_input": "2022-05-26T15:29:19.025688Z",
     "iopub.status.busy": "2022-05-26T15:29:19.024405Z",
     "iopub.status.idle": "2022-05-26T15:29:19.032574Z",
     "shell.execute_reply": "2022-05-26T15:29:19.031434Z"
    },
    "papermill": {
     "duration": 0.036111,
     "end_time": "2022-05-26T15:29:19.034650",
     "exception": false,
     "start_time": "2022-05-26T15:29:18.998539",
     "status": "completed"
    },
    "tags": []
   },
   "outputs": [
    {
     "name": "stdout",
     "output_type": "stream",
     "text": [
      "Index(['MSZoning', 'Street', 'Alley', 'LotShape', 'LandContour', 'Utilities',\n",
      "       'LotConfig', 'LandSlope', 'Neighborhood', 'Condition1', 'Condition2',\n",
      "       'BldgType', 'HouseStyle', 'RoofStyle', 'RoofMatl', 'Exterior1st',\n",
      "       'Exterior2nd', 'MasVnrType', 'ExterQual', 'ExterCond', 'Foundation',\n",
      "       'BsmtQual', 'BsmtCond', 'BsmtExposure', 'BsmtFinType1', 'BsmtFinType2',\n",
      "       'Heating', 'HeatingQC', 'CentralAir', 'Electrical', 'KitchenQual',\n",
      "       'Functional', 'FireplaceQu', 'GarageType', 'GarageFinish', 'GarageQual',\n",
      "       'GarageCond', 'PavedDrive', 'PoolQC', 'Fence', 'MiscFeature',\n",
      "       'SaleType', 'SaleCondition'],\n",
      "      dtype='object')\n"
     ]
    }
   ],
   "source": [
    "# categorical to quantitative\n",
    "\n",
    "categories = all_df.columns[all_df.dtypes == \"object\"]\n",
    "print(categories)"
   ]
  },
  {
   "cell_type": "code",
   "execution_count": 11,
   "id": "7632e638",
   "metadata": {
    "execution": {
     "iopub.execute_input": "2022-05-26T15:29:19.086565Z",
     "iopub.status.busy": "2022-05-26T15:29:19.085531Z",
     "iopub.status.idle": "2022-05-26T15:29:19.095277Z",
     "shell.execute_reply": "2022-05-26T15:29:19.094134Z"
    },
    "papermill": {
     "duration": 0.03839,
     "end_time": "2022-05-26T15:29:19.097673",
     "exception": false,
     "start_time": "2022-05-26T15:29:19.059283",
     "status": "completed"
    },
    "tags": []
   },
   "outputs": [
    {
     "data": {
      "text/plain": [
       "Grvl    120\n",
       "Pave     78\n",
       "Name: Alley, dtype: int64"
      ]
     },
     "execution_count": 11,
     "metadata": {},
     "output_type": "execute_result"
    }
   ],
   "source": [
    "all_df[\"Alley\"].value_counts()"
   ]
  },
  {
   "cell_type": "code",
   "execution_count": 12,
   "id": "a91bc283",
   "metadata": {
    "execution": {
     "iopub.execute_input": "2022-05-26T15:29:19.151804Z",
     "iopub.status.busy": "2022-05-26T15:29:19.151330Z",
     "iopub.status.idle": "2022-05-26T15:29:19.293395Z",
     "shell.execute_reply": "2022-05-26T15:29:19.292223Z"
    },
    "papermill": {
     "duration": 0.171888,
     "end_time": "2022-05-26T15:29:19.296432",
     "exception": false,
     "start_time": "2022-05-26T15:29:19.124544",
     "status": "completed"
    },
    "tags": []
   },
   "outputs": [
    {
     "name": "stdout",
     "output_type": "stream",
     "text": [
      "MSZoning\n",
      "Street\n",
      "Alley\n",
      "LotShape\n",
      "LandContour\n",
      "Utilities\n",
      "LotConfig\n",
      "LandSlope\n",
      "Neighborhood\n",
      "Condition1\n",
      "Condition2\n",
      "BldgType\n",
      "HouseStyle\n",
      "RoofStyle\n",
      "RoofMatl\n",
      "Exterior1st\n",
      "Exterior2nd\n",
      "MasVnrType\n",
      "ExterQual\n",
      "ExterCond\n",
      "Foundation\n",
      "BsmtQual\n",
      "BsmtCond\n",
      "BsmtExposure\n",
      "BsmtFinType1\n",
      "BsmtFinType2\n",
      "Heating\n",
      "HeatingQC\n",
      "CentralAir\n",
      "Electrical\n",
      "KitchenQual\n",
      "Functional\n",
      "FireplaceQu\n",
      "GarageType\n",
      "GarageFinish\n",
      "GarageQual\n",
      "GarageCond\n",
      "PavedDrive\n",
      "PoolQC\n",
      "Fence\n",
      "MiscFeature\n",
      "SaleType\n",
      "SaleCondition\n"
     ]
    }
   ],
   "source": [
    "# replace missing values\n",
    "\n",
    "for cat in categories:\n",
    "    le = LabelEncoder()\n",
    "    print(cat)\n",
    "    \n",
    "    all_df[cat].fillna(\"missing\", inplace=True)\n",
    "    le = le.fit(all_df[cat])\n",
    "    all_df[cat] = le.transform(all_df[cat])\n",
    "    all_df[cat] = all_df[cat].astype(\"category\")"
   ]
  },
  {
   "cell_type": "code",
   "execution_count": 13,
   "id": "45db443c",
   "metadata": {
    "execution": {
     "iopub.execute_input": "2022-05-26T15:29:19.347978Z",
     "iopub.status.busy": "2022-05-26T15:29:19.347408Z",
     "iopub.status.idle": "2022-05-26T15:29:19.383302Z",
     "shell.execute_reply": "2022-05-26T15:29:19.382515Z"
    },
    "papermill": {
     "duration": 0.064295,
     "end_time": "2022-05-26T15:29:19.385527",
     "exception": false,
     "start_time": "2022-05-26T15:29:19.321232",
     "status": "completed"
    },
    "tags": []
   },
   "outputs": [
    {
     "data": {
      "text/html": [
       "<div>\n",
       "<style scoped>\n",
       "    .dataframe tbody tr th:only-of-type {\n",
       "        vertical-align: middle;\n",
       "    }\n",
       "\n",
       "    .dataframe tbody tr th {\n",
       "        vertical-align: top;\n",
       "    }\n",
       "\n",
       "    .dataframe thead th {\n",
       "        text-align: right;\n",
       "    }\n",
       "</style>\n",
       "<table border=\"1\" class=\"dataframe\">\n",
       "  <thead>\n",
       "    <tr style=\"text-align: right;\">\n",
       "      <th></th>\n",
       "      <th>Id</th>\n",
       "      <th>MSSubClass</th>\n",
       "      <th>MSZoning</th>\n",
       "      <th>LotFrontage</th>\n",
       "      <th>LotArea</th>\n",
       "      <th>Street</th>\n",
       "      <th>Alley</th>\n",
       "      <th>LotShape</th>\n",
       "      <th>LandContour</th>\n",
       "      <th>Utilities</th>\n",
       "      <th>...</th>\n",
       "      <th>PoolArea</th>\n",
       "      <th>PoolQC</th>\n",
       "      <th>Fence</th>\n",
       "      <th>MiscFeature</th>\n",
       "      <th>MiscVal</th>\n",
       "      <th>MoSold</th>\n",
       "      <th>YrSold</th>\n",
       "      <th>SaleType</th>\n",
       "      <th>SaleCondition</th>\n",
       "      <th>SalePrice</th>\n",
       "    </tr>\n",
       "  </thead>\n",
       "  <tbody>\n",
       "    <tr>\n",
       "      <th>0</th>\n",
       "      <td>1</td>\n",
       "      <td>60</td>\n",
       "      <td>3</td>\n",
       "      <td>65.0</td>\n",
       "      <td>8450</td>\n",
       "      <td>1</td>\n",
       "      <td>2</td>\n",
       "      <td>3</td>\n",
       "      <td>3</td>\n",
       "      <td>0</td>\n",
       "      <td>...</td>\n",
       "      <td>0</td>\n",
       "      <td>3</td>\n",
       "      <td>4</td>\n",
       "      <td>4</td>\n",
       "      <td>0</td>\n",
       "      <td>2</td>\n",
       "      <td>2008</td>\n",
       "      <td>8</td>\n",
       "      <td>4</td>\n",
       "      <td>208500.0</td>\n",
       "    </tr>\n",
       "    <tr>\n",
       "      <th>1</th>\n",
       "      <td>2</td>\n",
       "      <td>20</td>\n",
       "      <td>3</td>\n",
       "      <td>80.0</td>\n",
       "      <td>9600</td>\n",
       "      <td>1</td>\n",
       "      <td>2</td>\n",
       "      <td>3</td>\n",
       "      <td>3</td>\n",
       "      <td>0</td>\n",
       "      <td>...</td>\n",
       "      <td>0</td>\n",
       "      <td>3</td>\n",
       "      <td>4</td>\n",
       "      <td>4</td>\n",
       "      <td>0</td>\n",
       "      <td>5</td>\n",
       "      <td>2007</td>\n",
       "      <td>8</td>\n",
       "      <td>4</td>\n",
       "      <td>181500.0</td>\n",
       "    </tr>\n",
       "    <tr>\n",
       "      <th>2</th>\n",
       "      <td>3</td>\n",
       "      <td>60</td>\n",
       "      <td>3</td>\n",
       "      <td>68.0</td>\n",
       "      <td>11250</td>\n",
       "      <td>1</td>\n",
       "      <td>2</td>\n",
       "      <td>0</td>\n",
       "      <td>3</td>\n",
       "      <td>0</td>\n",
       "      <td>...</td>\n",
       "      <td>0</td>\n",
       "      <td>3</td>\n",
       "      <td>4</td>\n",
       "      <td>4</td>\n",
       "      <td>0</td>\n",
       "      <td>9</td>\n",
       "      <td>2008</td>\n",
       "      <td>8</td>\n",
       "      <td>4</td>\n",
       "      <td>223500.0</td>\n",
       "    </tr>\n",
       "    <tr>\n",
       "      <th>3</th>\n",
       "      <td>4</td>\n",
       "      <td>70</td>\n",
       "      <td>3</td>\n",
       "      <td>60.0</td>\n",
       "      <td>9550</td>\n",
       "      <td>1</td>\n",
       "      <td>2</td>\n",
       "      <td>0</td>\n",
       "      <td>3</td>\n",
       "      <td>0</td>\n",
       "      <td>...</td>\n",
       "      <td>0</td>\n",
       "      <td>3</td>\n",
       "      <td>4</td>\n",
       "      <td>4</td>\n",
       "      <td>0</td>\n",
       "      <td>2</td>\n",
       "      <td>2006</td>\n",
       "      <td>8</td>\n",
       "      <td>0</td>\n",
       "      <td>140000.0</td>\n",
       "    </tr>\n",
       "    <tr>\n",
       "      <th>4</th>\n",
       "      <td>5</td>\n",
       "      <td>60</td>\n",
       "      <td>3</td>\n",
       "      <td>84.0</td>\n",
       "      <td>14260</td>\n",
       "      <td>1</td>\n",
       "      <td>2</td>\n",
       "      <td>0</td>\n",
       "      <td>3</td>\n",
       "      <td>0</td>\n",
       "      <td>...</td>\n",
       "      <td>0</td>\n",
       "      <td>3</td>\n",
       "      <td>4</td>\n",
       "      <td>4</td>\n",
       "      <td>0</td>\n",
       "      <td>12</td>\n",
       "      <td>2008</td>\n",
       "      <td>8</td>\n",
       "      <td>4</td>\n",
       "      <td>250000.0</td>\n",
       "    </tr>\n",
       "    <tr>\n",
       "      <th>...</th>\n",
       "      <td>...</td>\n",
       "      <td>...</td>\n",
       "      <td>...</td>\n",
       "      <td>...</td>\n",
       "      <td>...</td>\n",
       "      <td>...</td>\n",
       "      <td>...</td>\n",
       "      <td>...</td>\n",
       "      <td>...</td>\n",
       "      <td>...</td>\n",
       "      <td>...</td>\n",
       "      <td>...</td>\n",
       "      <td>...</td>\n",
       "      <td>...</td>\n",
       "      <td>...</td>\n",
       "      <td>...</td>\n",
       "      <td>...</td>\n",
       "      <td>...</td>\n",
       "      <td>...</td>\n",
       "      <td>...</td>\n",
       "      <td>...</td>\n",
       "    </tr>\n",
       "    <tr>\n",
       "      <th>2914</th>\n",
       "      <td>2915</td>\n",
       "      <td>160</td>\n",
       "      <td>4</td>\n",
       "      <td>21.0</td>\n",
       "      <td>1936</td>\n",
       "      <td>1</td>\n",
       "      <td>2</td>\n",
       "      <td>3</td>\n",
       "      <td>3</td>\n",
       "      <td>0</td>\n",
       "      <td>...</td>\n",
       "      <td>0</td>\n",
       "      <td>3</td>\n",
       "      <td>4</td>\n",
       "      <td>4</td>\n",
       "      <td>0</td>\n",
       "      <td>6</td>\n",
       "      <td>2006</td>\n",
       "      <td>8</td>\n",
       "      <td>4</td>\n",
       "      <td>NaN</td>\n",
       "    </tr>\n",
       "    <tr>\n",
       "      <th>2915</th>\n",
       "      <td>2916</td>\n",
       "      <td>160</td>\n",
       "      <td>4</td>\n",
       "      <td>21.0</td>\n",
       "      <td>1894</td>\n",
       "      <td>1</td>\n",
       "      <td>2</td>\n",
       "      <td>3</td>\n",
       "      <td>3</td>\n",
       "      <td>0</td>\n",
       "      <td>...</td>\n",
       "      <td>0</td>\n",
       "      <td>3</td>\n",
       "      <td>4</td>\n",
       "      <td>4</td>\n",
       "      <td>0</td>\n",
       "      <td>4</td>\n",
       "      <td>2006</td>\n",
       "      <td>8</td>\n",
       "      <td>0</td>\n",
       "      <td>NaN</td>\n",
       "    </tr>\n",
       "    <tr>\n",
       "      <th>2916</th>\n",
       "      <td>2917</td>\n",
       "      <td>20</td>\n",
       "      <td>3</td>\n",
       "      <td>160.0</td>\n",
       "      <td>20000</td>\n",
       "      <td>1</td>\n",
       "      <td>2</td>\n",
       "      <td>3</td>\n",
       "      <td>3</td>\n",
       "      <td>0</td>\n",
       "      <td>...</td>\n",
       "      <td>0</td>\n",
       "      <td>3</td>\n",
       "      <td>4</td>\n",
       "      <td>4</td>\n",
       "      <td>0</td>\n",
       "      <td>9</td>\n",
       "      <td>2006</td>\n",
       "      <td>8</td>\n",
       "      <td>0</td>\n",
       "      <td>NaN</td>\n",
       "    </tr>\n",
       "    <tr>\n",
       "      <th>2917</th>\n",
       "      <td>2918</td>\n",
       "      <td>85</td>\n",
       "      <td>3</td>\n",
       "      <td>62.0</td>\n",
       "      <td>10441</td>\n",
       "      <td>1</td>\n",
       "      <td>2</td>\n",
       "      <td>3</td>\n",
       "      <td>3</td>\n",
       "      <td>0</td>\n",
       "      <td>...</td>\n",
       "      <td>0</td>\n",
       "      <td>3</td>\n",
       "      <td>2</td>\n",
       "      <td>2</td>\n",
       "      <td>700</td>\n",
       "      <td>7</td>\n",
       "      <td>2006</td>\n",
       "      <td>8</td>\n",
       "      <td>4</td>\n",
       "      <td>NaN</td>\n",
       "    </tr>\n",
       "    <tr>\n",
       "      <th>2918</th>\n",
       "      <td>2919</td>\n",
       "      <td>60</td>\n",
       "      <td>3</td>\n",
       "      <td>74.0</td>\n",
       "      <td>9627</td>\n",
       "      <td>1</td>\n",
       "      <td>2</td>\n",
       "      <td>3</td>\n",
       "      <td>3</td>\n",
       "      <td>0</td>\n",
       "      <td>...</td>\n",
       "      <td>0</td>\n",
       "      <td>3</td>\n",
       "      <td>4</td>\n",
       "      <td>4</td>\n",
       "      <td>0</td>\n",
       "      <td>11</td>\n",
       "      <td>2006</td>\n",
       "      <td>8</td>\n",
       "      <td>4</td>\n",
       "      <td>NaN</td>\n",
       "    </tr>\n",
       "  </tbody>\n",
       "</table>\n",
       "<p>2919 rows × 81 columns</p>\n",
       "</div>"
      ],
      "text/plain": [
       "        Id  MSSubClass MSZoning  LotFrontage  LotArea Street Alley LotShape  \\\n",
       "0        1          60        3         65.0     8450      1     2        3   \n",
       "1        2          20        3         80.0     9600      1     2        3   \n",
       "2        3          60        3         68.0    11250      1     2        0   \n",
       "3        4          70        3         60.0     9550      1     2        0   \n",
       "4        5          60        3         84.0    14260      1     2        0   \n",
       "...    ...         ...      ...          ...      ...    ...   ...      ...   \n",
       "2914  2915         160        4         21.0     1936      1     2        3   \n",
       "2915  2916         160        4         21.0     1894      1     2        3   \n",
       "2916  2917          20        3        160.0    20000      1     2        3   \n",
       "2917  2918          85        3         62.0    10441      1     2        3   \n",
       "2918  2919          60        3         74.0     9627      1     2        3   \n",
       "\n",
       "     LandContour Utilities  ... PoolArea PoolQC Fence MiscFeature MiscVal  \\\n",
       "0              3         0  ...        0      3     4           4       0   \n",
       "1              3         0  ...        0      3     4           4       0   \n",
       "2              3         0  ...        0      3     4           4       0   \n",
       "3              3         0  ...        0      3     4           4       0   \n",
       "4              3         0  ...        0      3     4           4       0   \n",
       "...          ...       ...  ...      ...    ...   ...         ...     ...   \n",
       "2914           3         0  ...        0      3     4           4       0   \n",
       "2915           3         0  ...        0      3     4           4       0   \n",
       "2916           3         0  ...        0      3     4           4       0   \n",
       "2917           3         0  ...        0      3     2           2     700   \n",
       "2918           3         0  ...        0      3     4           4       0   \n",
       "\n",
       "     MoSold YrSold  SaleType  SaleCondition  SalePrice  \n",
       "0         2   2008         8              4   208500.0  \n",
       "1         5   2007         8              4   181500.0  \n",
       "2         9   2008         8              4   223500.0  \n",
       "3         2   2006         8              0   140000.0  \n",
       "4        12   2008         8              4   250000.0  \n",
       "...     ...    ...       ...            ...        ...  \n",
       "2914      6   2006         8              4        NaN  \n",
       "2915      4   2006         8              0        NaN  \n",
       "2916      9   2006         8              0        NaN  \n",
       "2917      7   2006         8              4        NaN  \n",
       "2918     11   2006         8              4        NaN  \n",
       "\n",
       "[2919 rows x 81 columns]"
      ]
     },
     "execution_count": 13,
     "metadata": {},
     "output_type": "execute_result"
    }
   ],
   "source": [
    "all_df"
   ]
  },
  {
   "cell_type": "code",
   "execution_count": 14,
   "id": "17d0cff6",
   "metadata": {
    "execution": {
     "iopub.execute_input": "2022-05-26T15:29:19.443313Z",
     "iopub.status.busy": "2022-05-26T15:29:19.442879Z",
     "iopub.status.idle": "2022-05-26T15:29:19.452617Z",
     "shell.execute_reply": "2022-05-26T15:29:19.451729Z"
    },
    "papermill": {
     "duration": 0.041191,
     "end_time": "2022-05-26T15:29:19.455128",
     "exception": false,
     "start_time": "2022-05-26T15:29:19.413937",
     "status": "completed"
    },
    "tags": []
   },
   "outputs": [],
   "source": [
    "# back to train and test df\n",
    "\n",
    "train_df_le = all_df[~all_df[\"SalePrice\"].isnull()]\n",
    "test_df_le = all_df[all_df[\"SalePrice\"].isnull()]"
   ]
  },
  {
   "cell_type": "code",
   "execution_count": 15,
   "id": "3ba68f68",
   "metadata": {
    "execution": {
     "iopub.execute_input": "2022-05-26T15:29:19.514236Z",
     "iopub.status.busy": "2022-05-26T15:29:19.513535Z",
     "iopub.status.idle": "2022-05-26T15:29:20.599678Z",
     "shell.execute_reply": "2022-05-26T15:29:20.598498Z"
    },
    "papermill": {
     "duration": 1.118603,
     "end_time": "2022-05-26T15:29:20.602394",
     "exception": false,
     "start_time": "2022-05-26T15:29:19.483791",
     "status": "completed"
    },
    "tags": []
   },
   "outputs": [
    {
     "data": {
      "text/html": [
       "<style type='text/css'>\n",
       ".datatable table.frame { margin-bottom: 0; }\n",
       ".datatable table.frame thead { border-bottom: none; }\n",
       ".datatable table.frame tr.coltypes td {  color: #FFFFFF;  line-height: 6px;  padding: 0 0.5em;}\n",
       ".datatable .bool    { background: #DDDD99; }\n",
       ".datatable .object  { background: #565656; }\n",
       ".datatable .int     { background: #5D9E5D; }\n",
       ".datatable .float   { background: #4040CC; }\n",
       ".datatable .str     { background: #CC4040; }\n",
       ".datatable .time    { background: #40CC40; }\n",
       ".datatable .row_index {  background: var(--jp-border-color3);  border-right: 1px solid var(--jp-border-color0);  color: var(--jp-ui-font-color3);  font-size: 9px;}\n",
       ".datatable .frame tbody td { text-align: left; }\n",
       ".datatable .frame tr.coltypes .row_index {  background: var(--jp-border-color0);}\n",
       ".datatable th:nth-child(2) { padding-left: 12px; }\n",
       ".datatable .hellipsis {  color: var(--jp-cell-editor-border-color);}\n",
       ".datatable .vellipsis {  background: var(--jp-layout-color0);  color: var(--jp-cell-editor-border-color);}\n",
       ".datatable .na {  color: var(--jp-cell-editor-border-color);  font-size: 80%;}\n",
       ".datatable .sp {  opacity: 0.25;}\n",
       ".datatable .footer { font-size: 9px; }\n",
       ".datatable .frame_dimensions {  background: var(--jp-border-color3);  border-top: 1px solid var(--jp-border-color0);  color: var(--jp-ui-font-color3);  display: inline-block;  opacity: 0.6;  padding: 1px 10px 1px 5px;}\n",
       "</style>\n"
      ],
      "text/plain": [
       "<IPython.core.display.HTML object>"
      ]
     },
     "metadata": {},
     "output_type": "display_data"
    }
   ],
   "source": [
    "import lightgbm as lgb"
   ]
  },
  {
   "cell_type": "markdown",
   "id": "f4e07345",
   "metadata": {
    "papermill": {
     "duration": 0.02551,
     "end_time": "2022-05-26T15:29:20.654708",
     "exception": false,
     "start_time": "2022-05-26T15:29:20.629198",
     "status": "completed"
    },
    "tags": []
   },
   "source": [
    "## Cross validation"
   ]
  },
  {
   "cell_type": "code",
   "execution_count": 16,
   "id": "c3757bc7",
   "metadata": {
    "execution": {
     "iopub.execute_input": "2022-05-26T15:29:20.709619Z",
     "iopub.status.busy": "2022-05-26T15:29:20.708795Z",
     "iopub.status.idle": "2022-05-26T15:29:20.714291Z",
     "shell.execute_reply": "2022-05-26T15:29:20.713331Z"
    },
    "papermill": {
     "duration": 0.035683,
     "end_time": "2022-05-26T15:29:20.716644",
     "exception": false,
     "start_time": "2022-05-26T15:29:20.680961",
     "status": "completed"
    },
    "tags": []
   },
   "outputs": [],
   "source": [
    "from sklearn.model_selection import KFold\n",
    "\n",
    "folds = 3\n",
    "kf = KFold(n_splits = folds)"
   ]
  },
  {
   "cell_type": "code",
   "execution_count": 17,
   "id": "c7ebec70",
   "metadata": {
    "execution": {
     "iopub.execute_input": "2022-05-26T15:29:20.774331Z",
     "iopub.status.busy": "2022-05-26T15:29:20.773912Z",
     "iopub.status.idle": "2022-05-26T15:29:20.779211Z",
     "shell.execute_reply": "2022-05-26T15:29:20.778121Z"
    },
    "papermill": {
     "duration": 0.037182,
     "end_time": "2022-05-26T15:29:20.781273",
     "exception": false,
     "start_time": "2022-05-26T15:29:20.744091",
     "status": "completed"
    },
    "tags": []
   },
   "outputs": [],
   "source": [
    "lgbm_params = {\n",
    "    \"objective\": \"regression\",\n",
    "    \"random_seed\": 1234\n",
    "}"
   ]
  },
  {
   "cell_type": "code",
   "execution_count": 18,
   "id": "d07d0baa",
   "metadata": {
    "execution": {
     "iopub.execute_input": "2022-05-26T15:29:20.833804Z",
     "iopub.status.busy": "2022-05-26T15:29:20.833082Z",
     "iopub.status.idle": "2022-05-26T15:29:20.841474Z",
     "shell.execute_reply": "2022-05-26T15:29:20.840530Z"
    },
    "papermill": {
     "duration": 0.036749,
     "end_time": "2022-05-26T15:29:20.843458",
     "exception": false,
     "start_time": "2022-05-26T15:29:20.806709",
     "status": "completed"
    },
    "tags": []
   },
   "outputs": [],
   "source": [
    "train_X = train_df_le.drop([\"SalePrice\", \"Id\"], axis=1)\n",
    "train_Y = train_df_le[\"SalePrice\"]"
   ]
  },
  {
   "cell_type": "code",
   "execution_count": 19,
   "id": "dfc08667",
   "metadata": {
    "execution": {
     "iopub.execute_input": "2022-05-26T15:29:20.897877Z",
     "iopub.status.busy": "2022-05-26T15:29:20.897473Z",
     "iopub.status.idle": "2022-05-26T15:29:20.901410Z",
     "shell.execute_reply": "2022-05-26T15:29:20.900627Z"
    },
    "papermill": {
     "duration": 0.033861,
     "end_time": "2022-05-26T15:29:20.903414",
     "exception": false,
     "start_time": "2022-05-26T15:29:20.869553",
     "status": "completed"
    },
    "tags": []
   },
   "outputs": [],
   "source": [
    "from sklearn.metrics import mean_squared_error"
   ]
  },
  {
   "cell_type": "code",
   "execution_count": 20,
   "id": "4c4e5264",
   "metadata": {
    "execution": {
     "iopub.execute_input": "2022-05-26T15:29:20.962452Z",
     "iopub.status.busy": "2022-05-26T15:29:20.961825Z",
     "iopub.status.idle": "2022-05-26T15:29:21.910601Z",
     "shell.execute_reply": "2022-05-26T15:29:21.909772Z"
    },
    "papermill": {
     "duration": 0.981382,
     "end_time": "2022-05-26T15:29:21.913215",
     "exception": false,
     "start_time": "2022-05-26T15:29:20.931833",
     "status": "completed"
    },
    "tags": []
   },
   "outputs": [
    {
     "name": "stderr",
     "output_type": "stream",
     "text": [
      "/opt/conda/lib/python3.7/site-packages/lightgbm/engine.py:181: UserWarning: 'early_stopping_rounds' argument is deprecated and will be removed in a future release of LightGBM. Pass 'early_stopping()' callback via 'callbacks' argument instead.\n",
      "  _log_warning(\"'early_stopping_rounds' argument is deprecated and will be removed in a future release of LightGBM. \"\n",
      "/opt/conda/lib/python3.7/site-packages/lightgbm/engine.py:239: UserWarning: 'verbose_eval' argument is deprecated and will be removed in a future release of LightGBM. Pass 'log_evaluation()' callback via 'callbacks' argument instead.\n",
      "  _log_warning(\"'verbose_eval' argument is deprecated and will be removed in a future release of LightGBM. \"\n",
      "/opt/conda/lib/python3.7/site-packages/lightgbm/basic.py:1780: UserWarning: Overriding the parameters from Reference Dataset.\n",
      "  _log_warning('Overriding the parameters from Reference Dataset.')\n",
      "/opt/conda/lib/python3.7/site-packages/lightgbm/basic.py:1513: UserWarning: categorical_column in param dict is overridden.\n",
      "  _log_warning(f'{cat_alias} in param dict is overridden.')\n"
     ]
    },
    {
     "name": "stdout",
     "output_type": "stream",
     "text": [
      "[LightGBM] [Warning] Auto-choosing col-wise multi-threading, the overhead of testing was 0.001851 seconds.\n",
      "You can set `force_col_wise=true` to remove the overhead.\n",
      "[LightGBM] [Info] Total Bins 2964\n",
      "[LightGBM] [Info] Number of data points in the train set: 973, number of used features: 74\n",
      "[LightGBM] [Info] Start training from score 179726.031860\n",
      "Training until validation scores don't improve for 20 rounds\n",
      "[10]\tvalid_0's l2: 1.57807e+09\n",
      "[20]\tvalid_0's l2: 7.38516e+08\n",
      "[30]\tvalid_0's l2: 5.93255e+08\n",
      "[40]\tvalid_0's l2: 5.6061e+08\n",
      "[50]\tvalid_0's l2: 5.48225e+08\n",
      "[60]\tvalid_0's l2: 5.46182e+08\n",
      "[70]\tvalid_0's l2: 5.51735e+08\n",
      "Early stopping, best iteration is:\n",
      "[55]\tvalid_0's l2: 5.45194e+08\n",
      "0.12719558859476138\n",
      "[LightGBM] [Warning] Auto-choosing col-wise multi-threading, the overhead of testing was 0.001850 seconds.\n",
      "You can set `force_col_wise=true` to remove the overhead.\n",
      "[LightGBM] [Info] Total Bins 2985\n",
      "[LightGBM] [Info] Number of data points in the train set: 973, number of used features: 74\n",
      "[LightGBM] [Info] Start training from score 180923.739979\n",
      "Training until validation scores don't improve for 20 rounds\n",
      "[10]\tvalid_0's l2: 2.089e+09\n",
      "[20]\tvalid_0's l2: 1.22218e+09\n",
      "[30]\tvalid_0's l2: 1.03767e+09\n",
      "[40]\tvalid_0's l2: 9.7989e+08\n",
      "[50]\tvalid_0's l2: 9.47475e+08\n",
      "[60]\tvalid_0's l2: 9.27892e+08\n"
     ]
    },
    {
     "name": "stderr",
     "output_type": "stream",
     "text": [
      "/opt/conda/lib/python3.7/site-packages/lightgbm/engine.py:181: UserWarning: 'early_stopping_rounds' argument is deprecated and will be removed in a future release of LightGBM. Pass 'early_stopping()' callback via 'callbacks' argument instead.\n",
      "  _log_warning(\"'early_stopping_rounds' argument is deprecated and will be removed in a future release of LightGBM. \"\n",
      "/opt/conda/lib/python3.7/site-packages/lightgbm/engine.py:239: UserWarning: 'verbose_eval' argument is deprecated and will be removed in a future release of LightGBM. Pass 'log_evaluation()' callback via 'callbacks' argument instead.\n",
      "  _log_warning(\"'verbose_eval' argument is deprecated and will be removed in a future release of LightGBM. \"\n",
      "/opt/conda/lib/python3.7/site-packages/lightgbm/basic.py:1780: UserWarning: Overriding the parameters from Reference Dataset.\n",
      "  _log_warning('Overriding the parameters from Reference Dataset.')\n",
      "/opt/conda/lib/python3.7/site-packages/lightgbm/basic.py:1513: UserWarning: categorical_column in param dict is overridden.\n",
      "  _log_warning(f'{cat_alias} in param dict is overridden.')\n"
     ]
    },
    {
     "name": "stdout",
     "output_type": "stream",
     "text": [
      "[70]\tvalid_0's l2: 9.20973e+08\n",
      "[80]\tvalid_0's l2: 9.1853e+08\n",
      "[90]\tvalid_0's l2: 9.0149e+08\n",
      "[100]\tvalid_0's l2: 8.97013e+08\n",
      "Did not meet early stopping. Best iteration is:\n",
      "[96]\tvalid_0's l2: 8.96476e+08\n",
      "0.14795399816677407\n",
      "[LightGBM] [Warning] Auto-choosing col-wise multi-threading, the overhead of testing was 0.001874 seconds.\n",
      "You can set `force_col_wise=true` to remove the overhead.\n",
      "[LightGBM] [Info] Total Bins 3005\n",
      "[LightGBM] [Info] Number of data points in the train set: 974, number of used features: 75\n",
      "[LightGBM] [Info] Start training from score 182112.591376\n",
      "Training until validation scores don't improve for 20 rounds\n"
     ]
    },
    {
     "name": "stderr",
     "output_type": "stream",
     "text": [
      "/opt/conda/lib/python3.7/site-packages/lightgbm/engine.py:181: UserWarning: 'early_stopping_rounds' argument is deprecated and will be removed in a future release of LightGBM. Pass 'early_stopping()' callback via 'callbacks' argument instead.\n",
      "  _log_warning(\"'early_stopping_rounds' argument is deprecated and will be removed in a future release of LightGBM. \"\n",
      "/opt/conda/lib/python3.7/site-packages/lightgbm/engine.py:239: UserWarning: 'verbose_eval' argument is deprecated and will be removed in a future release of LightGBM. Pass 'log_evaluation()' callback via 'callbacks' argument instead.\n",
      "  _log_warning(\"'verbose_eval' argument is deprecated and will be removed in a future release of LightGBM. \"\n",
      "/opt/conda/lib/python3.7/site-packages/lightgbm/basic.py:1780: UserWarning: Overriding the parameters from Reference Dataset.\n",
      "  _log_warning('Overriding the parameters from Reference Dataset.')\n",
      "/opt/conda/lib/python3.7/site-packages/lightgbm/basic.py:1513: UserWarning: categorical_column in param dict is overridden.\n",
      "  _log_warning(f'{cat_alias} in param dict is overridden.')\n"
     ]
    },
    {
     "name": "stdout",
     "output_type": "stream",
     "text": [
      "[10]\tvalid_0's l2: 1.80296e+09\n",
      "[20]\tvalid_0's l2: 1.02271e+09\n",
      "[30]\tvalid_0's l2: 8.68838e+08\n",
      "[40]\tvalid_0's l2: 8.41872e+08\n",
      "[50]\tvalid_0's l2: 8.35433e+08\n",
      "[60]\tvalid_0's l2: 8.28083e+08\n",
      "[70]\tvalid_0's l2: 8.25289e+08\n",
      "[80]\tvalid_0's l2: 8.25043e+08\n",
      "Early stopping, best iteration is:\n",
      "[66]\tvalid_0's l2: 8.20654e+08\n",
      "0.1325997570084599\n"
     ]
    }
   ],
   "source": [
    "models = []\n",
    "rmses = []\n",
    "oof = np.zeros(len(train_X))\n",
    "\n",
    "for train_index, val_index in kf.split(train_X):\n",
    "    X_train = train_X.iloc[train_index]\n",
    "    X_valid = train_X.iloc[val_index]\n",
    "    y_train = train_Y.iloc[train_index]\n",
    "    y_valid = train_Y.iloc[val_index]\n",
    "    \n",
    "    lgb_train = lgb.Dataset(X_train, y_train)\n",
    "    lgb_eval = lgb.Dataset(X_valid, y_valid, reference=lgb_train)\n",
    "    \n",
    "    model_lgb = lgb.train(lgbm_params,\n",
    "                         lgb_train,\n",
    "                         valid_sets = lgb_eval,\n",
    "                         num_boost_round = 100, \n",
    "                         early_stopping_rounds = 20,\n",
    "                         verbose_eval=10,\n",
    "                         )\n",
    "    \n",
    "    y_pred = model_lgb.predict(X_valid, num_iteration=model_lgb.best_iteration)\n",
    "    tmp_rmse = np.sqrt(mean_squared_error(np.log(y_valid), np.log(y_pred)))\n",
    "    print(tmp_rmse)\n",
    "    \n",
    "    models.append(model_lgb)\n",
    "    rmses.append(tmp_rmse)\n",
    "    oof[val_index] = y_pred"
   ]
  },
  {
   "cell_type": "code",
   "execution_count": 21,
   "id": "52e841a3",
   "metadata": {
    "execution": {
     "iopub.execute_input": "2022-05-26T15:29:21.970109Z",
     "iopub.status.busy": "2022-05-26T15:29:21.969689Z",
     "iopub.status.idle": "2022-05-26T15:29:21.975355Z",
     "shell.execute_reply": "2022-05-26T15:29:21.974644Z"
    },
    "papermill": {
     "duration": 0.035236,
     "end_time": "2022-05-26T15:29:21.977688",
     "exception": false,
     "start_time": "2022-05-26T15:29:21.942452",
     "status": "completed"
    },
    "tags": []
   },
   "outputs": [
    {
     "data": {
      "text/plain": [
       "0.1359164479233318"
      ]
     },
     "execution_count": 21,
     "metadata": {},
     "output_type": "execute_result"
    }
   ],
   "source": [
    "# average rmse\n",
    "\n",
    "sum(rmses)/len(rmses)"
   ]
  },
  {
   "cell_type": "code",
   "execution_count": 22,
   "id": "cf7a404e",
   "metadata": {
    "execution": {
     "iopub.execute_input": "2022-05-26T15:29:22.033576Z",
     "iopub.status.busy": "2022-05-26T15:29:22.033004Z",
     "iopub.status.idle": "2022-05-26T15:29:22.365969Z",
     "shell.execute_reply": "2022-05-26T15:29:22.364680Z"
    },
    "papermill": {
     "duration": 0.36545,
     "end_time": "2022-05-26T15:29:22.370300",
     "exception": false,
     "start_time": "2022-05-26T15:29:22.004850",
     "status": "completed"
    },
    "tags": []
   },
   "outputs": [
    {
     "data": {
      "text/plain": [
       "<AxesSubplot:>"
      ]
     },
     "execution_count": 22,
     "metadata": {},
     "output_type": "execute_result"
    },
    {
     "data": {
      "image/png": "[encoded data removed]",
      "text/plain": [
       "<Figure size 864x360 with 1 Axes>"
      ]
     },
     "metadata": {},
     "output_type": "display_data"
    }
   ],
   "source": [
    "# actual - pred\n",
    "\n",
    "actual_pred_df = pd.DataFrame({\n",
    "    \"actual\": train_Y,\n",
    "    \"pred\": oof\n",
    "})\n",
    "\n",
    "actual_pred_df.plot(figsize=(12,5))"
   ]
  },
  {
   "cell_type": "markdown",
   "id": "826333c7",
   "metadata": {
    "papermill": {
     "duration": 0.027137,
     "end_time": "2022-05-26T15:29:22.428633",
     "exception": false,
     "start_time": "2022-05-26T15:29:22.401496",
     "status": "completed"
    },
    "tags": []
   },
   "source": [
    "## Feature Importance"
   ]
  },
  {
   "cell_type": "code",
   "execution_count": 23,
   "id": "7a36a76d",
   "metadata": {
    "execution": {
     "iopub.execute_input": "2022-05-26T15:29:22.485874Z",
     "iopub.status.busy": "2022-05-26T15:29:22.485412Z",
     "iopub.status.idle": "2022-05-26T15:29:23.366127Z",
     "shell.execute_reply": "2022-05-26T15:29:23.365107Z"
    },
    "papermill": {
     "duration": 0.913131,
     "end_time": "2022-05-26T15:29:23.369505",
     "exception": false,
     "start_time": "2022-05-26T15:29:22.456374",
     "status": "completed"
    },
    "tags": []
   },
   "outputs": [
    {
     "data": {
      "image/png": "[encoded data removed]",
      "text/plain": [
       "<Figure size 432x288 with 1 Axes>"
      ]
     },
     "metadata": {},
     "output_type": "display_data"
    },
    {
     "data": {
      "image/png": "[encoded data removed]",
      "text/plain": [
       "<Figure size 432x288 with 1 Axes>"
      ]
     },
     "metadata": {},
     "output_type": "display_data"
    },
    {
     "data": {
      "image/png": "[encoded data removed]",
      "text/plain": [
       "<Figure size 432x288 with 1 Axes>"
      ]
     },
     "metadata": {},
     "output_type": "display_data"
    }
   ],
   "source": [
    "for model in models:\n",
    "    lgb.plot_importance(model, importance_type=\"gain\", max_num_features=15)"
   ]
  },
  {
   "cell_type": "markdown",
   "id": "804a1232",
   "metadata": {
    "papermill": {
     "duration": 0.031841,
     "end_time": "2022-05-26T15:29:23.432080",
     "exception": false,
     "start_time": "2022-05-26T15:29:23.400239",
     "status": "completed"
    },
    "tags": []
   },
   "source": [
    "# Preprocessing Target Variable"
   ]
  },
  {
   "cell_type": "code",
   "execution_count": 24,
   "id": "6dcabf08",
   "metadata": {
    "execution": {
     "iopub.execute_input": "2022-05-26T15:29:23.494946Z",
     "iopub.status.busy": "2022-05-26T15:29:23.494197Z",
     "iopub.status.idle": "2022-05-26T15:29:23.507195Z",
     "shell.execute_reply": "2022-05-26T15:29:23.506095Z"
    },
    "papermill": {
     "duration": 0.046767,
     "end_time": "2022-05-26T15:29:23.509473",
     "exception": false,
     "start_time": "2022-05-26T15:29:23.462706",
     "status": "completed"
    },
    "tags": []
   },
   "outputs": [
    {
     "data": {
      "text/plain": [
       "count      1460.000000\n",
       "mean     180921.195890\n",
       "std       79442.502883\n",
       "min       34900.000000\n",
       "25%      129975.000000\n",
       "50%      163000.000000\n",
       "75%      214000.000000\n",
       "max      755000.000000\n",
       "Name: SalePrice, dtype: float64"
      ]
     },
     "execution_count": 24,
     "metadata": {},
     "output_type": "execute_result"
    }
   ],
   "source": [
    "# distribution of the target variable\n",
    "\n",
    "train_df[\"SalePrice\"].describe()"
   ]
  },
  {
   "cell_type": "code",
   "execution_count": 25,
   "id": "775ee0a7",
   "metadata": {
    "execution": {
     "iopub.execute_input": "2022-05-26T15:29:23.572935Z",
     "iopub.status.busy": "2022-05-26T15:29:23.572153Z",
     "iopub.status.idle": "2022-05-26T15:29:23.761997Z",
     "shell.execute_reply": "2022-05-26T15:29:23.760886Z"
    },
    "papermill": {
     "duration": 0.224773,
     "end_time": "2022-05-26T15:29:23.764655",
     "exception": false,
     "start_time": "2022-05-26T15:29:23.539882",
     "status": "completed"
    },
    "tags": []
   },
   "outputs": [
    {
     "data": {
      "text/plain": [
       "<AxesSubplot:ylabel='Frequency'>"
      ]
     },
     "execution_count": 25,
     "metadata": {},
     "output_type": "execute_result"
    },
    {
     "data": {
      "image/png": "[encoded data removed]",
      "text/plain": [
       "<Figure size 432x288 with 1 Axes>"
      ]
     },
     "metadata": {},
     "output_type": "display_data"
    }
   ],
   "source": [
    "train_df[\"SalePrice\"].plot.hist(bins=20)"
   ]
  },
  {
   "cell_type": "code",
   "execution_count": 26,
   "id": "5f717436",
   "metadata": {
    "execution": {
     "iopub.execute_input": "2022-05-26T15:29:23.829011Z",
     "iopub.status.busy": "2022-05-26T15:29:23.828165Z",
     "iopub.status.idle": "2022-05-26T15:29:23.836243Z",
     "shell.execute_reply": "2022-05-26T15:29:23.835574Z"
    },
    "papermill": {
     "duration": 0.042892,
     "end_time": "2022-05-26T15:29:23.838190",
     "exception": false,
     "start_time": "2022-05-26T15:29:23.795298",
     "status": "completed"
    },
    "tags": []
   },
   "outputs": [
    {
     "data": {
      "text/plain": [
       "0       12.247694\n",
       "1       12.109011\n",
       "2       12.317167\n",
       "3       11.849398\n",
       "4       12.429216\n",
       "          ...    \n",
       "1455    12.072541\n",
       "1456    12.254863\n",
       "1457    12.493130\n",
       "1458    11.864462\n",
       "1459    11.901583\n",
       "Name: SalePrice, Length: 1460, dtype: float64"
      ]
     },
     "execution_count": 26,
     "metadata": {},
     "output_type": "execute_result"
    }
   ],
   "source": [
    "np.log(train_df[\"SalePrice\"])"
   ]
  },
  {
   "cell_type": "code",
   "execution_count": 27,
   "id": "04886072",
   "metadata": {
    "execution": {
     "iopub.execute_input": "2022-05-26T15:29:23.905507Z",
     "iopub.status.busy": "2022-05-26T15:29:23.904897Z",
     "iopub.status.idle": "2022-05-26T15:29:24.277124Z",
     "shell.execute_reply": "2022-05-26T15:29:24.275531Z"
    },
    "papermill": {
     "duration": 0.410082,
     "end_time": "2022-05-26T15:29:24.279724",
     "exception": false,
     "start_time": "2022-05-26T15:29:23.869642",
     "status": "completed"
    },
    "tags": []
   },
   "outputs": [
    {
     "data": {
      "text/plain": [
       "<AxesSubplot:ylabel='Frequency'>"
      ]
     },
     "execution_count": 27,
     "metadata": {},
     "output_type": "execute_result"
    },
    {
     "data": {
      "image/png": "[encoded data removed]",
      "text/plain": [
       "<Figure size 432x288 with 1 Axes>"
      ]
     },
     "metadata": {},
     "output_type": "display_data"
    }
   ],
   "source": [
    "np.log(train_df[\"SalePrice\"]).plot.hist(bins=20)"
   ]
  },
  {
   "cell_type": "code",
   "execution_count": 28,
   "id": "0295de33",
   "metadata": {
    "execution": {
     "iopub.execute_input": "2022-05-26T15:29:24.347646Z",
     "iopub.status.busy": "2022-05-26T15:29:24.346932Z",
     "iopub.status.idle": "2022-05-26T15:29:24.357206Z",
     "shell.execute_reply": "2022-05-26T15:29:24.355861Z"
    },
    "papermill": {
     "duration": 0.047886,
     "end_time": "2022-05-26T15:29:24.360599",
     "exception": false,
     "start_time": "2022-05-26T15:29:24.312713",
     "status": "completed"
    },
    "tags": []
   },
   "outputs": [],
   "source": [
    "pd.options.mode.chained_assignment = None\n",
    "train_df_le[\"SalePrice_log\"] = np.log(train_df_le[\"SalePrice\"])\n",
    "\n",
    "train_X = train_df_le.drop([\"SalePrice\", \"SalePrice_log\", \"Id\"], axis=1)\n",
    "train_Y = train_df_le[\"SalePrice_log\"]"
   ]
  },
  {
   "cell_type": "code",
   "execution_count": 29,
   "id": "dc72f226",
   "metadata": {
    "execution": {
     "iopub.execute_input": "2022-05-26T15:29:24.429795Z",
     "iopub.status.busy": "2022-05-26T15:29:24.428506Z",
     "iopub.status.idle": "2022-05-26T15:29:25.381571Z",
     "shell.execute_reply": "2022-05-26T15:29:25.380172Z"
    },
    "papermill": {
     "duration": 0.991548,
     "end_time": "2022-05-26T15:29:25.385415",
     "exception": false,
     "start_time": "2022-05-26T15:29:24.393867",
     "status": "completed"
    },
    "tags": []
   },
   "outputs": [
    {
     "name": "stdout",
     "output_type": "stream",
     "text": [
      "[LightGBM] [Warning] Auto-choosing col-wise multi-threading, the overhead of testing was 0.001969 seconds.\n",
      "You can set `force_col_wise=true` to remove the overhead.\n",
      "[LightGBM] [Info] Total Bins 2964\n",
      "[LightGBM] [Info] Number of data points in the train set: 973, number of used features: 74\n",
      "[LightGBM] [Info] Start training from score 12.017607\n",
      "Training until validation scores don't improve for 20 rounds\n",
      "[10]\tvalid_0's l2: 0.0436707\n",
      "[20]\tvalid_0's l2: 0.0219638\n",
      "[30]\tvalid_0's l2: 0.0178863\n",
      "[40]\tvalid_0's l2: 0.0168272\n",
      "[50]\tvalid_0's l2: 0.0165421\n",
      "[60]\tvalid_0's l2: 0.0164067\n",
      "[70]\tvalid_0's l2: 0.0163235\n",
      "[80]\tvalid_0's l2: 0.0162611\n",
      "[90]\tvalid_0's l2: 0.0162673\n",
      "[100]\tvalid_0's l2: 0.0163207\n",
      "Did not meet early stopping. Best iteration is:\n",
      "[81]\tvalid_0's l2: 0.0162538\n",
      "0.12749050377720023\n",
      "[LightGBM] [Warning] Auto-choosing col-wise multi-threading, the overhead of testing was 0.001865 seconds.\n",
      "You can set `force_col_wise=true` to remove the overhead.\n",
      "[LightGBM] [Info] Total Bins 2985\n",
      "[LightGBM] [Info] Number of data points in the train set: 973, number of used features: 74\n",
      "[LightGBM] [Info] Start training from score 12.025976\n",
      "Training until validation scores don't improve for 20 rounds\n",
      "[10]\tvalid_0's l2: 0.0494901\n",
      "[20]\tvalid_0's l2: 0.028109\n",
      "[30]\tvalid_0's l2: 0.0235203\n",
      "[40]\tvalid_0's l2: 0.0218816\n",
      "[50]\tvalid_0's l2: 0.0212745\n",
      "[60]\tvalid_0's l2: 0.0209102\n",
      "[70]\tvalid_0's l2: 0.0207806\n",
      "[80]\tvalid_0's l2: 0.0206708\n",
      "[90]\tvalid_0's l2: 0.020634\n",
      "[100]\tvalid_0's l2: 0.0206411\n",
      "Did not meet early stopping. Best iteration is:\n",
      "[89]\tvalid_0's l2: 0.0206181\n",
      "0.1435901195442448\n",
      "[LightGBM] [Warning] Auto-choosing row-wise multi-threading, the overhead of testing was 0.000830 seconds.\n",
      "You can set `force_row_wise=true` to remove the overhead.\n",
      "And if memory is not enough, you can set `force_col_wise=true`.\n",
      "[LightGBM] [Info] Total Bins 3005\n",
      "[LightGBM] [Info] Number of data points in the train set: 974, number of used features: 75\n",
      "[LightGBM] [Info] Start training from score 12.028565\n",
      "Training until validation scores don't improve for 20 rounds\n",
      "[10]\tvalid_0's l2: 0.0390113\n",
      "[20]\tvalid_0's l2: 0.0212181\n",
      "[30]\tvalid_0's l2: 0.0176641\n",
      "[40]\tvalid_0's l2: 0.0167935\n",
      "[50]\tvalid_0's l2: 0.016452\n",
      "[60]\tvalid_0's l2: 0.0162947\n",
      "[70]\tvalid_0's l2: 0.0161933\n",
      "[80]\tvalid_0's l2: 0.0162265\n",
      "[90]\tvalid_0's l2: 0.0162094\n",
      "Early stopping, best iteration is:\n",
      "[72]\tvalid_0's l2: 0.0161708\n",
      "0.1271643059371225\n"
     ]
    }
   ],
   "source": [
    "import warnings\n",
    "warnings.filterwarnings(\"ignore\")\n",
    "\n",
    "models = []\n",
    "rmses = []\n",
    "oof = np.zeros(len(train_X))\n",
    "\n",
    "for train_index, val_index in kf.split(train_X):\n",
    "    X_train = train_X.iloc[train_index]\n",
    "    X_valid = train_X.iloc[val_index]\n",
    "    y_train = train_Y.iloc[train_index]\n",
    "    y_valid = train_Y.iloc[val_index]\n",
    "    \n",
    "    lgb_train = lgb.Dataset(X_train, y_train)\n",
    "    lgb_eval = lgb.Dataset(X_valid, y_valid, reference=lgb_train)\n",
    "    \n",
    "    model_lgb = lgb.train(lgbm_params,\n",
    "                         lgb_train,\n",
    "                         valid_sets = lgb_eval,\n",
    "                         num_boost_round = 100, \n",
    "                         early_stopping_rounds = 20,\n",
    "                         verbose_eval=10,\n",
    "                         )\n",
    "    \n",
    "    y_pred = model_lgb.predict(X_valid, num_iteration=model_lgb.best_iteration)\n",
    "    tmp_rmse = np.sqrt(mean_squared_error(y_valid, y_pred))\n",
    "    print(tmp_rmse)\n",
    "    \n",
    "    models.append(model_lgb)\n",
    "    rmses.append(tmp_rmse)\n",
    "    oof[val_index] = y_pred"
   ]
  },
  {
   "cell_type": "code",
   "execution_count": 30,
   "id": "d4dfd94a",
   "metadata": {
    "execution": {
     "iopub.execute_input": "2022-05-26T15:29:25.478140Z",
     "iopub.status.busy": "2022-05-26T15:29:25.477673Z",
     "iopub.status.idle": "2022-05-26T15:29:25.486860Z",
     "shell.execute_reply": "2022-05-26T15:29:25.485811Z"
    },
    "papermill": {
     "duration": 0.056859,
     "end_time": "2022-05-26T15:29:25.490172",
     "exception": false,
     "start_time": "2022-05-26T15:29:25.433313",
     "status": "completed"
    },
    "tags": []
   },
   "outputs": [
    {
     "data": {
      "text/plain": [
       "0.13274830975285581"
      ]
     },
     "execution_count": 30,
     "metadata": {},
     "output_type": "execute_result"
    }
   ],
   "source": [
    "sum(rmses)/len(rmses)"
   ]
  },
  {
   "cell_type": "markdown",
   "id": "8b418c5b",
   "metadata": {
    "papermill": {
     "duration": 0.032326,
     "end_time": "2022-05-26T15:29:25.558335",
     "exception": false,
     "start_time": "2022-05-26T15:29:25.526009",
     "status": "completed"
    },
    "tags": []
   },
   "source": [
    "Lower average RMSE."
   ]
  },
  {
   "cell_type": "markdown",
   "id": "87e57a9e",
   "metadata": {
    "papermill": {
     "duration": 0.03282,
     "end_time": "2022-05-26T15:29:25.623671",
     "exception": false,
     "start_time": "2022-05-26T15:29:25.590851",
     "status": "completed"
    },
    "tags": []
   },
   "source": [
    "# Preprocessing features"
   ]
  },
  {
   "cell_type": "code",
   "execution_count": 31,
   "id": "e73183ff",
   "metadata": {
    "execution": {
     "iopub.execute_input": "2022-05-26T15:29:25.689134Z",
     "iopub.status.busy": "2022-05-26T15:29:25.688757Z",
     "iopub.status.idle": "2022-05-26T15:29:25.715288Z",
     "shell.execute_reply": "2022-05-26T15:29:25.714600Z"
    },
    "papermill": {
     "duration": 0.063353,
     "end_time": "2022-05-26T15:29:25.718791",
     "exception": false,
     "start_time": "2022-05-26T15:29:25.655438",
     "status": "completed"
    },
    "tags": []
   },
   "outputs": [
    {
     "name": "stdout",
     "output_type": "stream",
     "text": [
      "Index(['MSZoning', 'Street', 'Alley', 'LotShape', 'LandContour', 'Utilities',\n",
      "       'LotConfig', 'LandSlope', 'Neighborhood', 'Condition1', 'Condition2',\n",
      "       'BldgType', 'HouseStyle', 'RoofStyle', 'RoofMatl', 'Exterior1st',\n",
      "       'Exterior2nd', 'MasVnrType', 'ExterQual', 'ExterCond', 'Foundation',\n",
      "       'BsmtQual', 'BsmtCond', 'BsmtExposure', 'BsmtFinType1', 'BsmtFinType2',\n",
      "       'Heating', 'HeatingQC', 'CentralAir', 'Electrical', 'KitchenQual',\n",
      "       'Functional', 'FireplaceQu', 'GarageType', 'GarageFinish', 'GarageQual',\n",
      "       'GarageCond', 'PavedDrive', 'PoolQC', 'Fence', 'MiscFeature',\n",
      "       'SaleType', 'SaleCondition'],\n",
      "      dtype='object')\n"
     ]
    }
   ],
   "source": [
    "all_df = pd.concat([train_df, test_df], sort=False).reset_index(drop=True)\n",
    "\n",
    "categories = all_df.columns[all_df.dtypes == \"object\"]\n",
    "print(categories)"
   ]
  },
  {
   "cell_type": "code",
   "execution_count": 32,
   "id": "d5c7a4db",
   "metadata": {
    "execution": {
     "iopub.execute_input": "2022-05-26T15:29:25.786092Z",
     "iopub.status.busy": "2022-05-26T15:29:25.785635Z",
     "iopub.status.idle": "2022-05-26T15:29:25.810168Z",
     "shell.execute_reply": "2022-05-26T15:29:25.809088Z"
    },
    "papermill": {
     "duration": 0.060132,
     "end_time": "2022-05-26T15:29:25.812333",
     "exception": false,
     "start_time": "2022-05-26T15:29:25.752201",
     "status": "completed"
    },
    "tags": []
   },
   "outputs": [
    {
     "data": {
      "text/plain": [
       "PoolQC           2909\n",
       "MiscFeature      2814\n",
       "Alley            2721\n",
       "Fence            2348\n",
       "SalePrice        1459\n",
       "FireplaceQu      1420\n",
       "LotFrontage       486\n",
       "GarageFinish      159\n",
       "GarageQual        159\n",
       "GarageCond        159\n",
       "GarageYrBlt       159\n",
       "GarageType        157\n",
       "BsmtExposure       82\n",
       "BsmtCond           82\n",
       "BsmtQual           81\n",
       "BsmtFinType2       80\n",
       "BsmtFinType1       79\n",
       "MasVnrType         24\n",
       "MasVnrArea         23\n",
       "MSZoning            4\n",
       "Functional          2\n",
       "BsmtHalfBath        2\n",
       "BsmtFullBath        2\n",
       "Utilities           2\n",
       "BsmtFinSF1          1\n",
       "BsmtFinSF2          1\n",
       "SaleType            1\n",
       "Electrical          1\n",
       "GarageCars          1\n",
       "TotalBsmtSF         1\n",
       "GarageArea          1\n",
       "Exterior2nd         1\n",
       "Exterior1st         1\n",
       "KitchenQual         1\n",
       "BsmtUnfSF           1\n",
       "Fireplaces          0\n",
       "TotRmsAbvGrd        0\n",
       "SaleCondition       0\n",
       "OpenPorchSF         0\n",
       "YrSold              0\n",
       "dtype: int64"
      ]
     },
     "execution_count": 32,
     "metadata": {},
     "output_type": "execute_result"
    }
   ],
   "source": [
    "# check top 40 columns with most missing values\n",
    "\n",
    "all_df.isnull().sum().sort_values(ascending=False).head(40)"
   ]
  },
  {
   "cell_type": "code",
   "execution_count": 33,
   "id": "34f159b6",
   "metadata": {
    "execution": {
     "iopub.execute_input": "2022-05-26T15:29:25.880931Z",
     "iopub.status.busy": "2022-05-26T15:29:25.880267Z",
     "iopub.status.idle": "2022-05-26T15:29:25.888245Z",
     "shell.execute_reply": "2022-05-26T15:29:25.887243Z"
    },
    "papermill": {
     "duration": 0.044164,
     "end_time": "2022-05-26T15:29:25.890385",
     "exception": false,
     "start_time": "2022-05-26T15:29:25.846221",
     "status": "completed"
    },
    "tags": []
   },
   "outputs": [
    {
     "data": {
      "text/plain": [
       "Ex    4\n",
       "Gd    4\n",
       "Fa    2\n",
       "Name: PoolQC, dtype: int64"
      ]
     },
     "execution_count": 33,
     "metadata": {},
     "output_type": "execute_result"
    }
   ],
   "source": [
    "# drop PoolQC, MiscFeature, Alley, etc. (pricy housing facilities)\n",
    "\n",
    "all_df.PoolQC.value_counts()"
   ]
  },
  {
   "cell_type": "code",
   "execution_count": 34,
   "id": "2dad09f4",
   "metadata": {
    "execution": {
     "iopub.execute_input": "2022-05-26T15:29:25.957234Z",
     "iopub.status.busy": "2022-05-26T15:29:25.956788Z",
     "iopub.status.idle": "2022-05-26T15:29:25.961142Z",
     "shell.execute_reply": "2022-05-26T15:29:25.960107Z"
    },
    "papermill": {
     "duration": 0.040411,
     "end_time": "2022-05-26T15:29:25.963215",
     "exception": false,
     "start_time": "2022-05-26T15:29:25.922804",
     "status": "completed"
    },
    "tags": []
   },
   "outputs": [],
   "source": [
    "# # manually\n",
    "\n",
    "# all_df.loc[~all_df[\"PoolQC\"].isnull(), \"PoolQC\"] = 1\n",
    "# all_df.loc[all_df[\"PoolQC\"].isnull(), \"PoolQC\"] = 0\n",
    "\n",
    "# all_df.loc[~all_df[\"MiscFeature\"].isnull(), \"MiscFeature\"] = 1\n",
    "# all_df.loc[all_df[\"MiscFeature\"].isnull(), \"MiscFeature\"] = 0\n",
    "\n",
    "# all_df.loc[~all_df[\"Alley\"].isnull(), \"Alley\"] = 1\n",
    "# all_df.loc[all_df[\"Alley\"].isnull(), \"Alley\"] = 0"
   ]
  },
  {
   "cell_type": "code",
   "execution_count": 35,
   "id": "077091db",
   "metadata": {
    "execution": {
     "iopub.execute_input": "2022-05-26T15:29:26.030981Z",
     "iopub.status.busy": "2022-05-26T15:29:26.030544Z",
     "iopub.status.idle": "2022-05-26T15:29:26.049342Z",
     "shell.execute_reply": "2022-05-26T15:29:26.048232Z"
    },
    "papermill": {
     "duration": 0.055184,
     "end_time": "2022-05-26T15:29:26.051731",
     "exception": false,
     "start_time": "2022-05-26T15:29:25.996547",
     "status": "completed"
    },
    "tags": []
   },
   "outputs": [],
   "source": [
    "# using for loops\n",
    "\n",
    "HighFacility_col = [\"PoolQC\", \"MiscFeature\", \"Alley\"]\n",
    "for col in HighFacility_col:\n",
    "    if all_df[col].dtype == \"object\":\n",
    "        if len(all_df[all_df[col].isnull()]) > 0:\n",
    "            all_df.loc[~all_df[col].isnull(), col] = 1\n",
    "            all_df.loc[all_df[col].isnull(), col] = 0"
   ]
  },
  {
   "cell_type": "code",
   "execution_count": 36,
   "id": "8ecbd848",
   "metadata": {
    "execution": {
     "iopub.execute_input": "2022-05-26T15:29:26.118117Z",
     "iopub.status.busy": "2022-05-26T15:29:26.117664Z",
     "iopub.status.idle": "2022-05-26T15:29:26.131573Z",
     "shell.execute_reply": "2022-05-26T15:29:26.130765Z"
    },
    "papermill": {
     "duration": 0.049711,
     "end_time": "2022-05-26T15:29:26.133691",
     "exception": false,
     "start_time": "2022-05-26T15:29:26.083980",
     "status": "completed"
    },
    "tags": []
   },
   "outputs": [
    {
     "data": {
      "text/plain": [
       "0    2615\n",
       "1     295\n",
       "2       9\n",
       "Name: hasHighFacility, dtype: int64"
      ]
     },
     "execution_count": 36,
     "metadata": {},
     "output_type": "execute_result"
    }
   ],
   "source": [
    "all_df[\"hasHighFacility\"] = all_df[\"PoolQC\"] + all_df[\"MiscFeature\"] + all_df[\"Alley\"]\n",
    "all_df[\"hasHighFacility\"] = all_df[\"hasHighFacility\"].astype(int)\n",
    "\n",
    "all_df[\"hasHighFacility\"].value_counts()"
   ]
  },
  {
   "cell_type": "code",
   "execution_count": 37,
   "id": "ab22933a",
   "metadata": {
    "execution": {
     "iopub.execute_input": "2022-05-26T15:29:26.200329Z",
     "iopub.status.busy": "2022-05-26T15:29:26.199904Z",
     "iopub.status.idle": "2022-05-26T15:29:26.207177Z",
     "shell.execute_reply": "2022-05-26T15:29:26.206401Z"
    },
    "papermill": {
     "duration": 0.042981,
     "end_time": "2022-05-26T15:29:26.209072",
     "exception": false,
     "start_time": "2022-05-26T15:29:26.166091",
     "status": "completed"
    },
    "tags": []
   },
   "outputs": [],
   "source": [
    "all_df = all_df.drop([\"PoolQC\", \"MiscFeature\", \"Alley\"], axis=1)"
   ]
  },
  {
   "cell_type": "markdown",
   "id": "649dabd3",
   "metadata": {
    "papermill": {
     "duration": 0.032019,
     "end_time": "2022-05-26T15:29:26.273099",
     "exception": false,
     "start_time": "2022-05-26T15:29:26.241080",
     "status": "completed"
    },
    "tags": []
   },
   "source": [
    "# Removing Outliers"
   ]
  },
  {
   "cell_type": "code",
   "execution_count": 38,
   "id": "302bdbbf",
   "metadata": {
    "execution": {
     "iopub.execute_input": "2022-05-26T15:29:26.340105Z",
     "iopub.status.busy": "2022-05-26T15:29:26.339634Z",
     "iopub.status.idle": "2022-05-26T15:29:26.464275Z",
     "shell.execute_reply": "2022-05-26T15:29:26.463317Z"
    },
    "papermill": {
     "duration": 0.161152,
     "end_time": "2022-05-26T15:29:26.466894",
     "exception": false,
     "start_time": "2022-05-26T15:29:26.305742",
     "status": "completed"
    },
    "tags": []
   },
   "outputs": [
    {
     "data": {
      "text/html": [
       "<div>\n",
       "<style scoped>\n",
       "    .dataframe tbody tr th:only-of-type {\n",
       "        vertical-align: middle;\n",
       "    }\n",
       "\n",
       "    .dataframe tbody tr th {\n",
       "        vertical-align: top;\n",
       "    }\n",
       "\n",
       "    .dataframe thead th {\n",
       "        text-align: right;\n",
       "    }\n",
       "</style>\n",
       "<table border=\"1\" class=\"dataframe\">\n",
       "  <thead>\n",
       "    <tr style=\"text-align: right;\">\n",
       "      <th></th>\n",
       "      <th>count</th>\n",
       "      <th>mean</th>\n",
       "      <th>std</th>\n",
       "      <th>min</th>\n",
       "      <th>25%</th>\n",
       "      <th>50%</th>\n",
       "      <th>75%</th>\n",
       "      <th>max</th>\n",
       "    </tr>\n",
       "  </thead>\n",
       "  <tbody>\n",
       "    <tr>\n",
       "      <th>Id</th>\n",
       "      <td>2919.0</td>\n",
       "      <td>1460.000000</td>\n",
       "      <td>842.787043</td>\n",
       "      <td>1.0</td>\n",
       "      <td>730.5</td>\n",
       "      <td>1460.0</td>\n",
       "      <td>2189.5</td>\n",
       "      <td>2919.0</td>\n",
       "    </tr>\n",
       "    <tr>\n",
       "      <th>MSSubClass</th>\n",
       "      <td>2919.0</td>\n",
       "      <td>57.137718</td>\n",
       "      <td>42.517628</td>\n",
       "      <td>20.0</td>\n",
       "      <td>20.0</td>\n",
       "      <td>50.0</td>\n",
       "      <td>70.0</td>\n",
       "      <td>190.0</td>\n",
       "    </tr>\n",
       "    <tr>\n",
       "      <th>LotFrontage</th>\n",
       "      <td>2433.0</td>\n",
       "      <td>69.305795</td>\n",
       "      <td>23.344905</td>\n",
       "      <td>21.0</td>\n",
       "      <td>59.0</td>\n",
       "      <td>68.0</td>\n",
       "      <td>80.0</td>\n",
       "      <td>313.0</td>\n",
       "    </tr>\n",
       "    <tr>\n",
       "      <th>LotArea</th>\n",
       "      <td>2919.0</td>\n",
       "      <td>10168.114080</td>\n",
       "      <td>7886.996359</td>\n",
       "      <td>1300.0</td>\n",
       "      <td>7478.0</td>\n",
       "      <td>9453.0</td>\n",
       "      <td>11570.0</td>\n",
       "      <td>215245.0</td>\n",
       "    </tr>\n",
       "    <tr>\n",
       "      <th>OverallQual</th>\n",
       "      <td>2919.0</td>\n",
       "      <td>6.089072</td>\n",
       "      <td>1.409947</td>\n",
       "      <td>1.0</td>\n",
       "      <td>5.0</td>\n",
       "      <td>6.0</td>\n",
       "      <td>7.0</td>\n",
       "      <td>10.0</td>\n",
       "    </tr>\n",
       "    <tr>\n",
       "      <th>OverallCond</th>\n",
       "      <td>2919.0</td>\n",
       "      <td>5.564577</td>\n",
       "      <td>1.113131</td>\n",
       "      <td>1.0</td>\n",
       "      <td>5.0</td>\n",
       "      <td>5.0</td>\n",
       "      <td>6.0</td>\n",
       "      <td>9.0</td>\n",
       "    </tr>\n",
       "    <tr>\n",
       "      <th>YearBuilt</th>\n",
       "      <td>2919.0</td>\n",
       "      <td>1971.312778</td>\n",
       "      <td>30.291442</td>\n",
       "      <td>1872.0</td>\n",
       "      <td>1953.5</td>\n",
       "      <td>1973.0</td>\n",
       "      <td>2001.0</td>\n",
       "      <td>2010.0</td>\n",
       "    </tr>\n",
       "    <tr>\n",
       "      <th>YearRemodAdd</th>\n",
       "      <td>2919.0</td>\n",
       "      <td>1984.264474</td>\n",
       "      <td>20.894344</td>\n",
       "      <td>1950.0</td>\n",
       "      <td>1965.0</td>\n",
       "      <td>1993.0</td>\n",
       "      <td>2004.0</td>\n",
       "      <td>2010.0</td>\n",
       "    </tr>\n",
       "    <tr>\n",
       "      <th>MasVnrArea</th>\n",
       "      <td>2896.0</td>\n",
       "      <td>102.201312</td>\n",
       "      <td>179.334253</td>\n",
       "      <td>0.0</td>\n",
       "      <td>0.0</td>\n",
       "      <td>0.0</td>\n",
       "      <td>164.0</td>\n",
       "      <td>1600.0</td>\n",
       "    </tr>\n",
       "    <tr>\n",
       "      <th>BsmtFinSF1</th>\n",
       "      <td>2918.0</td>\n",
       "      <td>441.423235</td>\n",
       "      <td>455.610826</td>\n",
       "      <td>0.0</td>\n",
       "      <td>0.0</td>\n",
       "      <td>368.5</td>\n",
       "      <td>733.0</td>\n",
       "      <td>5644.0</td>\n",
       "    </tr>\n",
       "    <tr>\n",
       "      <th>BsmtFinSF2</th>\n",
       "      <td>2918.0</td>\n",
       "      <td>49.582248</td>\n",
       "      <td>169.205611</td>\n",
       "      <td>0.0</td>\n",
       "      <td>0.0</td>\n",
       "      <td>0.0</td>\n",
       "      <td>0.0</td>\n",
       "      <td>1526.0</td>\n",
       "    </tr>\n",
       "    <tr>\n",
       "      <th>BsmtUnfSF</th>\n",
       "      <td>2918.0</td>\n",
       "      <td>560.772104</td>\n",
       "      <td>439.543659</td>\n",
       "      <td>0.0</td>\n",
       "      <td>220.0</td>\n",
       "      <td>467.0</td>\n",
       "      <td>805.5</td>\n",
       "      <td>2336.0</td>\n",
       "    </tr>\n",
       "    <tr>\n",
       "      <th>TotalBsmtSF</th>\n",
       "      <td>2918.0</td>\n",
       "      <td>1051.777587</td>\n",
       "      <td>440.766258</td>\n",
       "      <td>0.0</td>\n",
       "      <td>793.0</td>\n",
       "      <td>989.5</td>\n",
       "      <td>1302.0</td>\n",
       "      <td>6110.0</td>\n",
       "    </tr>\n",
       "    <tr>\n",
       "      <th>1stFlrSF</th>\n",
       "      <td>2919.0</td>\n",
       "      <td>1159.581706</td>\n",
       "      <td>392.362079</td>\n",
       "      <td>334.0</td>\n",
       "      <td>876.0</td>\n",
       "      <td>1082.0</td>\n",
       "      <td>1387.5</td>\n",
       "      <td>5095.0</td>\n",
       "    </tr>\n",
       "    <tr>\n",
       "      <th>2ndFlrSF</th>\n",
       "      <td>2919.0</td>\n",
       "      <td>336.483727</td>\n",
       "      <td>428.701456</td>\n",
       "      <td>0.0</td>\n",
       "      <td>0.0</td>\n",
       "      <td>0.0</td>\n",
       "      <td>704.0</td>\n",
       "      <td>2065.0</td>\n",
       "    </tr>\n",
       "    <tr>\n",
       "      <th>LowQualFinSF</th>\n",
       "      <td>2919.0</td>\n",
       "      <td>4.694416</td>\n",
       "      <td>46.396825</td>\n",
       "      <td>0.0</td>\n",
       "      <td>0.0</td>\n",
       "      <td>0.0</td>\n",
       "      <td>0.0</td>\n",
       "      <td>1064.0</td>\n",
       "    </tr>\n",
       "    <tr>\n",
       "      <th>GrLivArea</th>\n",
       "      <td>2919.0</td>\n",
       "      <td>1500.759849</td>\n",
       "      <td>506.051045</td>\n",
       "      <td>334.0</td>\n",
       "      <td>1126.0</td>\n",
       "      <td>1444.0</td>\n",
       "      <td>1743.5</td>\n",
       "      <td>5642.0</td>\n",
       "    </tr>\n",
       "    <tr>\n",
       "      <th>BsmtFullBath</th>\n",
       "      <td>2917.0</td>\n",
       "      <td>0.429894</td>\n",
       "      <td>0.524736</td>\n",
       "      <td>0.0</td>\n",
       "      <td>0.0</td>\n",
       "      <td>0.0</td>\n",
       "      <td>1.0</td>\n",
       "      <td>3.0</td>\n",
       "    </tr>\n",
       "    <tr>\n",
       "      <th>BsmtHalfBath</th>\n",
       "      <td>2917.0</td>\n",
       "      <td>0.061364</td>\n",
       "      <td>0.245687</td>\n",
       "      <td>0.0</td>\n",
       "      <td>0.0</td>\n",
       "      <td>0.0</td>\n",
       "      <td>0.0</td>\n",
       "      <td>2.0</td>\n",
       "    </tr>\n",
       "    <tr>\n",
       "      <th>FullBath</th>\n",
       "      <td>2919.0</td>\n",
       "      <td>1.568003</td>\n",
       "      <td>0.552969</td>\n",
       "      <td>0.0</td>\n",
       "      <td>1.0</td>\n",
       "      <td>2.0</td>\n",
       "      <td>2.0</td>\n",
       "      <td>4.0</td>\n",
       "    </tr>\n",
       "    <tr>\n",
       "      <th>HalfBath</th>\n",
       "      <td>2919.0</td>\n",
       "      <td>0.380267</td>\n",
       "      <td>0.502872</td>\n",
       "      <td>0.0</td>\n",
       "      <td>0.0</td>\n",
       "      <td>0.0</td>\n",
       "      <td>1.0</td>\n",
       "      <td>2.0</td>\n",
       "    </tr>\n",
       "    <tr>\n",
       "      <th>BedroomAbvGr</th>\n",
       "      <td>2919.0</td>\n",
       "      <td>2.860226</td>\n",
       "      <td>0.822693</td>\n",
       "      <td>0.0</td>\n",
       "      <td>2.0</td>\n",
       "      <td>3.0</td>\n",
       "      <td>3.0</td>\n",
       "      <td>8.0</td>\n",
       "    </tr>\n",
       "    <tr>\n",
       "      <th>KitchenAbvGr</th>\n",
       "      <td>2919.0</td>\n",
       "      <td>1.044536</td>\n",
       "      <td>0.214462</td>\n",
       "      <td>0.0</td>\n",
       "      <td>1.0</td>\n",
       "      <td>1.0</td>\n",
       "      <td>1.0</td>\n",
       "      <td>3.0</td>\n",
       "    </tr>\n",
       "    <tr>\n",
       "      <th>TotRmsAbvGrd</th>\n",
       "      <td>2919.0</td>\n",
       "      <td>6.451524</td>\n",
       "      <td>1.569379</td>\n",
       "      <td>2.0</td>\n",
       "      <td>5.0</td>\n",
       "      <td>6.0</td>\n",
       "      <td>7.0</td>\n",
       "      <td>15.0</td>\n",
       "    </tr>\n",
       "    <tr>\n",
       "      <th>Fireplaces</th>\n",
       "      <td>2919.0</td>\n",
       "      <td>0.597122</td>\n",
       "      <td>0.646129</td>\n",
       "      <td>0.0</td>\n",
       "      <td>0.0</td>\n",
       "      <td>1.0</td>\n",
       "      <td>1.0</td>\n",
       "      <td>4.0</td>\n",
       "    </tr>\n",
       "    <tr>\n",
       "      <th>GarageYrBlt</th>\n",
       "      <td>2760.0</td>\n",
       "      <td>1978.113406</td>\n",
       "      <td>25.574285</td>\n",
       "      <td>1895.0</td>\n",
       "      <td>1960.0</td>\n",
       "      <td>1979.0</td>\n",
       "      <td>2002.0</td>\n",
       "      <td>2207.0</td>\n",
       "    </tr>\n",
       "    <tr>\n",
       "      <th>GarageCars</th>\n",
       "      <td>2918.0</td>\n",
       "      <td>1.766621</td>\n",
       "      <td>0.761624</td>\n",
       "      <td>0.0</td>\n",
       "      <td>1.0</td>\n",
       "      <td>2.0</td>\n",
       "      <td>2.0</td>\n",
       "      <td>5.0</td>\n",
       "    </tr>\n",
       "    <tr>\n",
       "      <th>GarageArea</th>\n",
       "      <td>2918.0</td>\n",
       "      <td>472.874572</td>\n",
       "      <td>215.394815</td>\n",
       "      <td>0.0</td>\n",
       "      <td>320.0</td>\n",
       "      <td>480.0</td>\n",
       "      <td>576.0</td>\n",
       "      <td>1488.0</td>\n",
       "    </tr>\n",
       "    <tr>\n",
       "      <th>WoodDeckSF</th>\n",
       "      <td>2919.0</td>\n",
       "      <td>93.709832</td>\n",
       "      <td>126.526589</td>\n",
       "      <td>0.0</td>\n",
       "      <td>0.0</td>\n",
       "      <td>0.0</td>\n",
       "      <td>168.0</td>\n",
       "      <td>1424.0</td>\n",
       "    </tr>\n",
       "    <tr>\n",
       "      <th>OpenPorchSF</th>\n",
       "      <td>2919.0</td>\n",
       "      <td>47.486811</td>\n",
       "      <td>67.575493</td>\n",
       "      <td>0.0</td>\n",
       "      <td>0.0</td>\n",
       "      <td>26.0</td>\n",
       "      <td>70.0</td>\n",
       "      <td>742.0</td>\n",
       "    </tr>\n",
       "    <tr>\n",
       "      <th>EnclosedPorch</th>\n",
       "      <td>2919.0</td>\n",
       "      <td>23.098321</td>\n",
       "      <td>64.244246</td>\n",
       "      <td>0.0</td>\n",
       "      <td>0.0</td>\n",
       "      <td>0.0</td>\n",
       "      <td>0.0</td>\n",
       "      <td>1012.0</td>\n",
       "    </tr>\n",
       "    <tr>\n",
       "      <th>3SsnPorch</th>\n",
       "      <td>2919.0</td>\n",
       "      <td>2.602261</td>\n",
       "      <td>25.188169</td>\n",
       "      <td>0.0</td>\n",
       "      <td>0.0</td>\n",
       "      <td>0.0</td>\n",
       "      <td>0.0</td>\n",
       "      <td>508.0</td>\n",
       "    </tr>\n",
       "    <tr>\n",
       "      <th>ScreenPorch</th>\n",
       "      <td>2919.0</td>\n",
       "      <td>16.062350</td>\n",
       "      <td>56.184365</td>\n",
       "      <td>0.0</td>\n",
       "      <td>0.0</td>\n",
       "      <td>0.0</td>\n",
       "      <td>0.0</td>\n",
       "      <td>576.0</td>\n",
       "    </tr>\n",
       "    <tr>\n",
       "      <th>PoolArea</th>\n",
       "      <td>2919.0</td>\n",
       "      <td>2.251799</td>\n",
       "      <td>35.663946</td>\n",
       "      <td>0.0</td>\n",
       "      <td>0.0</td>\n",
       "      <td>0.0</td>\n",
       "      <td>0.0</td>\n",
       "      <td>800.0</td>\n",
       "    </tr>\n",
       "    <tr>\n",
       "      <th>MiscVal</th>\n",
       "      <td>2919.0</td>\n",
       "      <td>50.825968</td>\n",
       "      <td>567.402211</td>\n",
       "      <td>0.0</td>\n",
       "      <td>0.0</td>\n",
       "      <td>0.0</td>\n",
       "      <td>0.0</td>\n",
       "      <td>17000.0</td>\n",
       "    </tr>\n",
       "    <tr>\n",
       "      <th>MoSold</th>\n",
       "      <td>2919.0</td>\n",
       "      <td>6.213087</td>\n",
       "      <td>2.714762</td>\n",
       "      <td>1.0</td>\n",
       "      <td>4.0</td>\n",
       "      <td>6.0</td>\n",
       "      <td>8.0</td>\n",
       "      <td>12.0</td>\n",
       "    </tr>\n",
       "    <tr>\n",
       "      <th>YrSold</th>\n",
       "      <td>2919.0</td>\n",
       "      <td>2007.792737</td>\n",
       "      <td>1.314964</td>\n",
       "      <td>2006.0</td>\n",
       "      <td>2007.0</td>\n",
       "      <td>2008.0</td>\n",
       "      <td>2009.0</td>\n",
       "      <td>2010.0</td>\n",
       "    </tr>\n",
       "    <tr>\n",
       "      <th>SalePrice</th>\n",
       "      <td>1460.0</td>\n",
       "      <td>180921.195890</td>\n",
       "      <td>79442.502883</td>\n",
       "      <td>34900.0</td>\n",
       "      <td>129975.0</td>\n",
       "      <td>163000.0</td>\n",
       "      <td>214000.0</td>\n",
       "      <td>755000.0</td>\n",
       "    </tr>\n",
       "    <tr>\n",
       "      <th>hasHighFacility</th>\n",
       "      <td>2919.0</td>\n",
       "      <td>0.107229</td>\n",
       "      <td>0.319268</td>\n",
       "      <td>0.0</td>\n",
       "      <td>0.0</td>\n",
       "      <td>0.0</td>\n",
       "      <td>0.0</td>\n",
       "      <td>2.0</td>\n",
       "    </tr>\n",
       "  </tbody>\n",
       "</table>\n",
       "</div>"
      ],
      "text/plain": [
       "                  count           mean           std      min       25%  \\\n",
       "Id               2919.0    1460.000000    842.787043      1.0     730.5   \n",
       "MSSubClass       2919.0      57.137718     42.517628     20.0      20.0   \n",
       "LotFrontage      2433.0      69.305795     23.344905     21.0      59.0   \n",
       "LotArea          2919.0   10168.114080   7886.996359   1300.0    7478.0   \n",
       "OverallQual      2919.0       6.089072      1.409947      1.0       5.0   \n",
       "OverallCond      2919.0       5.564577      1.113131      1.0       5.0   \n",
       "YearBuilt        2919.0    1971.312778     30.291442   1872.0    1953.5   \n",
       "YearRemodAdd     2919.0    1984.264474     20.894344   1950.0    1965.0   \n",
       "MasVnrArea       2896.0     102.201312    179.334253      0.0       0.0   \n",
       "BsmtFinSF1       2918.0     441.423235    455.610826      0.0       0.0   \n",
       "BsmtFinSF2       2918.0      49.582248    169.205611      0.0       0.0   \n",
       "BsmtUnfSF        2918.0     560.772104    439.543659      0.0     220.0   \n",
       "TotalBsmtSF      2918.0    1051.777587    440.766258      0.0     793.0   \n",
       "1stFlrSF         2919.0    1159.581706    392.362079    334.0     876.0   \n",
       "2ndFlrSF         2919.0     336.483727    428.701456      0.0       0.0   \n",
       "LowQualFinSF     2919.0       4.694416     46.396825      0.0       0.0   \n",
       "GrLivArea        2919.0    1500.759849    506.051045    334.0    1126.0   \n",
       "BsmtFullBath     2917.0       0.429894      0.524736      0.0       0.0   \n",
       "BsmtHalfBath     2917.0       0.061364      0.245687      0.0       0.0   \n",
       "FullBath         2919.0       1.568003      0.552969      0.0       1.0   \n",
       "HalfBath         2919.0       0.380267      0.502872      0.0       0.0   \n",
       "BedroomAbvGr     2919.0       2.860226      0.822693      0.0       2.0   \n",
       "KitchenAbvGr     2919.0       1.044536      0.214462      0.0       1.0   \n",
       "TotRmsAbvGrd     2919.0       6.451524      1.569379      2.0       5.0   \n",
       "Fireplaces       2919.0       0.597122      0.646129      0.0       0.0   \n",
       "GarageYrBlt      2760.0    1978.113406     25.574285   1895.0    1960.0   \n",
       "GarageCars       2918.0       1.766621      0.761624      0.0       1.0   \n",
       "GarageArea       2918.0     472.874572    215.394815      0.0     320.0   \n",
       "WoodDeckSF       2919.0      93.709832    126.526589      0.0       0.0   \n",
       "OpenPorchSF      2919.0      47.486811     67.575493      0.0       0.0   \n",
       "EnclosedPorch    2919.0      23.098321     64.244246      0.0       0.0   \n",
       "3SsnPorch        2919.0       2.602261     25.188169      0.0       0.0   \n",
       "ScreenPorch      2919.0      16.062350     56.184365      0.0       0.0   \n",
       "PoolArea         2919.0       2.251799     35.663946      0.0       0.0   \n",
       "MiscVal          2919.0      50.825968    567.402211      0.0       0.0   \n",
       "MoSold           2919.0       6.213087      2.714762      1.0       4.0   \n",
       "YrSold           2919.0    2007.792737      1.314964   2006.0    2007.0   \n",
       "SalePrice        1460.0  180921.195890  79442.502883  34900.0  129975.0   \n",
       "hasHighFacility  2919.0       0.107229      0.319268      0.0       0.0   \n",
       "\n",
       "                      50%       75%       max  \n",
       "Id                 1460.0    2189.5    2919.0  \n",
       "MSSubClass           50.0      70.0     190.0  \n",
       "LotFrontage          68.0      80.0     313.0  \n",
       "LotArea            9453.0   11570.0  215245.0  \n",
       "OverallQual           6.0       7.0      10.0  \n",
       "OverallCond           5.0       6.0       9.0  \n",
       "YearBuilt          1973.0    2001.0    2010.0  \n",
       "YearRemodAdd       1993.0    2004.0    2010.0  \n",
       "MasVnrArea            0.0     164.0    1600.0  \n",
       "BsmtFinSF1          368.5     733.0    5644.0  \n",
       "BsmtFinSF2            0.0       0.0    1526.0  \n",
       "BsmtUnfSF           467.0     805.5    2336.0  \n",
       "TotalBsmtSF         989.5    1302.0    6110.0  \n",
       "1stFlrSF           1082.0    1387.5    5095.0  \n",
       "2ndFlrSF              0.0     704.0    2065.0  \n",
       "LowQualFinSF          0.0       0.0    1064.0  \n",
       "GrLivArea          1444.0    1743.5    5642.0  \n",
       "BsmtFullBath          0.0       1.0       3.0  \n",
       "BsmtHalfBath          0.0       0.0       2.0  \n",
       "FullBath              2.0       2.0       4.0  \n",
       "HalfBath              0.0       1.0       2.0  \n",
       "BedroomAbvGr          3.0       3.0       8.0  \n",
       "KitchenAbvGr          1.0       1.0       3.0  \n",
       "TotRmsAbvGrd          6.0       7.0      15.0  \n",
       "Fireplaces            1.0       1.0       4.0  \n",
       "GarageYrBlt        1979.0    2002.0    2207.0  \n",
       "GarageCars            2.0       2.0       5.0  \n",
       "GarageArea          480.0     576.0    1488.0  \n",
       "WoodDeckSF            0.0     168.0    1424.0  \n",
       "OpenPorchSF          26.0      70.0     742.0  \n",
       "EnclosedPorch         0.0       0.0    1012.0  \n",
       "3SsnPorch             0.0       0.0     508.0  \n",
       "ScreenPorch           0.0       0.0     576.0  \n",
       "PoolArea              0.0       0.0     800.0  \n",
       "MiscVal               0.0       0.0   17000.0  \n",
       "MoSold                6.0       8.0      12.0  \n",
       "YrSold             2008.0    2009.0    2010.0  \n",
       "SalePrice        163000.0  214000.0  755000.0  \n",
       "hasHighFacility       0.0       0.0       2.0  "
      ]
     },
     "execution_count": 38,
     "metadata": {},
     "output_type": "execute_result"
    }
   ],
   "source": [
    "# statistics for all features\n",
    "\n",
    "all_df.describe().T"
   ]
  },
  {
   "cell_type": "code",
   "execution_count": 39,
   "id": "76be84b2",
   "metadata": {
    "execution": {
     "iopub.execute_input": "2022-05-26T15:29:26.537036Z",
     "iopub.status.busy": "2022-05-26T15:29:26.536664Z",
     "iopub.status.idle": "2022-05-26T15:29:26.543669Z",
     "shell.execute_reply": "2022-05-26T15:29:26.542927Z"
    },
    "papermill": {
     "duration": 0.045207,
     "end_time": "2022-05-26T15:29:26.545782",
     "exception": false,
     "start_time": "2022-05-26T15:29:26.500575",
     "status": "completed"
    },
    "tags": []
   },
   "outputs": [],
   "source": [
    "# just the quantitative features\n",
    "\n",
    "train_df_num = train_df.select_dtypes(include=[np.number])"
   ]
  },
  {
   "cell_type": "code",
   "execution_count": 40,
   "id": "5cf0a02a",
   "metadata": {
    "execution": {
     "iopub.execute_input": "2022-05-26T15:29:26.614901Z",
     "iopub.status.busy": "2022-05-26T15:29:26.613952Z",
     "iopub.status.idle": "2022-05-26T15:29:26.619364Z",
     "shell.execute_reply": "2022-05-26T15:29:26.618499Z"
    },
    "papermill": {
     "duration": 0.043053,
     "end_time": "2022-05-26T15:29:26.621632",
     "exception": false,
     "start_time": "2022-05-26T15:29:26.578579",
     "status": "completed"
    },
    "tags": []
   },
   "outputs": [],
   "source": [
    "nonratio_features = [\"Id\", \"MSSubClass\", \"OverallQual\", \"OverallCond\", \"YearBuilt\",\n",
    "                     \"YearRemodAdd\", \"MoSold\", \"YrSold\"]"
   ]
  },
  {
   "cell_type": "code",
   "execution_count": 41,
   "id": "2c5bfdd4",
   "metadata": {
    "execution": {
     "iopub.execute_input": "2022-05-26T15:29:26.689990Z",
     "iopub.status.busy": "2022-05-26T15:29:26.689602Z",
     "iopub.status.idle": "2022-05-26T15:29:26.695878Z",
     "shell.execute_reply": "2022-05-26T15:29:26.695220Z"
    },
    "papermill": {
     "duration": 0.043573,
     "end_time": "2022-05-26T15:29:26.698203",
     "exception": false,
     "start_time": "2022-05-26T15:29:26.654630",
     "status": "completed"
    },
    "tags": []
   },
   "outputs": [
    {
     "data": {
      "text/plain": [
       "['1stFlrSF',\n",
       " '2ndFlrSF',\n",
       " '3SsnPorch',\n",
       " 'BedroomAbvGr',\n",
       " 'BsmtFinSF1',\n",
       " 'BsmtFinSF2',\n",
       " 'BsmtFullBath',\n",
       " 'BsmtHalfBath',\n",
       " 'BsmtUnfSF',\n",
       " 'EnclosedPorch',\n",
       " 'Fireplaces',\n",
       " 'FullBath',\n",
       " 'GarageArea',\n",
       " 'GarageCars',\n",
       " 'GarageYrBlt',\n",
       " 'GrLivArea',\n",
       " 'HalfBath',\n",
       " 'KitchenAbvGr',\n",
       " 'LotArea',\n",
       " 'LotFrontage',\n",
       " 'LowQualFinSF',\n",
       " 'MasVnrArea',\n",
       " 'MiscVal',\n",
       " 'OpenPorchSF',\n",
       " 'PoolArea',\n",
       " 'SalePrice',\n",
       " 'ScreenPorch',\n",
       " 'TotRmsAbvGrd',\n",
       " 'TotalBsmtSF',\n",
       " 'WoodDeckSF']"
      ]
     },
     "execution_count": 41,
     "metadata": {},
     "output_type": "execute_result"
    }
   ],
   "source": [
    "num_features = sorted(list(set(train_df_num) - set(nonratio_features)))\n",
    "num_features"
   ]
  },
  {
   "cell_type": "code",
   "execution_count": 42,
   "id": "0749eee5",
   "metadata": {
    "execution": {
     "iopub.execute_input": "2022-05-26T15:29:26.767002Z",
     "iopub.status.busy": "2022-05-26T15:29:26.766560Z",
     "iopub.status.idle": "2022-05-26T15:29:26.772336Z",
     "shell.execute_reply": "2022-05-26T15:29:26.771596Z"
    },
    "papermill": {
     "duration": 0.042723,
     "end_time": "2022-05-26T15:29:26.774415",
     "exception": false,
     "start_time": "2022-05-26T15:29:26.731692",
     "status": "completed"
    },
    "tags": []
   },
   "outputs": [],
   "source": [
    "train_df_num_rs = train_df_num[num_features]"
   ]
  },
  {
   "cell_type": "code",
   "execution_count": 43,
   "id": "e2b845a1",
   "metadata": {
    "execution": {
     "iopub.execute_input": "2022-05-26T15:29:26.842450Z",
     "iopub.status.busy": "2022-05-26T15:29:26.841793Z",
     "iopub.status.idle": "2022-05-26T15:29:28.764753Z",
     "shell.execute_reply": "2022-05-26T15:29:28.763553Z"
    },
    "papermill": {
     "duration": 1.959871,
     "end_time": "2022-05-26T15:29:28.767369",
     "exception": false,
     "start_time": "2022-05-26T15:29:26.807498",
     "status": "completed"
    },
    "tags": []
   },
   "outputs": [
    {
     "name": "stdout",
     "output_type": "stream",
     "text": [
      "3SsnPorch 1436\n",
      "BsmtFinSF2 1293\n",
      "BsmtHalfBath 1378\n",
      "EnclosedPorch 1252\n",
      "LowQualFinSF 1434\n",
      "MiscVal 1408\n",
      "PoolArea 1453\n",
      "ScreenPorch 1344\n"
     ]
    }
   ],
   "source": [
    "# check features with majority of data being 0\n",
    "\n",
    "for col in num_features:\n",
    "    if train_df_num_rs.describe()[col][\"75%\"] == 0:\n",
    "        print(col, len(train_df_num_rs[train_df_num_rs[col] == 0]))"
   ]
  },
  {
   "cell_type": "code",
   "execution_count": 44,
   "id": "5c3b6c7f",
   "metadata": {
    "execution": {
     "iopub.execute_input": "2022-05-26T15:29:28.837849Z",
     "iopub.status.busy": "2022-05-26T15:29:28.836894Z",
     "iopub.status.idle": "2022-05-26T15:29:28.850286Z",
     "shell.execute_reply": "2022-05-26T15:29:28.849236Z"
    },
    "papermill": {
     "duration": 0.051359,
     "end_time": "2022-05-26T15:29:28.852589",
     "exception": false,
     "start_time": "2022-05-26T15:29:28.801230",
     "status": "completed"
    },
    "tags": []
   },
   "outputs": [
    {
     "name": "stdout",
     "output_type": "stream",
     "text": [
      "BedroomAbvGr 8\n",
      "BsmtFullBath 4\n",
      "BsmtHalfBath 3\n",
      "Fireplaces 4\n",
      "FullBath 4\n",
      "GarageCars 5\n",
      "HalfBath 3\n",
      "KitchenAbvGr 4\n",
      "PoolArea 8\n",
      "TotRmsAbvGrd 12\n"
     ]
    }
   ],
   "source": [
    "# check features with only certain values\n",
    "\n",
    "for col in num_features:\n",
    "    if train_df_num_rs[col].nunique() < 15:\n",
    "        print(col, train_df_num_rs[col].nunique())"
   ]
  },
  {
   "cell_type": "code",
   "execution_count": 45,
   "id": "236bacf7",
   "metadata": {
    "execution": {
     "iopub.execute_input": "2022-05-26T15:29:28.924005Z",
     "iopub.status.busy": "2022-05-26T15:29:28.923394Z",
     "iopub.status.idle": "2022-05-26T15:29:28.969730Z",
     "shell.execute_reply": "2022-05-26T15:29:28.967889Z"
    },
    "papermill": {
     "duration": 0.085512,
     "end_time": "2022-05-26T15:29:28.972062",
     "exception": false,
     "start_time": "2022-05-26T15:29:28.886550",
     "status": "completed"
    },
    "tags": []
   },
   "outputs": [
    {
     "name": "stdout",
     "output_type": "stream",
     "text": [
      "1stFlrSF 12\n",
      "2ndFlrSF 4\n",
      "3SsnPorch 23\n",
      "BedroomAbvGr 14\n",
      "BsmtFinSF1 6\n",
      "BsmtFinSF2 50\n",
      "BsmtFullBath 16\n",
      "BsmtHalfBath 82\n",
      "BsmtUnfSF 11\n",
      "EnclosedPorch 51\n",
      "Fireplaces 5\n",
      "FullBath 0\n",
      "GarageArea 7\n",
      "GarageCars 0\n",
      "GarageYrBlt 1\n",
      "GrLivArea 16\n",
      "HalfBath 12\n",
      "KitchenAbvGr 68\n",
      "LotArea 13\n",
      "LotFrontage 12\n",
      "LowQualFinSF 20\n",
      "MasVnrArea 32\n",
      "MiscVal 8\n",
      "OpenPorchSF 27\n",
      "PoolArea 7\n",
      "SalePrice 22\n",
      "ScreenPorch 55\n",
      "TotRmsAbvGrd 12\n",
      "TotalBsmtSF 10\n",
      "WoodDeckSF 22\n"
     ]
    }
   ],
   "source": [
    "# check outliers\n",
    "\n",
    "for col in num_features:\n",
    "    tmp_df = train_df_num_rs[(train_df_num_rs[col] > train_df_num_rs[col].mean() + \n",
    "                              train_df_num_rs[col].std() * 3) | \\\n",
    "                            (train_df_num_rs[col] < train_df_num_rs[col].mean() -\n",
    "                            train_df_num_rs[col].std() * 3)]\n",
    "    print(col, len(tmp_df))"
   ]
  },
  {
   "cell_type": "code",
   "execution_count": 46,
   "id": "ac58d34c",
   "metadata": {
    "execution": {
     "iopub.execute_input": "2022-05-26T15:29:29.043333Z",
     "iopub.status.busy": "2022-05-26T15:29:29.042608Z",
     "iopub.status.idle": "2022-05-26T15:29:29.287085Z",
     "shell.execute_reply": "2022-05-26T15:29:29.286076Z"
    },
    "papermill": {
     "duration": 0.282895,
     "end_time": "2022-05-26T15:29:29.289213",
     "exception": false,
     "start_time": "2022-05-26T15:29:29.006318",
     "status": "completed"
    },
    "tags": []
   },
   "outputs": [
    {
     "data": {
      "text/plain": [
       "<AxesSubplot:xlabel='BsmtFinSF1', ylabel='SalePrice'>"
      ]
     },
     "execution_count": 46,
     "metadata": {},
     "output_type": "execute_result"
    },
    {
     "data": {
      "image/png": "[encoded data removed]",
      "text/plain": [
       "<Figure size 432x288 with 1 Axes>"
      ]
     },
     "metadata": {},
     "output_type": "display_data"
    }
   ],
   "source": [
    "# visualize the distribution\n",
    "\n",
    "all_df.plot.scatter(x=\"BsmtFinSF1\", y=\"SalePrice\")"
   ]
  },
  {
   "cell_type": "code",
   "execution_count": 47,
   "id": "8a1b47ae",
   "metadata": {
    "execution": {
     "iopub.execute_input": "2022-05-26T15:29:29.361375Z",
     "iopub.status.busy": "2022-05-26T15:29:29.360971Z",
     "iopub.status.idle": "2022-05-26T15:29:29.384893Z",
     "shell.execute_reply": "2022-05-26T15:29:29.383615Z"
    },
    "papermill": {
     "duration": 0.064009,
     "end_time": "2022-05-26T15:29:29.387441",
     "exception": false,
     "start_time": "2022-05-26T15:29:29.323432",
     "status": "completed"
    },
    "tags": []
   },
   "outputs": [
    {
     "data": {
      "text/html": [
       "<div>\n",
       "<style scoped>\n",
       "    .dataframe tbody tr th:only-of-type {\n",
       "        vertical-align: middle;\n",
       "    }\n",
       "\n",
       "    .dataframe tbody tr th {\n",
       "        vertical-align: top;\n",
       "    }\n",
       "\n",
       "    .dataframe thead th {\n",
       "        text-align: right;\n",
       "    }\n",
       "</style>\n",
       "<table border=\"1\" class=\"dataframe\">\n",
       "  <thead>\n",
       "    <tr style=\"text-align: right;\">\n",
       "      <th></th>\n",
       "      <th>Id</th>\n",
       "      <th>MSSubClass</th>\n",
       "      <th>MSZoning</th>\n",
       "      <th>LotFrontage</th>\n",
       "      <th>LotArea</th>\n",
       "      <th>Street</th>\n",
       "      <th>LotShape</th>\n",
       "      <th>LandContour</th>\n",
       "      <th>Utilities</th>\n",
       "      <th>LotConfig</th>\n",
       "      <th>...</th>\n",
       "      <th>ScreenPorch</th>\n",
       "      <th>PoolArea</th>\n",
       "      <th>Fence</th>\n",
       "      <th>MiscVal</th>\n",
       "      <th>MoSold</th>\n",
       "      <th>YrSold</th>\n",
       "      <th>SaleType</th>\n",
       "      <th>SaleCondition</th>\n",
       "      <th>SalePrice</th>\n",
       "      <th>hasHighFacility</th>\n",
       "    </tr>\n",
       "  </thead>\n",
       "  <tbody>\n",
       "    <tr>\n",
       "      <th>1298</th>\n",
       "      <td>1299</td>\n",
       "      <td>60</td>\n",
       "      <td>RL</td>\n",
       "      <td>313.0</td>\n",
       "      <td>63887</td>\n",
       "      <td>Pave</td>\n",
       "      <td>IR3</td>\n",
       "      <td>Bnk</td>\n",
       "      <td>AllPub</td>\n",
       "      <td>Corner</td>\n",
       "      <td>...</td>\n",
       "      <td>0</td>\n",
       "      <td>480</td>\n",
       "      <td>NaN</td>\n",
       "      <td>0</td>\n",
       "      <td>1</td>\n",
       "      <td>2008</td>\n",
       "      <td>New</td>\n",
       "      <td>Partial</td>\n",
       "      <td>160000.0</td>\n",
       "      <td>1</td>\n",
       "    </tr>\n",
       "  </tbody>\n",
       "</table>\n",
       "<p>1 rows × 79 columns</p>\n",
       "</div>"
      ],
      "text/plain": [
       "        Id  MSSubClass MSZoning  LotFrontage  LotArea Street LotShape  \\\n",
       "1298  1299          60       RL        313.0    63887   Pave      IR3   \n",
       "\n",
       "     LandContour Utilities LotConfig  ... ScreenPorch PoolArea Fence MiscVal  \\\n",
       "1298         Bnk    AllPub    Corner  ...           0      480   NaN       0   \n",
       "\n",
       "     MoSold YrSold  SaleType  SaleCondition  SalePrice  hasHighFacility  \n",
       "1298      1   2008       New        Partial   160000.0                1  \n",
       "\n",
       "[1 rows x 79 columns]"
      ]
     },
     "execution_count": 47,
     "metadata": {},
     "output_type": "execute_result"
    }
   ],
   "source": [
    "all_df[all_df[\"BsmtFinSF1\"] > 5000]"
   ]
  },
  {
   "cell_type": "code",
   "execution_count": 48,
   "id": "a2d48de1",
   "metadata": {
    "execution": {
     "iopub.execute_input": "2022-05-26T15:29:29.459506Z",
     "iopub.status.busy": "2022-05-26T15:29:29.459060Z",
     "iopub.status.idle": "2022-05-26T15:29:29.700796Z",
     "shell.execute_reply": "2022-05-26T15:29:29.699660Z"
    },
    "papermill": {
     "duration": 0.280233,
     "end_time": "2022-05-26T15:29:29.703154",
     "exception": false,
     "start_time": "2022-05-26T15:29:29.422921",
     "status": "completed"
    },
    "tags": []
   },
   "outputs": [
    {
     "data": {
      "text/plain": [
       "<AxesSubplot:xlabel='TotalBsmtSF', ylabel='SalePrice'>"
      ]
     },
     "execution_count": 48,
     "metadata": {},
     "output_type": "execute_result"
    },
    {
     "data": {
      "image/png": "[encoded data removed]",
      "text/plain": [
       "<Figure size 432x288 with 1 Axes>"
      ]
     },
     "metadata": {},
     "output_type": "display_data"
    }
   ],
   "source": [
    "all_df.plot.scatter(x=\"TotalBsmtSF\", y=\"SalePrice\")"
   ]
  },
  {
   "cell_type": "code",
   "execution_count": 49,
   "id": "afc33791",
   "metadata": {
    "execution": {
     "iopub.execute_input": "2022-05-26T15:29:29.776021Z",
     "iopub.status.busy": "2022-05-26T15:29:29.775617Z",
     "iopub.status.idle": "2022-05-26T15:29:29.797944Z",
     "shell.execute_reply": "2022-05-26T15:29:29.797153Z"
    },
    "papermill": {
     "duration": 0.062257,
     "end_time": "2022-05-26T15:29:29.800293",
     "exception": false,
     "start_time": "2022-05-26T15:29:29.738036",
     "status": "completed"
    },
    "tags": []
   },
   "outputs": [
    {
     "data": {
      "text/html": [
       "<div>\n",
       "<style scoped>\n",
       "    .dataframe tbody tr th:only-of-type {\n",
       "        vertical-align: middle;\n",
       "    }\n",
       "\n",
       "    .dataframe tbody tr th {\n",
       "        vertical-align: top;\n",
       "    }\n",
       "\n",
       "    .dataframe thead th {\n",
       "        text-align: right;\n",
       "    }\n",
       "</style>\n",
       "<table border=\"1\" class=\"dataframe\">\n",
       "  <thead>\n",
       "    <tr style=\"text-align: right;\">\n",
       "      <th></th>\n",
       "      <th>Id</th>\n",
       "      <th>MSSubClass</th>\n",
       "      <th>MSZoning</th>\n",
       "      <th>LotFrontage</th>\n",
       "      <th>LotArea</th>\n",
       "      <th>Street</th>\n",
       "      <th>LotShape</th>\n",
       "      <th>LandContour</th>\n",
       "      <th>Utilities</th>\n",
       "      <th>LotConfig</th>\n",
       "      <th>...</th>\n",
       "      <th>ScreenPorch</th>\n",
       "      <th>PoolArea</th>\n",
       "      <th>Fence</th>\n",
       "      <th>MiscVal</th>\n",
       "      <th>MoSold</th>\n",
       "      <th>YrSold</th>\n",
       "      <th>SaleType</th>\n",
       "      <th>SaleCondition</th>\n",
       "      <th>SalePrice</th>\n",
       "      <th>hasHighFacility</th>\n",
       "    </tr>\n",
       "  </thead>\n",
       "  <tbody>\n",
       "    <tr>\n",
       "      <th>1298</th>\n",
       "      <td>1299</td>\n",
       "      <td>60</td>\n",
       "      <td>RL</td>\n",
       "      <td>313.0</td>\n",
       "      <td>63887</td>\n",
       "      <td>Pave</td>\n",
       "      <td>IR3</td>\n",
       "      <td>Bnk</td>\n",
       "      <td>AllPub</td>\n",
       "      <td>Corner</td>\n",
       "      <td>...</td>\n",
       "      <td>0</td>\n",
       "      <td>480</td>\n",
       "      <td>NaN</td>\n",
       "      <td>0</td>\n",
       "      <td>1</td>\n",
       "      <td>2008</td>\n",
       "      <td>New</td>\n",
       "      <td>Partial</td>\n",
       "      <td>160000.0</td>\n",
       "      <td>1</td>\n",
       "    </tr>\n",
       "  </tbody>\n",
       "</table>\n",
       "<p>1 rows × 79 columns</p>\n",
       "</div>"
      ],
      "text/plain": [
       "        Id  MSSubClass MSZoning  LotFrontage  LotArea Street LotShape  \\\n",
       "1298  1299          60       RL        313.0    63887   Pave      IR3   \n",
       "\n",
       "     LandContour Utilities LotConfig  ... ScreenPorch PoolArea Fence MiscVal  \\\n",
       "1298         Bnk    AllPub    Corner  ...           0      480   NaN       0   \n",
       "\n",
       "     MoSold YrSold  SaleType  SaleCondition  SalePrice  hasHighFacility  \n",
       "1298      1   2008       New        Partial   160000.0                1  \n",
       "\n",
       "[1 rows x 79 columns]"
      ]
     },
     "execution_count": 49,
     "metadata": {},
     "output_type": "execute_result"
    }
   ],
   "source": [
    "all_df[all_df[\"TotalBsmtSF\"] > 6000]"
   ]
  },
  {
   "cell_type": "code",
   "execution_count": 50,
   "id": "03218911",
   "metadata": {
    "execution": {
     "iopub.execute_input": "2022-05-26T15:29:29.876633Z",
     "iopub.status.busy": "2022-05-26T15:29:29.876072Z",
     "iopub.status.idle": "2022-05-26T15:29:30.113496Z",
     "shell.execute_reply": "2022-05-26T15:29:30.112449Z"
    },
    "papermill": {
     "duration": 0.27914,
     "end_time": "2022-05-26T15:29:30.115928",
     "exception": false,
     "start_time": "2022-05-26T15:29:29.836788",
     "status": "completed"
    },
    "tags": []
   },
   "outputs": [
    {
     "data": {
      "text/plain": [
       "<AxesSubplot:xlabel='GrLivArea', ylabel='SalePrice'>"
      ]
     },
     "execution_count": 50,
     "metadata": {},
     "output_type": "execute_result"
    },
    {
     "data": {
      "image/png": "[encoded data removed]",
      "text/plain": [
       "<Figure size 432x288 with 1 Axes>"
      ]
     },
     "metadata": {},
     "output_type": "display_data"
    }
   ],
   "source": [
    "all_df.plot.scatter(x=\"GrLivArea\", y=\"SalePrice\")"
   ]
  },
  {
   "cell_type": "code",
   "execution_count": 51,
   "id": "1dfd0bee",
   "metadata": {
    "execution": {
     "iopub.execute_input": "2022-05-26T15:29:30.192984Z",
     "iopub.status.busy": "2022-05-26T15:29:30.192540Z",
     "iopub.status.idle": "2022-05-26T15:29:30.220364Z",
     "shell.execute_reply": "2022-05-26T15:29:30.219573Z"
    },
    "papermill": {
     "duration": 0.068882,
     "end_time": "2022-05-26T15:29:30.222523",
     "exception": false,
     "start_time": "2022-05-26T15:29:30.153641",
     "status": "completed"
    },
    "tags": []
   },
   "outputs": [
    {
     "data": {
      "text/html": [
       "<div>\n",
       "<style scoped>\n",
       "    .dataframe tbody tr th:only-of-type {\n",
       "        vertical-align: middle;\n",
       "    }\n",
       "\n",
       "    .dataframe tbody tr th {\n",
       "        vertical-align: top;\n",
       "    }\n",
       "\n",
       "    .dataframe thead th {\n",
       "        text-align: right;\n",
       "    }\n",
       "</style>\n",
       "<table border=\"1\" class=\"dataframe\">\n",
       "  <thead>\n",
       "    <tr style=\"text-align: right;\">\n",
       "      <th></th>\n",
       "      <th>Id</th>\n",
       "      <th>MSSubClass</th>\n",
       "      <th>MSZoning</th>\n",
       "      <th>LotFrontage</th>\n",
       "      <th>LotArea</th>\n",
       "      <th>Street</th>\n",
       "      <th>LotShape</th>\n",
       "      <th>LandContour</th>\n",
       "      <th>Utilities</th>\n",
       "      <th>LotConfig</th>\n",
       "      <th>...</th>\n",
       "      <th>ScreenPorch</th>\n",
       "      <th>PoolArea</th>\n",
       "      <th>Fence</th>\n",
       "      <th>MiscVal</th>\n",
       "      <th>MoSold</th>\n",
       "      <th>YrSold</th>\n",
       "      <th>SaleType</th>\n",
       "      <th>SaleCondition</th>\n",
       "      <th>SalePrice</th>\n",
       "      <th>hasHighFacility</th>\n",
       "    </tr>\n",
       "  </thead>\n",
       "  <tbody>\n",
       "    <tr>\n",
       "      <th>1298</th>\n",
       "      <td>1299</td>\n",
       "      <td>60</td>\n",
       "      <td>RL</td>\n",
       "      <td>313.0</td>\n",
       "      <td>63887</td>\n",
       "      <td>Pave</td>\n",
       "      <td>IR3</td>\n",
       "      <td>Bnk</td>\n",
       "      <td>AllPub</td>\n",
       "      <td>Corner</td>\n",
       "      <td>...</td>\n",
       "      <td>0</td>\n",
       "      <td>480</td>\n",
       "      <td>NaN</td>\n",
       "      <td>0</td>\n",
       "      <td>1</td>\n",
       "      <td>2008</td>\n",
       "      <td>New</td>\n",
       "      <td>Partial</td>\n",
       "      <td>160000.0</td>\n",
       "      <td>1</td>\n",
       "    </tr>\n",
       "    <tr>\n",
       "      <th>2549</th>\n",
       "      <td>2550</td>\n",
       "      <td>20</td>\n",
       "      <td>RL</td>\n",
       "      <td>128.0</td>\n",
       "      <td>39290</td>\n",
       "      <td>Pave</td>\n",
       "      <td>IR1</td>\n",
       "      <td>Bnk</td>\n",
       "      <td>AllPub</td>\n",
       "      <td>Inside</td>\n",
       "      <td>...</td>\n",
       "      <td>0</td>\n",
       "      <td>0</td>\n",
       "      <td>NaN</td>\n",
       "      <td>17000</td>\n",
       "      <td>10</td>\n",
       "      <td>2007</td>\n",
       "      <td>New</td>\n",
       "      <td>Partial</td>\n",
       "      <td>NaN</td>\n",
       "      <td>0</td>\n",
       "    </tr>\n",
       "  </tbody>\n",
       "</table>\n",
       "<p>2 rows × 79 columns</p>\n",
       "</div>"
      ],
      "text/plain": [
       "        Id  MSSubClass MSZoning  LotFrontage  LotArea Street LotShape  \\\n",
       "1298  1299          60       RL        313.0    63887   Pave      IR3   \n",
       "2549  2550          20       RL        128.0    39290   Pave      IR1   \n",
       "\n",
       "     LandContour Utilities LotConfig  ... ScreenPorch PoolArea Fence MiscVal  \\\n",
       "1298         Bnk    AllPub    Corner  ...           0      480   NaN       0   \n",
       "2549         Bnk    AllPub    Inside  ...           0        0   NaN   17000   \n",
       "\n",
       "     MoSold YrSold  SaleType  SaleCondition  SalePrice  hasHighFacility  \n",
       "1298      1   2008       New        Partial   160000.0                1  \n",
       "2549     10   2007       New        Partial        NaN                0  \n",
       "\n",
       "[2 rows x 79 columns]"
      ]
     },
     "execution_count": 51,
     "metadata": {},
     "output_type": "execute_result"
    }
   ],
   "source": [
    "all_df[all_df[\"GrLivArea\"] > 5000]"
   ]
  },
  {
   "cell_type": "code",
   "execution_count": 52,
   "id": "0a17c116",
   "metadata": {
    "execution": {
     "iopub.execute_input": "2022-05-26T15:29:30.300011Z",
     "iopub.status.busy": "2022-05-26T15:29:30.299372Z",
     "iopub.status.idle": "2022-05-26T15:29:30.479949Z",
     "shell.execute_reply": "2022-05-26T15:29:30.478837Z"
    },
    "papermill": {
     "duration": 0.223373,
     "end_time": "2022-05-26T15:29:30.482755",
     "exception": false,
     "start_time": "2022-05-26T15:29:30.259382",
     "status": "completed"
    },
    "tags": []
   },
   "outputs": [
    {
     "data": {
      "text/plain": [
       "<AxesSubplot:xlabel='1stFlrSF', ylabel='SalePrice'>"
      ]
     },
     "execution_count": 52,
     "metadata": {},
     "output_type": "execute_result"
    },
    {
     "data": {
      "image/png": "[encoded data removed]",
      "text/plain": [
       "<Figure size 432x288 with 1 Axes>"
      ]
     },
     "metadata": {},
     "output_type": "display_data"
    }
   ],
   "source": [
    "all_df.plot.scatter(x=\"1stFlrSF\", y=\"SalePrice\")"
   ]
  },
  {
   "cell_type": "code",
   "execution_count": 53,
   "id": "5b3b3e3e",
   "metadata": {
    "execution": {
     "iopub.execute_input": "2022-05-26T15:29:30.560462Z",
     "iopub.status.busy": "2022-05-26T15:29:30.560040Z",
     "iopub.status.idle": "2022-05-26T15:29:30.588169Z",
     "shell.execute_reply": "2022-05-26T15:29:30.586938Z"
    },
    "papermill": {
     "duration": 0.0686,
     "end_time": "2022-05-26T15:29:30.590288",
     "exception": false,
     "start_time": "2022-05-26T15:29:30.521688",
     "status": "completed"
    },
    "tags": []
   },
   "outputs": [
    {
     "data": {
      "text/html": [
       "<div>\n",
       "<style scoped>\n",
       "    .dataframe tbody tr th:only-of-type {\n",
       "        vertical-align: middle;\n",
       "    }\n",
       "\n",
       "    .dataframe tbody tr th {\n",
       "        vertical-align: top;\n",
       "    }\n",
       "\n",
       "    .dataframe thead th {\n",
       "        text-align: right;\n",
       "    }\n",
       "</style>\n",
       "<table border=\"1\" class=\"dataframe\">\n",
       "  <thead>\n",
       "    <tr style=\"text-align: right;\">\n",
       "      <th></th>\n",
       "      <th>Id</th>\n",
       "      <th>MSSubClass</th>\n",
       "      <th>MSZoning</th>\n",
       "      <th>LotFrontage</th>\n",
       "      <th>LotArea</th>\n",
       "      <th>Street</th>\n",
       "      <th>LotShape</th>\n",
       "      <th>LandContour</th>\n",
       "      <th>Utilities</th>\n",
       "      <th>LotConfig</th>\n",
       "      <th>...</th>\n",
       "      <th>ScreenPorch</th>\n",
       "      <th>PoolArea</th>\n",
       "      <th>Fence</th>\n",
       "      <th>MiscVal</th>\n",
       "      <th>MoSold</th>\n",
       "      <th>YrSold</th>\n",
       "      <th>SaleType</th>\n",
       "      <th>SaleCondition</th>\n",
       "      <th>SalePrice</th>\n",
       "      <th>hasHighFacility</th>\n",
       "    </tr>\n",
       "  </thead>\n",
       "  <tbody>\n",
       "    <tr>\n",
       "      <th>1298</th>\n",
       "      <td>1299</td>\n",
       "      <td>60</td>\n",
       "      <td>RL</td>\n",
       "      <td>313.0</td>\n",
       "      <td>63887</td>\n",
       "      <td>Pave</td>\n",
       "      <td>IR3</td>\n",
       "      <td>Bnk</td>\n",
       "      <td>AllPub</td>\n",
       "      <td>Corner</td>\n",
       "      <td>...</td>\n",
       "      <td>0</td>\n",
       "      <td>480</td>\n",
       "      <td>NaN</td>\n",
       "      <td>0</td>\n",
       "      <td>1</td>\n",
       "      <td>2008</td>\n",
       "      <td>New</td>\n",
       "      <td>Partial</td>\n",
       "      <td>160000.0</td>\n",
       "      <td>1</td>\n",
       "    </tr>\n",
       "    <tr>\n",
       "      <th>2549</th>\n",
       "      <td>2550</td>\n",
       "      <td>20</td>\n",
       "      <td>RL</td>\n",
       "      <td>128.0</td>\n",
       "      <td>39290</td>\n",
       "      <td>Pave</td>\n",
       "      <td>IR1</td>\n",
       "      <td>Bnk</td>\n",
       "      <td>AllPub</td>\n",
       "      <td>Inside</td>\n",
       "      <td>...</td>\n",
       "      <td>0</td>\n",
       "      <td>0</td>\n",
       "      <td>NaN</td>\n",
       "      <td>17000</td>\n",
       "      <td>10</td>\n",
       "      <td>2007</td>\n",
       "      <td>New</td>\n",
       "      <td>Partial</td>\n",
       "      <td>NaN</td>\n",
       "      <td>0</td>\n",
       "    </tr>\n",
       "  </tbody>\n",
       "</table>\n",
       "<p>2 rows × 79 columns</p>\n",
       "</div>"
      ],
      "text/plain": [
       "        Id  MSSubClass MSZoning  LotFrontage  LotArea Street LotShape  \\\n",
       "1298  1299          60       RL        313.0    63887   Pave      IR3   \n",
       "2549  2550          20       RL        128.0    39290   Pave      IR1   \n",
       "\n",
       "     LandContour Utilities LotConfig  ... ScreenPorch PoolArea Fence MiscVal  \\\n",
       "1298         Bnk    AllPub    Corner  ...           0      480   NaN       0   \n",
       "2549         Bnk    AllPub    Inside  ...           0        0   NaN   17000   \n",
       "\n",
       "     MoSold YrSold  SaleType  SaleCondition  SalePrice  hasHighFacility  \n",
       "1298      1   2008       New        Partial   160000.0                1  \n",
       "2549     10   2007       New        Partial        NaN                0  \n",
       "\n",
       "[2 rows x 79 columns]"
      ]
     },
     "execution_count": 53,
     "metadata": {},
     "output_type": "execute_result"
    }
   ],
   "source": [
    "all_df[all_df[\"1stFlrSF\"] > 4000]"
   ]
  },
  {
   "cell_type": "code",
   "execution_count": 54,
   "id": "2297d39d",
   "metadata": {
    "execution": {
     "iopub.execute_input": "2022-05-26T15:29:30.666385Z",
     "iopub.status.busy": "2022-05-26T15:29:30.665954Z",
     "iopub.status.idle": "2022-05-26T15:29:30.686828Z",
     "shell.execute_reply": "2022-05-26T15:29:30.685955Z"
    },
    "papermill": {
     "duration": 0.061699,
     "end_time": "2022-05-26T15:29:30.689495",
     "exception": false,
     "start_time": "2022-05-26T15:29:30.627796",
     "status": "completed"
    },
    "tags": []
   },
   "outputs": [],
   "source": [
    "all_df = all_df[(all_df['BsmtFinSF1'] < 2000) | (all_df['SalePrice'].isnull())]\n",
    "all_df = all_df[(all_df['TotalBsmtSF'] < 3000) | (all_df['SalePrice'].isnull())]\n",
    "all_df = all_df[(all_df['GrLivArea'] < 4500) | (all_df['SalePrice'].isnull())]\n",
    "all_df = all_df[(all_df['1stFlrSF'] < 2500) | (all_df['SalePrice'].isnull())]\n",
    "all_df = all_df[(all_df['LotArea'] < 100000) | (all_df['SalePrice'].isnull())]"
   ]
  },
  {
   "cell_type": "code",
   "execution_count": 55,
   "id": "37afc9dc",
   "metadata": {
    "execution": {
     "iopub.execute_input": "2022-05-26T15:29:30.765227Z",
     "iopub.status.busy": "2022-05-26T15:29:30.764797Z",
     "iopub.status.idle": "2022-05-26T15:29:30.885866Z",
     "shell.execute_reply": "2022-05-26T15:29:30.884806Z"
    },
    "papermill": {
     "duration": 0.162625,
     "end_time": "2022-05-26T15:29:30.888789",
     "exception": false,
     "start_time": "2022-05-26T15:29:30.726164",
     "status": "completed"
    },
    "tags": []
   },
   "outputs": [
    {
     "name": "stdout",
     "output_type": "stream",
     "text": [
      "MSZoning\n",
      "Street\n",
      "LotShape\n",
      "LandContour\n",
      "Utilities\n",
      "LotConfig\n",
      "LandSlope\n",
      "Neighborhood\n",
      "Condition1\n",
      "Condition2\n",
      "BldgType\n",
      "HouseStyle\n",
      "RoofStyle\n",
      "RoofMatl\n",
      "Exterior1st\n",
      "Exterior2nd\n",
      "MasVnrType\n",
      "ExterQual\n",
      "ExterCond\n",
      "Foundation\n",
      "BsmtQual\n",
      "BsmtCond\n",
      "BsmtExposure\n",
      "BsmtFinType1\n",
      "BsmtFinType2\n",
      "Heating\n",
      "HeatingQC\n",
      "CentralAir\n",
      "Electrical\n",
      "KitchenQual\n",
      "Functional\n",
      "FireplaceQu\n",
      "GarageType\n",
      "GarageFinish\n",
      "GarageQual\n",
      "GarageCond\n",
      "PavedDrive\n",
      "Fence\n",
      "SaleType\n",
      "SaleCondition\n"
     ]
    }
   ],
   "source": [
    "categories = categories.drop([\"PoolQC\", \"MiscFeature\", \"Alley\"])\n",
    "\n",
    "for cat in categories:\n",
    "    le = LabelEncoder()\n",
    "    print(cat)\n",
    "    \n",
    "    all_df[cat].fillna(\"missing\", inplace=True)\n",
    "    le = le.fit(all_df[cat])\n",
    "    all_df[cat] = le.transform(all_df[cat])\n",
    "    all_df[cat] = all_df[cat].astype(\"category\")"
   ]
  },
  {
   "cell_type": "code",
   "execution_count": 56,
   "id": "6366aaee",
   "metadata": {
    "execution": {
     "iopub.execute_input": "2022-05-26T15:29:30.967389Z",
     "iopub.status.busy": "2022-05-26T15:29:30.966952Z",
     "iopub.status.idle": "2022-05-26T15:29:30.982653Z",
     "shell.execute_reply": "2022-05-26T15:29:30.981555Z"
    },
    "papermill": {
     "duration": 0.057248,
     "end_time": "2022-05-26T15:29:30.985165",
     "exception": false,
     "start_time": "2022-05-26T15:29:30.927917",
     "status": "completed"
    },
    "tags": []
   },
   "outputs": [],
   "source": [
    "train_df_le = all_df[~all_df[\"SalePrice\"].isnull()]\n",
    "test_df_le = all_df[all_df[\"SalePrice\"].isnull()]\n",
    "\n",
    "train_df_le[\"SalePrice_log\"] = np.log(train_df_le[\"SalePrice\"])\n",
    "\n",
    "train_X = train_df_le.drop([\"SalePrice\", \"SalePrice_log\", \"Id\"], axis=1)\n",
    "train_Y = train_df_le[\"SalePrice_log\"]"
   ]
  },
  {
   "cell_type": "code",
   "execution_count": 57,
   "id": "bbc684b1",
   "metadata": {
    "execution": {
     "iopub.execute_input": "2022-05-26T15:29:31.063840Z",
     "iopub.status.busy": "2022-05-26T15:29:31.063420Z",
     "iopub.status.idle": "2022-05-26T15:29:31.925980Z",
     "shell.execute_reply": "2022-05-26T15:29:31.925026Z"
    },
    "papermill": {
     "duration": 0.906182,
     "end_time": "2022-05-26T15:29:31.929591",
     "exception": false,
     "start_time": "2022-05-26T15:29:31.023409",
     "status": "completed"
    },
    "tags": []
   },
   "outputs": [
    {
     "name": "stdout",
     "output_type": "stream",
     "text": [
      "[LightGBM] [Warning] Auto-choosing col-wise multi-threading, the overhead of testing was 0.002013 seconds.\n",
      "You can set `force_col_wise=true` to remove the overhead.\n",
      "[LightGBM] [Info] Total Bins 2949\n",
      "[LightGBM] [Info] Number of data points in the train set: 963, number of used features: 72\n",
      "[LightGBM] [Info] Start training from score 12.010615\n",
      "Training until validation scores don't improve for 20 rounds\n",
      "[10]\tvalid_0's l2: 0.0423077\n",
      "[20]\tvalid_0's l2: 0.0220026\n",
      "[30]\tvalid_0's l2: 0.0175682\n",
      "[40]\tvalid_0's l2: 0.0163798\n",
      "[50]\tvalid_0's l2: 0.0162547\n",
      "[60]\tvalid_0's l2: 0.0162622\n",
      "[70]\tvalid_0's l2: 0.0162514\n",
      "Early stopping, best iteration is:\n",
      "[58]\tvalid_0's l2: 0.0161791\n",
      "0.12719701309461987\n",
      "[LightGBM] [Warning] Auto-choosing col-wise multi-threading, the overhead of testing was 0.001874 seconds.\n",
      "You can set `force_col_wise=true` to remove the overhead.\n",
      "[LightGBM] [Info] Total Bins 2943\n",
      "[LightGBM] [Info] Number of data points in the train set: 963, number of used features: 72\n",
      "[LightGBM] [Info] Start training from score 12.018820\n",
      "Training until validation scores don't improve for 20 rounds\n",
      "[10]\tvalid_0's l2: 0.0467163\n",
      "[20]\tvalid_0's l2: 0.026693\n",
      "[30]\tvalid_0's l2: 0.0218687\n",
      "[40]\tvalid_0's l2: 0.0201122\n",
      "[50]\tvalid_0's l2: 0.0196764\n",
      "[60]\tvalid_0's l2: 0.0196786\n",
      "[70]\tvalid_0's l2: 0.0196393\n",
      "[80]\tvalid_0's l2: 0.0195357\n",
      "[90]\tvalid_0's l2: 0.0194547\n",
      "[100]\tvalid_0's l2: 0.0193847\n",
      "Did not meet early stopping. Best iteration is:\n",
      "[100]\tvalid_0's l2: 0.0193847\n",
      "0.13922901661972728\n",
      "[LightGBM] [Warning] Auto-choosing col-wise multi-threading, the overhead of testing was 0.001833 seconds.\n",
      "You can set `force_col_wise=true` to remove the overhead.\n",
      "[LightGBM] [Info] Total Bins 2987\n",
      "[LightGBM] [Info] Number of data points in the train set: 964, number of used features: 73\n",
      "[LightGBM] [Info] Start training from score 12.021869\n",
      "Training until validation scores don't improve for 20 rounds\n",
      "[10]\tvalid_0's l2: 0.0370497\n",
      "[20]\tvalid_0's l2: 0.0195352\n",
      "[30]\tvalid_0's l2: 0.016412\n",
      "[40]\tvalid_0's l2: 0.0155942\n",
      "[50]\tvalid_0's l2: 0.0151884\n",
      "[60]\tvalid_0's l2: 0.0151752\n",
      "[70]\tvalid_0's l2: 0.0153067\n",
      "Early stopping, best iteration is:\n",
      "[58]\tvalid_0's l2: 0.0151274\n",
      "0.12299343081439215\n"
     ]
    }
   ],
   "source": [
    "models = []\n",
    "rmses = []\n",
    "oof = np.zeros(len(train_X))\n",
    "\n",
    "for train_index, val_index in kf.split(train_X):\n",
    "    X_train = train_X.iloc[train_index]\n",
    "    X_valid = train_X.iloc[val_index]\n",
    "    y_train = train_Y.iloc[train_index]\n",
    "    y_valid = train_Y.iloc[val_index]\n",
    "    \n",
    "    lgb_train = lgb.Dataset(X_train, y_train)\n",
    "    lgb_eval = lgb.Dataset(X_valid, y_valid, reference=lgb_train)\n",
    "    \n",
    "    model_lgb = lgb.train(lgbm_params,\n",
    "                         lgb_train,\n",
    "                         valid_sets = lgb_eval,\n",
    "                         num_boost_round = 100, \n",
    "                         early_stopping_rounds = 20,\n",
    "                         verbose_eval=10,\n",
    "                         )\n",
    "    \n",
    "    y_pred = model_lgb.predict(X_valid, num_iteration=model_lgb.best_iteration)\n",
    "    tmp_rmse = np.sqrt(mean_squared_error(y_valid, y_pred))\n",
    "    print(tmp_rmse)\n",
    "    \n",
    "    models.append(model_lgb)\n",
    "    rmses.append(tmp_rmse)\n",
    "    oof[val_index] = y_pred"
   ]
  },
  {
   "cell_type": "code",
   "execution_count": 58,
   "id": "c95dc2df",
   "metadata": {
    "execution": {
     "iopub.execute_input": "2022-05-26T15:29:32.011168Z",
     "iopub.status.busy": "2022-05-26T15:29:32.010741Z",
     "iopub.status.idle": "2022-05-26T15:29:32.017470Z",
     "shell.execute_reply": "2022-05-26T15:29:32.016423Z"
    },
    "papermill": {
     "duration": 0.050708,
     "end_time": "2022-05-26T15:29:32.021498",
     "exception": false,
     "start_time": "2022-05-26T15:29:31.970790",
     "status": "completed"
    },
    "tags": []
   },
   "outputs": [
    {
     "data": {
      "text/plain": [
       "0.1298064868429131"
      ]
     },
     "execution_count": 58,
     "metadata": {},
     "output_type": "execute_result"
    }
   ],
   "source": [
    "sum(rmses)/len(rmses)"
   ]
  },
  {
   "cell_type": "markdown",
   "id": "fefd0bdd",
   "metadata": {
    "papermill": {
     "duration": 0.037012,
     "end_time": "2022-05-26T15:29:32.096206",
     "exception": false,
     "start_time": "2022-05-26T15:29:32.059194",
     "status": "completed"
    },
    "tags": []
   },
   "source": [
    "# Dependent Variables"
   ]
  },
  {
   "cell_type": "markdown",
   "id": "c8447b21",
   "metadata": {
    "papermill": {
     "duration": 0.038915,
     "end_time": "2022-05-26T15:29:32.173374",
     "exception": false,
     "start_time": "2022-05-26T15:29:32.134459",
     "status": "completed"
    },
    "tags": []
   },
   "source": [
    "## Time variables"
   ]
  },
  {
   "cell_type": "code",
   "execution_count": 59,
   "id": "82e7a1f5",
   "metadata": {
    "execution": {
     "iopub.execute_input": "2022-05-26T15:29:32.250093Z",
     "iopub.status.busy": "2022-05-26T15:29:32.249709Z",
     "iopub.status.idle": "2022-05-26T15:29:32.273813Z",
     "shell.execute_reply": "2022-05-26T15:29:32.273069Z"
    },
    "papermill": {
     "duration": 0.06511,
     "end_time": "2022-05-26T15:29:32.275893",
     "exception": false,
     "start_time": "2022-05-26T15:29:32.210783",
     "status": "completed"
    },
    "tags": []
   },
   "outputs": [
    {
     "data": {
      "text/html": [
       "<div>\n",
       "<style scoped>\n",
       "    .dataframe tbody tr th:only-of-type {\n",
       "        vertical-align: middle;\n",
       "    }\n",
       "\n",
       "    .dataframe tbody tr th {\n",
       "        vertical-align: top;\n",
       "    }\n",
       "\n",
       "    .dataframe thead th {\n",
       "        text-align: right;\n",
       "    }\n",
       "</style>\n",
       "<table border=\"1\" class=\"dataframe\">\n",
       "  <thead>\n",
       "    <tr style=\"text-align: right;\">\n",
       "      <th></th>\n",
       "      <th>YearBuilt</th>\n",
       "      <th>YearRemodAdd</th>\n",
       "      <th>GarageYrBlt</th>\n",
       "      <th>YrSold</th>\n",
       "    </tr>\n",
       "  </thead>\n",
       "  <tbody>\n",
       "    <tr>\n",
       "      <th>count</th>\n",
       "      <td>2904.000000</td>\n",
       "      <td>2904.000000</td>\n",
       "      <td>2745.000000</td>\n",
       "      <td>2904.000000</td>\n",
       "    </tr>\n",
       "    <tr>\n",
       "      <th>mean</th>\n",
       "      <td>1971.234504</td>\n",
       "      <td>1984.217975</td>\n",
       "      <td>1978.061202</td>\n",
       "      <td>2007.792011</td>\n",
       "    </tr>\n",
       "    <tr>\n",
       "      <th>std</th>\n",
       "      <td>30.319059</td>\n",
       "      <td>20.907346</td>\n",
       "      <td>25.600996</td>\n",
       "      <td>1.316366</td>\n",
       "    </tr>\n",
       "    <tr>\n",
       "      <th>min</th>\n",
       "      <td>1872.000000</td>\n",
       "      <td>1950.000000</td>\n",
       "      <td>1895.000000</td>\n",
       "      <td>2006.000000</td>\n",
       "    </tr>\n",
       "    <tr>\n",
       "      <th>25%</th>\n",
       "      <td>1953.000000</td>\n",
       "      <td>1965.000000</td>\n",
       "      <td>1960.000000</td>\n",
       "      <td>2007.000000</td>\n",
       "    </tr>\n",
       "    <tr>\n",
       "      <th>50%</th>\n",
       "      <td>1973.000000</td>\n",
       "      <td>1993.000000</td>\n",
       "      <td>1979.000000</td>\n",
       "      <td>2008.000000</td>\n",
       "    </tr>\n",
       "    <tr>\n",
       "      <th>75%</th>\n",
       "      <td>2001.000000</td>\n",
       "      <td>2004.000000</td>\n",
       "      <td>2002.000000</td>\n",
       "      <td>2009.000000</td>\n",
       "    </tr>\n",
       "    <tr>\n",
       "      <th>max</th>\n",
       "      <td>2010.000000</td>\n",
       "      <td>2010.000000</td>\n",
       "      <td>2207.000000</td>\n",
       "      <td>2010.000000</td>\n",
       "    </tr>\n",
       "  </tbody>\n",
       "</table>\n",
       "</div>"
      ],
      "text/plain": [
       "         YearBuilt  YearRemodAdd  GarageYrBlt       YrSold\n",
       "count  2904.000000   2904.000000  2745.000000  2904.000000\n",
       "mean   1971.234504   1984.217975  1978.061202  2007.792011\n",
       "std      30.319059     20.907346    25.600996     1.316366\n",
       "min    1872.000000   1950.000000  1895.000000  2006.000000\n",
       "25%    1953.000000   1965.000000  1960.000000  2007.000000\n",
       "50%    1973.000000   1993.000000  1979.000000  2008.000000\n",
       "75%    2001.000000   2004.000000  2002.000000  2009.000000\n",
       "max    2010.000000   2010.000000  2207.000000  2010.000000"
      ]
     },
     "execution_count": 59,
     "metadata": {},
     "output_type": "execute_result"
    }
   ],
   "source": [
    "all_df[[\"YearBuilt\", \"YearRemodAdd\", \"GarageYrBlt\", \"YrSold\"]].describe()"
   ]
  },
  {
   "cell_type": "code",
   "execution_count": 60,
   "id": "6a80b14c",
   "metadata": {
    "execution": {
     "iopub.execute_input": "2022-05-26T15:29:32.355311Z",
     "iopub.status.busy": "2022-05-26T15:29:32.354646Z",
     "iopub.status.idle": "2022-05-26T15:29:32.361384Z",
     "shell.execute_reply": "2022-05-26T15:29:32.360539Z"
    },
    "papermill": {
     "duration": 0.051702,
     "end_time": "2022-05-26T15:29:32.365179",
     "exception": false,
     "start_time": "2022-05-26T15:29:32.313477",
     "status": "completed"
    },
    "tags": []
   },
   "outputs": [],
   "source": [
    "all_df[\"Age\"] = all_df[\"YrSold\"] - all_df[\"YearBuilt\"]"
   ]
  },
  {
   "cell_type": "code",
   "execution_count": 61,
   "id": "6347d0a5",
   "metadata": {
    "execution": {
     "iopub.execute_input": "2022-05-26T15:29:32.446404Z",
     "iopub.status.busy": "2022-05-26T15:29:32.445740Z",
     "iopub.status.idle": "2022-05-26T15:29:33.350042Z",
     "shell.execute_reply": "2022-05-26T15:29:33.348482Z"
    },
    "papermill": {
     "duration": 0.947417,
     "end_time": "2022-05-26T15:29:33.353836",
     "exception": false,
     "start_time": "2022-05-26T15:29:32.406419",
     "status": "completed"
    },
    "tags": []
   },
   "outputs": [
    {
     "name": "stdout",
     "output_type": "stream",
     "text": [
      "[LightGBM] [Warning] Auto-choosing col-wise multi-threading, the overhead of testing was 0.001955 seconds.\n",
      "You can set `force_col_wise=true` to remove the overhead.\n",
      "[LightGBM] [Info] Total Bins 3046\n",
      "[LightGBM] [Info] Number of data points in the train set: 963, number of used features: 73\n",
      "[LightGBM] [Info] Start training from score 12.010615\n",
      "Training until validation scores don't improve for 20 rounds\n",
      "[10]\tvalid_0's l2: 0.042401\n",
      "[20]\tvalid_0's l2: 0.0217498\n",
      "[30]\tvalid_0's l2: 0.0175187\n",
      "[40]\tvalid_0's l2: 0.0162941\n",
      "[50]\tvalid_0's l2: 0.0160985\n",
      "[60]\tvalid_0's l2: 0.0160802\n",
      "[70]\tvalid_0's l2: 0.0161142\n",
      "[80]\tvalid_0's l2: 0.016149\n",
      "Early stopping, best iteration is:\n",
      "[68]\tvalid_0's l2: 0.0160466\n",
      "0.1266752634099996\n",
      "[LightGBM] [Warning] Auto-choosing col-wise multi-threading, the overhead of testing was 0.001905 seconds.\n",
      "You can set `force_col_wise=true` to remove the overhead.\n",
      "[LightGBM] [Info] Total Bins 3037\n",
      "[LightGBM] [Info] Number of data points in the train set: 963, number of used features: 73\n",
      "[LightGBM] [Info] Start training from score 12.018820\n",
      "Training until validation scores don't improve for 20 rounds\n",
      "[10]\tvalid_0's l2: 0.0474127\n",
      "[20]\tvalid_0's l2: 0.0267678\n",
      "[30]\tvalid_0's l2: 0.0217538\n",
      "[40]\tvalid_0's l2: 0.0202289\n",
      "[50]\tvalid_0's l2: 0.0195781\n",
      "[60]\tvalid_0's l2: 0.0193996\n",
      "[70]\tvalid_0's l2: 0.0192883\n",
      "[80]\tvalid_0's l2: 0.0191879\n",
      "[90]\tvalid_0's l2: 0.0190851\n",
      "[100]\tvalid_0's l2: 0.0190718\n",
      "Did not meet early stopping. Best iteration is:\n",
      "[92]\tvalid_0's l2: 0.0190473\n",
      "0.13801208062538026\n",
      "[LightGBM] [Warning] Auto-choosing col-wise multi-threading, the overhead of testing was 0.001874 seconds.\n",
      "You can set `force_col_wise=true` to remove the overhead.\n",
      "[LightGBM] [Info] Total Bins 3083\n",
      "[LightGBM] [Info] Number of data points in the train set: 964, number of used features: 74\n",
      "[LightGBM] [Info] Start training from score 12.021869\n",
      "Training until validation scores don't improve for 20 rounds\n",
      "[10]\tvalid_0's l2: 0.036582\n",
      "[20]\tvalid_0's l2: 0.0194084\n",
      "[30]\tvalid_0's l2: 0.0166797\n",
      "[40]\tvalid_0's l2: 0.0156895\n",
      "[50]\tvalid_0's l2: 0.0154457\n",
      "[60]\tvalid_0's l2: 0.0154421\n",
      "[70]\tvalid_0's l2: 0.0152662\n",
      "[80]\tvalid_0's l2: 0.0152912\n",
      "Early stopping, best iteration is:\n",
      "[69]\tvalid_0's l2: 0.0152521\n",
      "0.12349954721537992\n"
     ]
    }
   ],
   "source": [
    "train_df_le = all_df[~all_df[\"SalePrice\"].isnull()]\n",
    "test_df_le = all_df[all_df[\"SalePrice\"].isnull()]\n",
    "\n",
    "train_df_le[\"SalePrice_log\"] = np.log(train_df_le[\"SalePrice\"])\n",
    "\n",
    "train_X = train_df_le.drop([\"SalePrice\", \"SalePrice_log\", \"Id\"], axis=1)\n",
    "train_Y = train_df_le[\"SalePrice_log\"]\n",
    "\n",
    "models = []\n",
    "rmses = []\n",
    "oof = np.zeros(len(train_X))\n",
    "\n",
    "for train_index, val_index in kf.split(train_X):\n",
    "    X_train = train_X.iloc[train_index]\n",
    "    X_valid = train_X.iloc[val_index]\n",
    "    y_train = train_Y.iloc[train_index]\n",
    "    y_valid = train_Y.iloc[val_index]\n",
    "    \n",
    "    lgb_train = lgb.Dataset(X_train, y_train)\n",
    "    lgb_eval = lgb.Dataset(X_valid, y_valid, reference=lgb_train)\n",
    "    \n",
    "    model_lgb = lgb.train(lgbm_params,\n",
    "                         lgb_train,\n",
    "                         valid_sets = lgb_eval,\n",
    "                         num_boost_round = 100, \n",
    "                         early_stopping_rounds = 20,\n",
    "                         verbose_eval=10,\n",
    "                         )\n",
    "    \n",
    "    y_pred = model_lgb.predict(X_valid, num_iteration=model_lgb.best_iteration)\n",
    "    tmp_rmse = np.sqrt(mean_squared_error(y_valid, y_pred))\n",
    "    print(tmp_rmse)\n",
    "    \n",
    "    models.append(model_lgb)\n",
    "    rmses.append(tmp_rmse)\n",
    "    oof[val_index] = y_pred"
   ]
  },
  {
   "cell_type": "code",
   "execution_count": 62,
   "id": "cb90d322",
   "metadata": {
    "execution": {
     "iopub.execute_input": "2022-05-26T15:29:33.436791Z",
     "iopub.status.busy": "2022-05-26T15:29:33.436350Z",
     "iopub.status.idle": "2022-05-26T15:29:33.442857Z",
     "shell.execute_reply": "2022-05-26T15:29:33.442141Z"
    },
    "papermill": {
     "duration": 0.050994,
     "end_time": "2022-05-26T15:29:33.446246",
     "exception": false,
     "start_time": "2022-05-26T15:29:33.395252",
     "status": "completed"
    },
    "tags": []
   },
   "outputs": [
    {
     "data": {
      "text/plain": [
       "0.12939563041691993"
      ]
     },
     "execution_count": 62,
     "metadata": {},
     "output_type": "execute_result"
    }
   ],
   "source": [
    "sum(rmses)/len(rmses)"
   ]
  },
  {
   "cell_type": "markdown",
   "id": "898b8a06",
   "metadata": {
    "papermill": {
     "duration": 0.037833,
     "end_time": "2022-05-26T15:29:33.522538",
     "exception": false,
     "start_time": "2022-05-26T15:29:33.484705",
     "status": "completed"
    },
    "tags": []
   },
   "source": [
    "Better accuracy."
   ]
  },
  {
   "cell_type": "markdown",
   "id": "c680c963",
   "metadata": {
    "papermill": {
     "duration": 0.037819,
     "end_time": "2022-05-26T15:29:33.598617",
     "exception": false,
     "start_time": "2022-05-26T15:29:33.560798",
     "status": "completed"
    },
    "tags": []
   },
   "source": [
    "## Area variables"
   ]
  },
  {
   "cell_type": "code",
   "execution_count": 63,
   "id": "22ade99b",
   "metadata": {
    "execution": {
     "iopub.execute_input": "2022-05-26T15:29:33.680858Z",
     "iopub.status.busy": "2022-05-26T15:29:33.679600Z",
     "iopub.status.idle": "2022-05-26T15:29:33.741191Z",
     "shell.execute_reply": "2022-05-26T15:29:33.740113Z"
    },
    "papermill": {
     "duration": 0.105193,
     "end_time": "2022-05-26T15:29:33.743403",
     "exception": false,
     "start_time": "2022-05-26T15:29:33.638210",
     "status": "completed"
    },
    "tags": []
   },
   "outputs": [
    {
     "data": {
      "text/html": [
       "<div>\n",
       "<style scoped>\n",
       "    .dataframe tbody tr th:only-of-type {\n",
       "        vertical-align: middle;\n",
       "    }\n",
       "\n",
       "    .dataframe tbody tr th {\n",
       "        vertical-align: top;\n",
       "    }\n",
       "\n",
       "    .dataframe thead th {\n",
       "        text-align: right;\n",
       "    }\n",
       "</style>\n",
       "<table border=\"1\" class=\"dataframe\">\n",
       "  <thead>\n",
       "    <tr style=\"text-align: right;\">\n",
       "      <th></th>\n",
       "      <th>LotArea</th>\n",
       "      <th>MasVnrArea</th>\n",
       "      <th>BsmtUnfSF</th>\n",
       "      <th>TotalBsmtSF</th>\n",
       "      <th>1stFlrSF</th>\n",
       "      <th>2ndFlrSF</th>\n",
       "      <th>LowQualFinSF</th>\n",
       "      <th>GrLivArea</th>\n",
       "      <th>GarageArea</th>\n",
       "      <th>WoodDeckSF</th>\n",
       "      <th>OpenPorchSF</th>\n",
       "      <th>EnclosedPorch</th>\n",
       "      <th>3SsnPorch</th>\n",
       "      <th>ScreenPorch</th>\n",
       "      <th>PoolArea</th>\n",
       "      <th>LotFrontage</th>\n",
       "    </tr>\n",
       "  </thead>\n",
       "  <tbody>\n",
       "    <tr>\n",
       "      <th>count</th>\n",
       "      <td>2904.000000</td>\n",
       "      <td>2882.000000</td>\n",
       "      <td>2903.000000</td>\n",
       "      <td>2903.000000</td>\n",
       "      <td>2904.000000</td>\n",
       "      <td>2904.000000</td>\n",
       "      <td>2904.000000</td>\n",
       "      <td>2904.000000</td>\n",
       "      <td>2903.000000</td>\n",
       "      <td>2904.000000</td>\n",
       "      <td>2904.000000</td>\n",
       "      <td>2904.000000</td>\n",
       "      <td>2904.000000</td>\n",
       "      <td>2904.000000</td>\n",
       "      <td>2904.000000</td>\n",
       "      <td>2425.000000</td>\n",
       "    </tr>\n",
       "    <tr>\n",
       "      <th>mean</th>\n",
       "      <td>9912.604683</td>\n",
       "      <td>101.191187</td>\n",
       "      <td>559.850499</td>\n",
       "      <td>1043.794006</td>\n",
       "      <td>1152.707300</td>\n",
       "      <td>336.355372</td>\n",
       "      <td>4.718664</td>\n",
       "      <td>1493.781336</td>\n",
       "      <td>471.632794</td>\n",
       "      <td>93.265840</td>\n",
       "      <td>47.226584</td>\n",
       "      <td>22.988636</td>\n",
       "      <td>2.615702</td>\n",
       "      <td>16.086777</td>\n",
       "      <td>1.907025</td>\n",
       "      <td>69.071340</td>\n",
       "    </tr>\n",
       "    <tr>\n",
       "      <th>std</th>\n",
       "      <td>5178.128224</td>\n",
       "      <td>177.804595</td>\n",
       "      <td>438.438879</td>\n",
       "      <td>420.008348</td>\n",
       "      <td>377.291394</td>\n",
       "      <td>427.355787</td>\n",
       "      <td>46.515308</td>\n",
       "      <td>491.149725</td>\n",
       "      <td>214.551791</td>\n",
       "      <td>125.855568</td>\n",
       "      <td>67.195477</td>\n",
       "      <td>64.055325</td>\n",
       "      <td>25.252464</td>\n",
       "      <td>56.245764</td>\n",
       "      <td>33.082892</td>\n",
       "      <td>22.662001</td>\n",
       "    </tr>\n",
       "    <tr>\n",
       "      <th>min</th>\n",
       "      <td>1300.000000</td>\n",
       "      <td>0.000000</td>\n",
       "      <td>0.000000</td>\n",
       "      <td>0.000000</td>\n",
       "      <td>334.000000</td>\n",
       "      <td>0.000000</td>\n",
       "      <td>0.000000</td>\n",
       "      <td>334.000000</td>\n",
       "      <td>0.000000</td>\n",
       "      <td>0.000000</td>\n",
       "      <td>0.000000</td>\n",
       "      <td>0.000000</td>\n",
       "      <td>0.000000</td>\n",
       "      <td>0.000000</td>\n",
       "      <td>0.000000</td>\n",
       "      <td>21.000000</td>\n",
       "    </tr>\n",
       "    <tr>\n",
       "      <th>25%</th>\n",
       "      <td>7448.250000</td>\n",
       "      <td>0.000000</td>\n",
       "      <td>220.000000</td>\n",
       "      <td>791.500000</td>\n",
       "      <td>875.750000</td>\n",
       "      <td>0.000000</td>\n",
       "      <td>0.000000</td>\n",
       "      <td>1124.000000</td>\n",
       "      <td>319.500000</td>\n",
       "      <td>0.000000</td>\n",
       "      <td>0.000000</td>\n",
       "      <td>0.000000</td>\n",
       "      <td>0.000000</td>\n",
       "      <td>0.000000</td>\n",
       "      <td>0.000000</td>\n",
       "      <td>59.000000</td>\n",
       "    </tr>\n",
       "    <tr>\n",
       "      <th>50%</th>\n",
       "      <td>9422.000000</td>\n",
       "      <td>0.000000</td>\n",
       "      <td>467.000000</td>\n",
       "      <td>988.000000</td>\n",
       "      <td>1080.000000</td>\n",
       "      <td>0.000000</td>\n",
       "      <td>0.000000</td>\n",
       "      <td>1441.000000</td>\n",
       "      <td>478.000000</td>\n",
       "      <td>0.000000</td>\n",
       "      <td>26.000000</td>\n",
       "      <td>0.000000</td>\n",
       "      <td>0.000000</td>\n",
       "      <td>0.000000</td>\n",
       "      <td>0.000000</td>\n",
       "      <td>68.000000</td>\n",
       "    </tr>\n",
       "    <tr>\n",
       "      <th>75%</th>\n",
       "      <td>11503.000000</td>\n",
       "      <td>164.000000</td>\n",
       "      <td>802.500000</td>\n",
       "      <td>1296.000000</td>\n",
       "      <td>1381.250000</td>\n",
       "      <td>704.000000</td>\n",
       "      <td>0.000000</td>\n",
       "      <td>1739.250000</td>\n",
       "      <td>576.000000</td>\n",
       "      <td>168.000000</td>\n",
       "      <td>69.250000</td>\n",
       "      <td>0.000000</td>\n",
       "      <td>0.000000</td>\n",
       "      <td>0.000000</td>\n",
       "      <td>0.000000</td>\n",
       "      <td>80.000000</td>\n",
       "    </tr>\n",
       "    <tr>\n",
       "      <th>max</th>\n",
       "      <td>70761.000000</td>\n",
       "      <td>1600.000000</td>\n",
       "      <td>2336.000000</td>\n",
       "      <td>5095.000000</td>\n",
       "      <td>5095.000000</td>\n",
       "      <td>1872.000000</td>\n",
       "      <td>1064.000000</td>\n",
       "      <td>5095.000000</td>\n",
       "      <td>1488.000000</td>\n",
       "      <td>1424.000000</td>\n",
       "      <td>742.000000</td>\n",
       "      <td>1012.000000</td>\n",
       "      <td>508.000000</td>\n",
       "      <td>576.000000</td>\n",
       "      <td>800.000000</td>\n",
       "      <td>313.000000</td>\n",
       "    </tr>\n",
       "  </tbody>\n",
       "</table>\n",
       "</div>"
      ],
      "text/plain": [
       "            LotArea   MasVnrArea    BsmtUnfSF  TotalBsmtSF     1stFlrSF  \\\n",
       "count   2904.000000  2882.000000  2903.000000  2903.000000  2904.000000   \n",
       "mean    9912.604683   101.191187   559.850499  1043.794006  1152.707300   \n",
       "std     5178.128224   177.804595   438.438879   420.008348   377.291394   \n",
       "min     1300.000000     0.000000     0.000000     0.000000   334.000000   \n",
       "25%     7448.250000     0.000000   220.000000   791.500000   875.750000   \n",
       "50%     9422.000000     0.000000   467.000000   988.000000  1080.000000   \n",
       "75%    11503.000000   164.000000   802.500000  1296.000000  1381.250000   \n",
       "max    70761.000000  1600.000000  2336.000000  5095.000000  5095.000000   \n",
       "\n",
       "          2ndFlrSF  LowQualFinSF    GrLivArea   GarageArea   WoodDeckSF  \\\n",
       "count  2904.000000   2904.000000  2904.000000  2903.000000  2904.000000   \n",
       "mean    336.355372      4.718664  1493.781336   471.632794    93.265840   \n",
       "std     427.355787     46.515308   491.149725   214.551791   125.855568   \n",
       "min       0.000000      0.000000   334.000000     0.000000     0.000000   \n",
       "25%       0.000000      0.000000  1124.000000   319.500000     0.000000   \n",
       "50%       0.000000      0.000000  1441.000000   478.000000     0.000000   \n",
       "75%     704.000000      0.000000  1739.250000   576.000000   168.000000   \n",
       "max    1872.000000   1064.000000  5095.000000  1488.000000  1424.000000   \n",
       "\n",
       "       OpenPorchSF  EnclosedPorch    3SsnPorch  ScreenPorch     PoolArea  \\\n",
       "count  2904.000000    2904.000000  2904.000000  2904.000000  2904.000000   \n",
       "mean     47.226584      22.988636     2.615702    16.086777     1.907025   \n",
       "std      67.195477      64.055325    25.252464    56.245764    33.082892   \n",
       "min       0.000000       0.000000     0.000000     0.000000     0.000000   \n",
       "25%       0.000000       0.000000     0.000000     0.000000     0.000000   \n",
       "50%      26.000000       0.000000     0.000000     0.000000     0.000000   \n",
       "75%      69.250000       0.000000     0.000000     0.000000     0.000000   \n",
       "max     742.000000    1012.000000   508.000000   576.000000   800.000000   \n",
       "\n",
       "       LotFrontage  \n",
       "count  2425.000000  \n",
       "mean     69.071340  \n",
       "std      22.662001  \n",
       "min      21.000000  \n",
       "25%      59.000000  \n",
       "50%      68.000000  \n",
       "75%      80.000000  \n",
       "max     313.000000  "
      ]
     },
     "execution_count": 63,
     "metadata": {},
     "output_type": "execute_result"
    }
   ],
   "source": [
    "all_df[[\"LotArea\", \"MasVnrArea\", \"BsmtUnfSF\", \"TotalBsmtSF\", \"1stFlrSF\", \"2ndFlrSF\", \"LowQualFinSF\",\n",
    "        \"GrLivArea\", \"GarageArea\", \"WoodDeckSF\", \"OpenPorchSF\", \"EnclosedPorch\", \"3SsnPorch\", \"ScreenPorch\",\n",
    "        \"PoolArea\", \"LotFrontage\"]].describe()"
   ]
  },
  {
   "cell_type": "code",
   "execution_count": 64,
   "id": "1dfef414",
   "metadata": {
    "execution": {
     "iopub.execute_input": "2022-05-26T15:29:33.825294Z",
     "iopub.status.busy": "2022-05-26T15:29:33.824550Z",
     "iopub.status.idle": "2022-05-26T15:29:33.848228Z",
     "shell.execute_reply": "2022-05-26T15:29:33.846622Z"
    },
    "papermill": {
     "duration": 0.070504,
     "end_time": "2022-05-26T15:29:33.852800",
     "exception": false,
     "start_time": "2022-05-26T15:29:33.782296",
     "status": "completed"
    },
    "tags": []
   },
   "outputs": [],
   "source": [
    "all_df[\"TotalSF\"] = all_df[\"TotalBsmtSF\"] + all_df[\"1stFlrSF\"] + all_df[\"2ndFlrSF\"]\n",
    "all_df[\"Total_Bathrooms\"] = all_df[\"FullBath\"] + all_df[\"HalfBath\"] + all_df[\n",
    "    \"BsmtFullBath\"] + all_df[\"BsmtHalfBath\"]\n",
    "all_df[\"Total_PorchSF\"] = all_df[\"WoodDeckSF\"] + all_df[\"OpenPorchSF\"] + all_df[\n",
    "    \"EnclosedPorch\"] + all_df[\"3SsnPorch\"] + all_df[\"ScreenPorch\"]\n",
    "all_df[\"hasPorch\"] = all_df[\"Total_PorchSF\"].apply(lambda x: 1 if x > 0 else 0)\n",
    "all_df = all_df.drop(\"Total_PorchSF\", axis=1)"
   ]
  },
  {
   "cell_type": "code",
   "execution_count": 65,
   "id": "6c175b57",
   "metadata": {
    "execution": {
     "iopub.execute_input": "2022-05-26T15:29:33.934983Z",
     "iopub.status.busy": "2022-05-26T15:29:33.934524Z",
     "iopub.status.idle": "2022-05-26T15:29:34.836318Z",
     "shell.execute_reply": "2022-05-26T15:29:34.835506Z"
    },
    "papermill": {
     "duration": 0.946052,
     "end_time": "2022-05-26T15:29:34.839479",
     "exception": false,
     "start_time": "2022-05-26T15:29:33.893427",
     "status": "completed"
    },
    "tags": []
   },
   "outputs": [
    {
     "name": "stdout",
     "output_type": "stream",
     "text": [
      "[LightGBM] [Warning] Auto-choosing col-wise multi-threading, the overhead of testing was 0.001968 seconds.\n",
      "You can set `force_col_wise=true` to remove the overhead.\n",
      "[LightGBM] [Info] Total Bins 3310\n",
      "[LightGBM] [Info] Number of data points in the train set: 963, number of used features: 76\n",
      "[LightGBM] [Info] Start training from score 12.010615\n",
      "Training until validation scores don't improve for 20 rounds\n",
      "[10]\tvalid_0's l2: 0.0382198\n",
      "[20]\tvalid_0's l2: 0.0195098\n",
      "[30]\tvalid_0's l2: 0.0163133\n",
      "[40]\tvalid_0's l2: 0.0155157\n",
      "[50]\tvalid_0's l2: 0.0154576\n",
      "[60]\tvalid_0's l2: 0.0155145\n",
      "Early stopping, best iteration is:\n",
      "[48]\tvalid_0's l2: 0.0154265\n",
      "0.12420330159076388\n",
      "[LightGBM] [Warning] Auto-choosing col-wise multi-threading, the overhead of testing was 0.002019 seconds.\n",
      "You can set `force_col_wise=true` to remove the overhead.\n",
      "[LightGBM] [Info] Total Bins 3300\n",
      "[LightGBM] [Info] Number of data points in the train set: 963, number of used features: 76\n",
      "[LightGBM] [Info] Start training from score 12.018820\n",
      "Training until validation scores don't improve for 20 rounds\n",
      "[10]\tvalid_0's l2: 0.0453783\n",
      "[20]\tvalid_0's l2: 0.025826\n",
      "[30]\tvalid_0's l2: 0.0215187\n",
      "[40]\tvalid_0's l2: 0.0201657\n",
      "[50]\tvalid_0's l2: 0.0198966\n",
      "[60]\tvalid_0's l2: 0.0197534\n",
      "[70]\tvalid_0's l2: 0.0196558\n",
      "[80]\tvalid_0's l2: 0.0195791\n",
      "[90]\tvalid_0's l2: 0.01961\n",
      "[100]\tvalid_0's l2: 0.0195983\n",
      "Early stopping, best iteration is:\n",
      "[80]\tvalid_0's l2: 0.0195791\n",
      "0.13992537633195495\n",
      "[LightGBM] [Warning] Auto-choosing col-wise multi-threading, the overhead of testing was 0.002261 seconds.\n",
      "You can set `force_col_wise=true` to remove the overhead.\n",
      "[LightGBM] [Info] Total Bins 3347\n",
      "[LightGBM] [Info] Number of data points in the train set: 964, number of used features: 77\n",
      "[LightGBM] [Info] Start training from score 12.021869\n",
      "Training until validation scores don't improve for 20 rounds\n",
      "[10]\tvalid_0's l2: 0.0351087\n",
      "[20]\tvalid_0's l2: 0.0182816\n",
      "[30]\tvalid_0's l2: 0.0151312\n",
      "[40]\tvalid_0's l2: 0.0142171\n",
      "[50]\tvalid_0's l2: 0.0139836\n",
      "[60]\tvalid_0's l2: 0.0138187\n",
      "[70]\tvalid_0's l2: 0.0138913\n",
      "[80]\tvalid_0's l2: 0.013994\n",
      "Early stopping, best iteration is:\n",
      "[66]\tvalid_0's l2: 0.0137713\n",
      "0.11735107013879016\n"
     ]
    }
   ],
   "source": [
    "train_df_le = all_df[~all_df[\"SalePrice\"].isnull()]\n",
    "test_df_le = all_df[all_df[\"SalePrice\"].isnull()]\n",
    "\n",
    "train_df_le[\"SalePrice_log\"] = np.log(train_df_le[\"SalePrice\"])\n",
    "\n",
    "train_X = train_df_le.drop([\"SalePrice\", \"SalePrice_log\", \"Id\"], axis=1)\n",
    "train_Y = train_df_le[\"SalePrice_log\"]\n",
    "\n",
    "models = []\n",
    "rmses = []\n",
    "oof = np.zeros(len(train_X))\n",
    "\n",
    "for train_index, val_index in kf.split(train_X):\n",
    "    X_train = train_X.iloc[train_index]\n",
    "    X_valid = train_X.iloc[val_index]\n",
    "    y_train = train_Y.iloc[train_index]\n",
    "    y_valid = train_Y.iloc[val_index]\n",
    "    \n",
    "    lgb_train = lgb.Dataset(X_train, y_train)\n",
    "    lgb_eval = lgb.Dataset(X_valid, y_valid, reference=lgb_train)\n",
    "    \n",
    "    model_lgb = lgb.train(lgbm_params,\n",
    "                         lgb_train,\n",
    "                         valid_sets = lgb_eval,\n",
    "                         num_boost_round = 100, \n",
    "                         early_stopping_rounds = 20,\n",
    "                         verbose_eval=10,\n",
    "                         )\n",
    "    \n",
    "    y_pred = model_lgb.predict(X_valid, num_iteration=model_lgb.best_iteration)\n",
    "    tmp_rmse = np.sqrt(mean_squared_error(y_valid, y_pred))\n",
    "    print(tmp_rmse)\n",
    "    \n",
    "    models.append(model_lgb)\n",
    "    rmses.append(tmp_rmse)\n",
    "    oof[val_index] = y_pred"
   ]
  },
  {
   "cell_type": "code",
   "execution_count": 66,
   "id": "a78a275c",
   "metadata": {
    "execution": {
     "iopub.execute_input": "2022-05-26T15:29:34.924535Z",
     "iopub.status.busy": "2022-05-26T15:29:34.924120Z",
     "iopub.status.idle": "2022-05-26T15:29:34.930033Z",
     "shell.execute_reply": "2022-05-26T15:29:34.929348Z"
    },
    "papermill": {
     "duration": 0.048689,
     "end_time": "2022-05-26T15:29:34.932398",
     "exception": false,
     "start_time": "2022-05-26T15:29:34.883709",
     "status": "completed"
    },
    "tags": []
   },
   "outputs": [
    {
     "data": {
      "text/plain": [
       "0.127159916020503"
      ]
     },
     "execution_count": 66,
     "metadata": {},
     "output_type": "execute_result"
    }
   ],
   "source": [
    "sum(rmses)/len(rmses)"
   ]
  },
  {
   "cell_type": "markdown",
   "id": "ae3e84ad",
   "metadata": {
    "papermill": {
     "duration": 0.040039,
     "end_time": "2022-05-26T15:29:35.012779",
     "exception": false,
     "start_time": "2022-05-26T15:29:34.972740",
     "status": "completed"
    },
    "tags": []
   },
   "source": [
    "Even better accuracy."
   ]
  },
  {
   "cell_type": "markdown",
   "id": "1000d056",
   "metadata": {
    "papermill": {
     "duration": 0.040678,
     "end_time": "2022-05-26T15:29:35.094428",
     "exception": false,
     "start_time": "2022-05-26T15:29:35.053750",
     "status": "completed"
    },
    "tags": []
   },
   "source": [
    "# Tuning Hyperparameters"
   ]
  },
  {
   "cell_type": "code",
   "execution_count": 67,
   "id": "bff3bc82",
   "metadata": {
    "execution": {
     "iopub.execute_input": "2022-05-26T15:29:35.175810Z",
     "iopub.status.busy": "2022-05-26T15:29:35.175143Z",
     "iopub.status.idle": "2022-05-26T15:29:36.046018Z",
     "shell.execute_reply": "2022-05-26T15:29:36.044957Z"
    },
    "papermill": {
     "duration": 0.914141,
     "end_time": "2022-05-26T15:29:36.048539",
     "exception": false,
     "start_time": "2022-05-26T15:29:35.134398",
     "status": "completed"
    },
    "tags": []
   },
   "outputs": [],
   "source": [
    "import optuna\n",
    "from sklearn.model_selection import train_test_split"
   ]
  },
  {
   "cell_type": "code",
   "execution_count": 68,
   "id": "eaa44e90",
   "metadata": {
    "execution": {
     "iopub.execute_input": "2022-05-26T15:29:36.127952Z",
     "iopub.status.busy": "2022-05-26T15:29:36.127536Z",
     "iopub.status.idle": "2022-05-26T15:29:36.137342Z",
     "shell.execute_reply": "2022-05-26T15:29:36.136519Z"
    },
    "papermill": {
     "duration": 0.051924,
     "end_time": "2022-05-26T15:29:36.139517",
     "exception": false,
     "start_time": "2022-05-26T15:29:36.087593",
     "status": "completed"
    },
    "tags": []
   },
   "outputs": [],
   "source": [
    "X_train, X_valid, y_train, y_valid = train_test_split(train_X, train_Y, test_size=0.2, random_state=1234,\n",
    "                                                     shuffle=False, stratify=None)"
   ]
  },
  {
   "cell_type": "code",
   "execution_count": 69,
   "id": "011fa76c",
   "metadata": {
    "execution": {
     "iopub.execute_input": "2022-05-26T15:29:36.221566Z",
     "iopub.status.busy": "2022-05-26T15:29:36.220988Z",
     "iopub.status.idle": "2022-05-26T15:29:36.231447Z",
     "shell.execute_reply": "2022-05-26T15:29:36.230497Z"
    },
    "papermill": {
     "duration": 0.053815,
     "end_time": "2022-05-26T15:29:36.233755",
     "exception": false,
     "start_time": "2022-05-26T15:29:36.179940",
     "status": "completed"
    },
    "tags": []
   },
   "outputs": [],
   "source": [
    "def objective(trial):\n",
    "    params = {\n",
    "        \"objective\":\"regression\",\n",
    "        \"random_seed\":1234,\n",
    "        \"learning_rate\":0.05,\n",
    "        \"n_estimators\":1000,\n",
    "        \"num_leaves\":trial.suggest_int(\"num_leaves\", 4, 64),\n",
    "        \"max_bin\":trial.suggest_int(\"max_bin\", 50, 200),\n",
    "        \"bagging_fraction\":trial.suggest_uniform(\"bagging_fraction\", 0.4, 0.9),\n",
    "        \"bagging_freq\":trial.suggest_int(\"bagging_freq\", 1, 10),\n",
    "        \"feature_fraction\":trial.suggest_uniform(\"feature_fraction\", 0.4, 0.9),\n",
    "        \"min_data_in_leaf\":trial.suggest_int(\"min_data_in_leaf\", 2, 16),\n",
    "        \"min_sum_hessian_in_leaf\":trial.suggest_int(\"min_sum_hessian_in_leaf\", 1, 10),\n",
    "    }\n",
    "        \n",
    "    lgb_train = lgb.Dataset(X_train, y_train)\n",
    "    lgb_eval = lgb.Dataset(X_valid, y_valid, reference=lgb_train)\n",
    "    \n",
    "    model_lgb = lgb.train(params,\n",
    "                         lgb_train,\n",
    "                         valid_sets = lgb_eval,\n",
    "                         num_boost_round = 100, \n",
    "                         early_stopping_rounds = 20,\n",
    "                         verbose_eval=10,\n",
    "                         )\n",
    "    \n",
    "    y_pred = model_lgb.predict(X_valid, num_iteration=model_lgb.best_iteration)\n",
    "    score = np.sqrt(mean_squared_error(y_valid, y_pred))\n",
    "    return score"
   ]
  },
  {
   "cell_type": "code",
   "execution_count": 70,
   "id": "320324fe",
   "metadata": {
    "execution": {
     "iopub.execute_input": "2022-05-26T15:29:36.313744Z",
     "iopub.status.busy": "2022-05-26T15:29:36.313336Z",
     "iopub.status.idle": "2022-05-26T15:29:57.057618Z",
     "shell.execute_reply": "2022-05-26T15:29:57.056614Z"
    },
    "papermill": {
     "duration": 20.787049,
     "end_time": "2022-05-26T15:29:57.060188",
     "exception": false,
     "start_time": "2022-05-26T15:29:36.273139",
     "status": "completed"
    },
    "tags": []
   },
   "outputs": [
    {
     "name": "stderr",
     "output_type": "stream",
     "text": [
      "\u001b[32m[I 2022-05-26 15:29:36,316]\u001b[0m A new study created in memory with name: no-name-b0cfc5a1-4d4d-480d-8b64-5809267f1d48\u001b[0m\n"
     ]
    },
    {
     "name": "stdout",
     "output_type": "stream",
     "text": [
      "[LightGBM] [Warning] Auto-choosing col-wise multi-threading, the overhead of testing was 0.001487 seconds.\n",
      "You can set `force_col_wise=true` to remove the overhead.\n",
      "[LightGBM] [Info] Total Bins 2805\n",
      "[LightGBM] [Info] Number of data points in the train set: 1156, number of used features: 78\n",
      "[LightGBM] [Info] Start training from score 12.015333\n",
      "Training until validation scores don't improve for 20 rounds\n",
      "[10]\tvalid_0's l2: 0.0659468\n",
      "[20]\tvalid_0's l2: 0.0360287\n",
      "[30]\tvalid_0's l2: 0.0239196\n",
      "[40]\tvalid_0's l2: 0.0183967\n",
      "[50]\tvalid_0's l2: 0.0161611\n"
     ]
    },
    {
     "name": "stderr",
     "output_type": "stream",
     "text": [
      "\u001b[32m[I 2022-05-26 15:29:36,790]\u001b[0m Trial 0 finished with value: 0.11921948775949834 and parameters: {'num_leaves': 37, 'max_bin': 157, 'bagging_fraction': 0.7013816880358219, 'bagging_freq': 6, 'feature_fraction': 0.6118273996694523, 'min_data_in_leaf': 11, 'min_sum_hessian_in_leaf': 5}. Best is trial 0 with value: 0.11921948775949834.\u001b[0m\n"
     ]
    },
    {
     "name": "stdout",
     "output_type": "stream",
     "text": [
      "[60]\tvalid_0's l2: 0.015461\n",
      "[70]\tvalid_0's l2: 0.0148438\n",
      "[80]\tvalid_0's l2: 0.0145826\n",
      "[90]\tvalid_0's l2: 0.0144628\n",
      "[100]\tvalid_0's l2: 0.0143176\n",
      "[110]\tvalid_0's l2: 0.0142316\n",
      "[120]\tvalid_0's l2: 0.0142159\n",
      "[130]\tvalid_0's l2: 0.0142722\n",
      "Early stopping, best iteration is:\n",
      "[119]\tvalid_0's l2: 0.0142133\n",
      "[LightGBM] [Warning] Auto-choosing col-wise multi-threading, the overhead of testing was 0.001462 seconds.\n",
      "You can set `force_col_wise=true` to remove the overhead.\n",
      "[LightGBM] [Info] Total Bins 3097\n",
      "[LightGBM] [Info] Number of data points in the train set: 1156, number of used features: 78\n",
      "[LightGBM] [Info] Start training from score 12.015333\n",
      "[LightGBM] [Warning] No further splits with positive gain, best gain: -inf\n",
      "Training until validation scores don't improve for 20 rounds\n",
      "[LightGBM] [Warning] No further splits with positive gain, best gain: -inf\n",
      "[LightGBM] [Warning] No further splits with positive gain, best gain: -inf\n",
      "[LightGBM] [Warning] No further splits with positive gain, best gain: -inf\n",
      "[LightGBM] [Warning] No further splits with positive gain, best gain: -inf\n",
      "[LightGBM] [Warning] No further splits with positive gain, best gain: -inf\n",
      "[LightGBM] [Warning] No further splits with positive gain, best gain: -inf\n",
      "[LightGBM] [Warning] No further splits with positive gain, best gain: -inf\n",
      "[LightGBM] [Warning] No further splits with positive gain, best gain: -inf\n",
      "[LightGBM] [Warning] No further splits with positive gain, best gain: -inf\n",
      "[10]\tvalid_0's l2: 0.064469\n",
      "[LightGBM] [Warning] No further splits with positive gain, best gain: -inf\n",
      "[LightGBM] [Warning] No further splits with positive gain, best gain: -inf\n",
      "[LightGBM] [Warning] No further splits with positive gain, best gain: -inf\n",
      "[LightGBM] [Warning] No further splits with positive gain, best gain: -inf\n",
      "[LightGBM] [Warning] No further splits with positive gain, best gain: -inf\n",
      "[LightGBM] [Warning] No further splits with positive gain, best gain: -inf\n",
      "[LightGBM] [Warning] No further splits with positive gain, best gain: -inf\n",
      "[LightGBM] [Warning] No further splits with positive gain, best gain: -inf\n",
      "[LightGBM] [Warning] No further splits with positive gain, best gain: -inf\n",
      "[LightGBM] [Warning] No further splits with positive gain, best gain: -inf\n",
      "[20]\tvalid_0's l2: 0.0353079\n",
      "[LightGBM] [Warning] No further splits with positive gain, best gain: -inf\n",
      "[LightGBM] [Warning] No further splits with positive gain, best gain: -inf\n",
      "[LightGBM] [Warning] No further splits with positive gain, best gain: -inf\n",
      "[LightGBM] [Warning] No further splits with positive gain, best gain: -inf\n",
      "[LightGBM] [Warning] No further splits with positive gain, best gain: -inf\n",
      "[LightGBM] [Warning] No further splits with positive gain, best gain: -inf\n",
      "[LightGBM] [Warning] No further splits with positive gain, best gain: -inf\n",
      "[LightGBM] [Warning] No further splits with positive gain, best gain: -inf\n",
      "[LightGBM] [Warning] No further splits with positive gain, best gain: -inf\n",
      "[LightGBM] [Warning] No further splits with positive gain, best gain: -inf\n",
      "[30]\tvalid_0's l2: 0.0235852\n",
      "[LightGBM] [Warning] No further splits with positive gain, best gain: -inf\n",
      "[LightGBM] [Warning] No further splits with positive gain, best gain: -inf\n",
      "[LightGBM] [Warning] No further splits with positive gain, best gain: -inf\n",
      "[LightGBM] [Warning] No further splits with positive gain, best gain: -inf\n",
      "[LightGBM] [Warning] No further splits with positive gain, best gain: -inf\n",
      "[LightGBM] [Warning] No further splits with positive gain, best gain: -inf\n",
      "[LightGBM] [Warning] No further splits with positive gain, best gain: -inf\n",
      "[LightGBM] [Warning] No further splits with positive gain, best gain: -inf\n",
      "[LightGBM] [Warning] No further splits with positive gain, best gain: -inf\n",
      "[LightGBM] [Warning] No further splits with positive gain, best gain: -inf\n",
      "[40]\tvalid_0's l2: 0.0183391\n",
      "[LightGBM] [Warning] No further splits with positive gain, best gain: -inf\n",
      "[LightGBM] [Warning] No further splits with positive gain, best gain: -inf\n",
      "[LightGBM] [Warning] No further splits with positive gain, best gain: -inf\n",
      "[LightGBM] [Warning] No further splits with positive gain, best gain: -inf\n",
      "[LightGBM] [Warning] No further splits with positive gain, best gain: -inf\n",
      "[LightGBM] [Warning] No further splits with positive gain, best gain: -inf\n",
      "[LightGBM] [Warning] No further splits with positive gain, best gain: -inf\n",
      "[LightGBM] [Warning] No further splits with positive gain, best gain: -inf\n",
      "[LightGBM] [Warning] No further splits with positive gain, best gain: -inf\n",
      "[LightGBM] [Warning] No further splits with positive gain, best gain: -inf\n",
      "[50]\tvalid_0's l2: 0.0158484\n",
      "[LightGBM] [Warning] No further splits with positive gain, best gain: -inf\n",
      "[LightGBM] [Warning] No further splits with positive gain, best gain: -inf\n",
      "[LightGBM] [Warning] No further splits with positive gain, best gain: -inf\n",
      "[LightGBM] [Warning] No further splits with positive gain, best gain: -inf\n",
      "[LightGBM] [Warning] No further splits with positive gain, best gain: -inf\n",
      "[LightGBM] [Warning] No further splits with positive gain, best gain: -inf\n",
      "[LightGBM] [Warning] No further splits with positive gain, best gain: -inf\n",
      "[LightGBM] [Warning] No further splits with positive gain, best gain: -inf\n",
      "[LightGBM] [Warning] No further splits with positive gain, best gain: -inf\n",
      "[LightGBM] [Warning] No further splits with positive gain, best gain: -inf\n",
      "[60]\tvalid_0's l2: 0.0148819\n",
      "[LightGBM] [Warning] No further splits with positive gain, best gain: -inf\n",
      "[LightGBM] [Warning] No further splits with positive gain, best gain: -inf\n",
      "[LightGBM] [Warning] No further splits with positive gain, best gain: -inf\n",
      "[LightGBM] [Warning] No further splits with positive gain, best gain: -inf\n",
      "[LightGBM] [Warning] No further splits with positive gain, best gain: -inf\n",
      "[LightGBM] [Warning] No further splits with positive gain, best gain: -inf\n",
      "[LightGBM] [Warning] No further splits with positive gain, best gain: -inf\n",
      "[LightGBM] [Warning] No further splits with positive gain, best gain: -inf\n",
      "[LightGBM] [Warning] No further splits with positive gain, best gain: -inf\n",
      "[LightGBM] [Warning] No further splits with positive gain, best gain: -inf\n",
      "[70]\tvalid_0's l2: 0.0146264\n",
      "[LightGBM] [Warning] No further splits with positive gain, best gain: -inf\n",
      "[LightGBM] [Warning] No further splits with positive gain, best gain: -inf\n",
      "[LightGBM] [Warning] No further splits with positive gain, best gain: -inf\n",
      "[LightGBM] [Warning] No further splits with positive gain, best gain: -inf\n",
      "[LightGBM] [Warning] No further splits with positive gain, best gain: -inf\n"
     ]
    },
    {
     "name": "stderr",
     "output_type": "stream",
     "text": [
      "\u001b[32m[I 2022-05-26 15:29:37,164]\u001b[0m Trial 1 finished with value: 0.12012901418633552 and parameters: {'num_leaves': 58, 'max_bin': 195, 'bagging_fraction': 0.5917207594128888, 'bagging_freq': 8, 'feature_fraction': 0.6644474598764523, 'min_data_in_leaf': 10, 'min_sum_hessian_in_leaf': 10}. Best is trial 0 with value: 0.11921948775949834.\u001b[0m\n"
     ]
    },
    {
     "name": "stdout",
     "output_type": "stream",
     "text": [
      "[LightGBM] [Warning] No further splits with positive gain, best gain: -inf\n",
      "[LightGBM] [Warning] No further splits with positive gain, best gain: -inf\n",
      "[LightGBM] [Warning] No further splits with positive gain, best gain: -inf\n",
      "[LightGBM] [Warning] No further splits with positive gain, best gain: -inf\n",
      "[LightGBM] [Warning] No further splits with positive gain, best gain: -inf\n",
      "[80]\tvalid_0's l2: 0.0144416\n",
      "[LightGBM] [Warning] No further splits with positive gain, best gain: -inf\n",
      "[LightGBM] [Warning] No further splits with positive gain, best gain: -inf\n",
      "[LightGBM] [Warning] No further splits with positive gain, best gain: -inf\n",
      "[LightGBM] [Warning] No further splits with positive gain, best gain: -inf\n",
      "[LightGBM] [Warning] No further splits with positive gain, best gain: -inf\n",
      "[LightGBM] [Warning] No further splits with positive gain, best gain: -inf\n",
      "[LightGBM] [Warning] No further splits with positive gain, best gain: -inf\n",
      "[LightGBM] [Warning] No further splits with positive gain, best gain: -inf\n",
      "[LightGBM] [Warning] No further splits with positive gain, best gain: -inf\n",
      "[LightGBM] [Warning] No further splits with positive gain, best gain: -inf\n",
      "[90]\tvalid_0's l2: 0.0144495\n",
      "[LightGBM] [Warning] No further splits with positive gain, best gain: -inf\n",
      "[LightGBM] [Warning] No further splits with positive gain, best gain: -inf\n",
      "[LightGBM] [Warning] No further splits with positive gain, best gain: -inf\n",
      "[LightGBM] [Warning] No further splits with positive gain, best gain: -inf\n",
      "[LightGBM] [Warning] No further splits with positive gain, best gain: -inf\n",
      "[LightGBM] [Warning] No further splits with positive gain, best gain: -inf\n",
      "[LightGBM] [Warning] No further splits with positive gain, best gain: -inf\n",
      "[LightGBM] [Warning] No further splits with positive gain, best gain: -inf\n",
      "[100]\tvalid_0's l2: 0.0145374\n",
      "[LightGBM] [Warning] No further splits with positive gain, best gain: -inf\n",
      "[LightGBM] [Warning] No further splits with positive gain, best gain: -inf\n",
      "[LightGBM] [Warning] No further splits with positive gain, best gain: -inf\n",
      "Early stopping, best iteration is:\n",
      "[85]\tvalid_0's l2: 0.014431\n",
      "[LightGBM] [Warning] Auto-choosing col-wise multi-threading, the overhead of testing was 0.001459 seconds.\n",
      "You can set `force_col_wise=true` to remove the overhead.\n",
      "[LightGBM] [Info] Total Bins 1571\n",
      "[LightGBM] [Info] Number of data points in the train set: 1156, number of used features: 78\n"
     ]
    },
    {
     "name": "stderr",
     "output_type": "stream",
     "text": [
      "\u001b[32m[I 2022-05-26 15:29:37,374]\u001b[0m Trial 2 finished with value: 0.12243462195761393 and parameters: {'num_leaves': 8, 'max_bin': 63, 'bagging_fraction': 0.4101091987201629, 'bagging_freq': 9, 'feature_fraction': 0.7890783754749253, 'min_data_in_leaf': 15, 'min_sum_hessian_in_leaf': 10}. Best is trial 0 with value: 0.11921948775949834.\u001b[0m\n"
     ]
    },
    {
     "name": "stdout",
     "output_type": "stream",
     "text": [
      "[LightGBM] [Info] Start training from score 12.015333\n",
      "Training until validation scores don't improve for 20 rounds\n",
      "[10]\tvalid_0's l2: 0.0723969\n",
      "[20]\tvalid_0's l2: 0.0430363\n",
      "[30]\tvalid_0's l2: 0.0303053\n",
      "[40]\tvalid_0's l2: 0.0239242\n",
      "[50]\tvalid_0's l2: 0.0202706\n",
      "[60]\tvalid_0's l2: 0.0183297\n",
      "[70]\tvalid_0's l2: 0.0171541\n",
      "[80]\tvalid_0's l2: 0.0162883\n",
      "[90]\tvalid_0's l2: 0.0158127\n",
      "[100]\tvalid_0's l2: 0.0154521\n",
      "[110]\tvalid_0's l2: 0.0149976\n",
      "[120]\tvalid_0's l2: 0.0150278\n",
      "[130]\tvalid_0's l2: 0.0150877\n",
      "Early stopping, best iteration is:\n",
      "[113]\tvalid_0's l2: 0.0149902\n",
      "[LightGBM] [Warning] Auto-choosing col-wise multi-threading, the overhead of testing was 0.001434 seconds.\n",
      "You can set `force_col_wise=true` to remove the overhead.\n",
      "[LightGBM] [Info] Total Bins 2354\n",
      "[LightGBM] [Info] Number of data points in the train set: 1156, number of used features: 79\n",
      "[LightGBM] [Info] Start training from score 12.015333\n",
      "Training until validation scores don't improve for 20 rounds\n",
      "[10]\tvalid_0's l2: 0.0641327\n",
      "[20]\tvalid_0's l2: 0.034555\n",
      "[30]\tvalid_0's l2: 0.0232564\n",
      "[40]\tvalid_0's l2: 0.0185056\n",
      "[50]\tvalid_0's l2: 0.0165158\n",
      "[60]\tvalid_0's l2: 0.0155843\n",
      "[70]\tvalid_0's l2: 0.0151748\n",
      "[80]\tvalid_0's l2: 0.014894\n",
      "[90]\tvalid_0's l2: 0.0148207\n",
      "[100]\tvalid_0's l2: 0.0146971\n",
      "[110]\tvalid_0's l2: 0.0146044\n",
      "[120]\tvalid_0's l2: 0.0145469\n",
      "[130]\tvalid_0's l2: 0.0144888\n",
      "[140]\tvalid_0's l2: 0.0143614\n",
      "[150]\tvalid_0's l2: 0.014341\n"
     ]
    },
    {
     "name": "stderr",
     "output_type": "stream",
     "text": [
      "\u001b[32m[I 2022-05-26 15:29:38,012]\u001b[0m Trial 3 finished with value: 0.11948763685441077 and parameters: {'num_leaves': 52, 'max_bin': 119, 'bagging_fraction': 0.7902645881432278, 'bagging_freq': 2, 'feature_fraction': 0.7199605106637619, 'min_data_in_leaf': 4, 'min_sum_hessian_in_leaf': 10}. Best is trial 0 with value: 0.11921948775949834.\u001b[0m\n"
     ]
    },
    {
     "name": "stdout",
     "output_type": "stream",
     "text": [
      "[160]\tvalid_0's l2: 0.0143097\n",
      "[170]\tvalid_0's l2: 0.0143001\n",
      "Early stopping, best iteration is:\n",
      "[157]\tvalid_0's l2: 0.0142773\n",
      "[LightGBM] [Warning] Auto-choosing col-wise multi-threading, the overhead of testing was 0.001405 seconds.\n",
      "You can set `force_col_wise=true` to remove the overhead.\n",
      "[LightGBM] [Info] Total Bins 2276\n",
      "[LightGBM] [Info] Number of data points in the train set: 1156, number of used features: 78\n",
      "[LightGBM] [Info] Start training from score 12.015333\n",
      "Training until validation scores don't improve for 20 rounds\n",
      "[10]\tvalid_0's l2: 0.066408\n",
      "[20]\tvalid_0's l2: 0.0363539\n",
      "[30]\tvalid_0's l2: 0.0242351\n",
      "[40]\tvalid_0's l2: 0.0189323\n",
      "[50]\tvalid_0's l2: 0.0162179\n",
      "[60]\tvalid_0's l2: 0.0147991\n",
      "[70]\tvalid_0's l2: 0.0143232\n",
      "[80]\tvalid_0's l2: 0.0143152\n",
      "[90]\tvalid_0's l2: 0.0142693\n",
      "[100]\tvalid_0's l2: 0.0140259\n",
      "[110]\tvalid_0's l2: 0.0140546\n",
      "[120]\tvalid_0's l2: 0.0138189\n",
      "[130]\tvalid_0's l2: 0.0137193\n"
     ]
    },
    {
     "name": "stderr",
     "output_type": "stream",
     "text": [
      "\u001b[32m[I 2022-05-26 15:29:38,461]\u001b[0m Trial 4 finished with value: 0.11621335807143585 and parameters: {'num_leaves': 35, 'max_bin': 112, 'bagging_fraction': 0.5322778060523135, 'bagging_freq': 8, 'feature_fraction': 0.6280751661082743, 'min_data_in_leaf': 10, 'min_sum_hessian_in_leaf': 1}. Best is trial 4 with value: 0.11621335807143585.\u001b[0m\n"
     ]
    },
    {
     "name": "stdout",
     "output_type": "stream",
     "text": [
      "[140]\tvalid_0's l2: 0.0137243\n",
      "[150]\tvalid_0's l2: 0.0135936\n",
      "[160]\tvalid_0's l2: 0.0135242\n",
      "[170]\tvalid_0's l2: 0.0135713\n",
      "[180]\tvalid_0's l2: 0.0136351\n",
      "Early stopping, best iteration is:\n",
      "[161]\tvalid_0's l2: 0.0135055\n",
      "[LightGBM] [Warning] Auto-choosing col-wise multi-threading, the overhead of testing was 0.001440 seconds.\n",
      "You can set `force_col_wise=true` to remove the overhead.\n",
      "[LightGBM] [Info] Total Bins 2626\n",
      "[LightGBM] [Info] Number of data points in the train set: 1156, number of used features: 78\n",
      "[LightGBM] [Info] Start training from score 12.015333\n",
      "Training until validation scores don't improve for 20 rounds\n",
      "[10]\tvalid_0's l2: 0.0639992\n",
      "[20]\tvalid_0's l2: 0.0357102\n",
      "[30]\tvalid_0's l2: 0.0236082\n",
      "[40]\tvalid_0's l2: 0.0186928\n",
      "[50]\tvalid_0's l2: 0.016742\n",
      "[60]\tvalid_0's l2: 0.0157799\n",
      "[70]\tvalid_0's l2: 0.0155055\n",
      "[80]\tvalid_0's l2: 0.0152684\n",
      "[90]\tvalid_0's l2: 0.0151588\n"
     ]
    },
    {
     "name": "stderr",
     "output_type": "stream",
     "text": [
      "\u001b[32m[I 2022-05-26 15:29:38,839]\u001b[0m Trial 5 finished with value: 0.12288551018586134 and parameters: {'num_leaves': 41, 'max_bin': 142, 'bagging_fraction': 0.7084669984373785, 'bagging_freq': 10, 'feature_fraction': 0.7409101495517417, 'min_data_in_leaf': 7, 'min_sum_hessian_in_leaf': 5}. Best is trial 4 with value: 0.11621335807143585.\u001b[0m\n"
     ]
    },
    {
     "name": "stdout",
     "output_type": "stream",
     "text": [
      "[100]\tvalid_0's l2: 0.0151961\n",
      "[110]\tvalid_0's l2: 0.0152685\n",
      "Early stopping, best iteration is:\n",
      "[94]\tvalid_0's l2: 0.0151008\n",
      "[LightGBM] [Warning] Auto-choosing row-wise multi-threading, the overhead of testing was 0.000550 seconds.\n",
      "You can set `force_row_wise=true` to remove the overhead.\n",
      "And if memory is not enough, you can set `force_col_wise=true`.\n",
      "[LightGBM] [Info] Total Bins 1500\n",
      "[LightGBM] [Info] Number of data points in the train set: 1156, number of used features: 79\n",
      "[LightGBM] [Info] Start training from score 12.015333\n",
      "Training until validation scores don't improve for 20 rounds\n",
      "[10]\tvalid_0's l2: 0.0650692\n",
      "[20]\tvalid_0's l2: 0.035213\n",
      "[30]\tvalid_0's l2: 0.0235695\n",
      "[40]\tvalid_0's l2: 0.0189368\n",
      "[50]\tvalid_0's l2: 0.0171787\n",
      "[60]\tvalid_0's l2: 0.0162984\n",
      "[70]\tvalid_0's l2: 0.0160839\n",
      "[80]\tvalid_0's l2: 0.0159674\n",
      "[90]\tvalid_0's l2: 0.0157391\n",
      "[100]\tvalid_0's l2: 0.0156661\n",
      "[110]\tvalid_0's l2: 0.015579\n"
     ]
    },
    {
     "name": "stderr",
     "output_type": "stream",
     "text": [
      "\u001b[32m[I 2022-05-26 15:29:39,354]\u001b[0m Trial 6 finished with value: 0.12372288602804948 and parameters: {'num_leaves': 46, 'max_bin': 59, 'bagging_fraction': 0.7333833577228339, 'bagging_freq': 7, 'feature_fraction': 0.5051912805369205, 'min_data_in_leaf': 3, 'min_sum_hessian_in_leaf': 4}. Best is trial 4 with value: 0.11621335807143585.\u001b[0m\n"
     ]
    },
    {
     "name": "stdout",
     "output_type": "stream",
     "text": [
      "[120]\tvalid_0's l2: 0.0154832\n",
      "[130]\tvalid_0's l2: 0.0153392\n",
      "[140]\tvalid_0's l2: 0.0153525\n",
      "[150]\tvalid_0's l2: 0.0153259\n",
      "[160]\tvalid_0's l2: 0.0153393\n",
      "[170]\tvalid_0's l2: 0.015381\n",
      "Early stopping, best iteration is:\n",
      "[152]\tvalid_0's l2: 0.0153074\n",
      "[LightGBM] [Warning] Auto-choosing col-wise multi-threading, the overhead of testing was 0.001497 seconds.\n",
      "You can set `force_col_wise=true` to remove the overhead.\n",
      "[LightGBM] [Info] Total Bins 2554\n",
      "[LightGBM] [Info] Number of data points in the train set: 1156, number of used features: 78\n",
      "[LightGBM] [Info] Start training from score 12.015333\n",
      "Training until validation scores don't improve for 20 rounds\n",
      "[10]\tvalid_0's l2: 0.0685588\n",
      "[20]\tvalid_0's l2: 0.0385705\n",
      "[30]\tvalid_0's l2: 0.0262354\n",
      "[40]\tvalid_0's l2: 0.0206248\n",
      "[50]\tvalid_0's l2: 0.017847\n",
      "[60]\tvalid_0's l2: 0.0167885\n",
      "[70]\tvalid_0's l2: 0.0160365\n",
      "[80]\tvalid_0's l2: 0.0157248\n",
      "[90]\tvalid_0's l2: 0.0156422\n",
      "[100]\tvalid_0's l2: 0.0155114\n",
      "[110]\tvalid_0's l2: 0.0154175\n",
      "[120]\tvalid_0's l2: 0.015317\n"
     ]
    },
    {
     "name": "stderr",
     "output_type": "stream",
     "text": [
      "\u001b[32m[I 2022-05-26 15:29:39,696]\u001b[0m Trial 7 finished with value: 0.12325661836479342 and parameters: {'num_leaves': 26, 'max_bin': 136, 'bagging_fraction': 0.6193007567311601, 'bagging_freq': 10, 'feature_fraction': 0.45102240537401406, 'min_data_in_leaf': 5, 'min_sum_hessian_in_leaf': 2}. Best is trial 4 with value: 0.11621335807143585.\u001b[0m\n"
     ]
    },
    {
     "name": "stdout",
     "output_type": "stream",
     "text": [
      "[130]\tvalid_0's l2: 0.0151995\n",
      "[140]\tvalid_0's l2: 0.0152626\n",
      "[150]\tvalid_0's l2: 0.0152446\n",
      "Early stopping, best iteration is:\n",
      "[134]\tvalid_0's l2: 0.0151922\n",
      "[LightGBM] [Warning] Auto-choosing row-wise multi-threading, the overhead of testing was 0.000541 seconds.\n",
      "You can set `force_row_wise=true` to remove the overhead.\n",
      "And if memory is not enough, you can set `force_col_wise=true`.\n",
      "[LightGBM] [Info] Total Bins 1959\n",
      "[LightGBM] [Info] Number of data points in the train set: 1156, number of used features: 79\n",
      "[LightGBM] [Info] Start training from score 12.015333\n",
      "Training until validation scores don't improve for 20 rounds\n",
      "[10]\tvalid_0's l2: 0.0653917\n",
      "[20]\tvalid_0's l2: 0.0353138\n",
      "[30]\tvalid_0's l2: 0.0236292\n",
      "[40]\tvalid_0's l2: 0.0191997\n",
      "[50]\tvalid_0's l2: 0.0170269\n",
      "[60]\tvalid_0's l2: 0.0159562\n",
      "[70]\tvalid_0's l2: 0.015702\n",
      "[80]\tvalid_0's l2: 0.0155463\n",
      "[90]\tvalid_0's l2: 0.0154414\n",
      "[100]\tvalid_0's l2: 0.0153966\n",
      "[110]\tvalid_0's l2: 0.0153345\n",
      "[120]\tvalid_0's l2: 0.0152618\n"
     ]
    },
    {
     "name": "stderr",
     "output_type": "stream",
     "text": [
      "\u001b[32m[I 2022-05-26 15:29:40,225]\u001b[0m Trial 8 finished with value: 0.123200368396042 and parameters: {'num_leaves': 43, 'max_bin': 88, 'bagging_fraction': 0.6331553864281532, 'bagging_freq': 3, 'feature_fraction': 0.4794847918227599, 'min_data_in_leaf': 3, 'min_sum_hessian_in_leaf': 7}. Best is trial 4 with value: 0.11621335807143585.\u001b[0m\n"
     ]
    },
    {
     "name": "stdout",
     "output_type": "stream",
     "text": [
      "[130]\tvalid_0's l2: 0.015293\n",
      "[140]\tvalid_0's l2: 0.0152435\n",
      "[150]\tvalid_0's l2: 0.0152064\n",
      "[160]\tvalid_0's l2: 0.0151995\n",
      "[170]\tvalid_0's l2: 0.0152254\n",
      "Early stopping, best iteration is:\n",
      "[159]\tvalid_0's l2: 0.0151783\n",
      "[LightGBM] [Warning] Auto-choosing row-wise multi-threading, the overhead of testing was 0.000548 seconds.\n",
      "You can set `force_row_wise=true` to remove the overhead.\n",
      "And if memory is not enough, you can set `force_col_wise=true`.\n",
      "[LightGBM] [Info] Total Bins 1819\n",
      "[LightGBM] [Info] Number of data points in the train set: 1156, number of used features: 78\n",
      "[LightGBM] [Info] Start training from score 12.015333\n",
      "Training until validation scores don't improve for 20 rounds\n",
      "[10]\tvalid_0's l2: 0.0720131\n",
      "[20]\tvalid_0's l2: 0.0421651\n",
      "[30]\tvalid_0's l2: 0.0286681\n",
      "[40]\tvalid_0's l2: 0.0219793\n",
      "[50]\tvalid_0's l2: 0.0183408\n",
      "[60]\tvalid_0's l2: 0.0164611\n",
      "[70]\tvalid_0's l2: 0.01556\n",
      "[80]\tvalid_0's l2: 0.015073\n",
      "[90]\tvalid_0's l2: 0.0147495\n",
      "[100]\tvalid_0's l2: 0.0145849\n",
      "[110]\tvalid_0's l2: 0.0144036\n",
      "[120]\tvalid_0's l2: 0.014341\n",
      "[130]\tvalid_0's l2: 0.0143924\n",
      "[140]\tvalid_0's l2: 0.0141699\n",
      "[150]\tvalid_0's l2: 0.014075\n",
      "[160]\tvalid_0's l2: 0.0140664\n",
      "[170]\tvalid_0's l2: 0.0140677\n",
      "[180]\tvalid_0's l2: 0.0140645\n",
      "Early stopping, best iteration is:\n",
      "[164]\tvalid_0's l2: 0.0140042\n"
     ]
    },
    {
     "name": "stderr",
     "output_type": "stream",
     "text": [
      "\u001b[32m[I 2022-05-26 15:29:40,514]\u001b[0m Trial 9 finished with value: 0.11833930321635734 and parameters: {'num_leaves': 12, 'max_bin': 79, 'bagging_fraction': 0.5843625853304821, 'bagging_freq': 9, 'feature_fraction': 0.44855063789653066, 'min_data_in_leaf': 14, 'min_sum_hessian_in_leaf': 1}. Best is trial 4 with value: 0.11621335807143585.\u001b[0m\n"
     ]
    },
    {
     "name": "stdout",
     "output_type": "stream",
     "text": [
      "[LightGBM] [Warning] Auto-choosing col-wise multi-threading, the overhead of testing was 0.001467 seconds.\n",
      "You can set `force_col_wise=true` to remove the overhead.\n",
      "[LightGBM] [Info] Total Bins 2368\n",
      "[LightGBM] [Info] Number of data points in the train set: 1156, number of used features: 80\n",
      "[LightGBM] [Info] Start training from score 12.015333\n",
      "Training until validation scores don't improve for 20 rounds\n",
      "[10]\tvalid_0's l2: 0.0645947\n",
      "[20]\tvalid_0's l2: 0.0349\n",
      "[30]\tvalid_0's l2: 0.0239167\n",
      "[40]\tvalid_0's l2: 0.019325\n",
      "[50]\tvalid_0's l2: 0.017922\n",
      "[60]\tvalid_0's l2: 0.017351\n",
      "[70]\tvalid_0's l2: 0.0171303\n",
      "[80]\tvalid_0's l2: 0.0171538\n",
      "[90]\tvalid_0's l2: 0.0170625\n",
      "[100]\tvalid_0's l2: 0.0169556\n",
      "[110]\tvalid_0's l2: 0.0169456\n",
      "[120]\tvalid_0's l2: 0.0168885\n",
      "[130]\tvalid_0's l2: 0.0168479\n",
      "[140]\tvalid_0's l2: 0.0168025\n",
      "[150]\tvalid_0's l2: 0.0167815\n",
      "[160]\tvalid_0's l2: 0.0168289\n"
     ]
    },
    {
     "name": "stderr",
     "output_type": "stream",
     "text": [
      "\u001b[32m[I 2022-05-26 15:29:41,251]\u001b[0m Trial 10 finished with value: 0.1295435415929816 and parameters: {'num_leaves': 63, 'max_bin': 120, 'bagging_fraction': 0.8883805440951686, 'bagging_freq': 7, 'feature_fraction': 0.7696317896991509, 'min_data_in_leaf': 2, 'min_sum_hessian_in_leaf': 3}. Best is trial 4 with value: 0.11621335807143585.\u001b[0m\n"
     ]
    },
    {
     "name": "stdout",
     "output_type": "stream",
     "text": [
      "[170]\tvalid_0's l2: 0.0168183\n",
      "Early stopping, best iteration is:\n",
      "[150]\tvalid_0's l2: 0.0167815\n",
      "[LightGBM] [Warning] Auto-choosing col-wise multi-threading, the overhead of testing was 0.001466 seconds.\n",
      "You can set `force_col_wise=true` to remove the overhead.\n",
      "[LightGBM] [Info] Total Bins 2051\n",
      "[LightGBM] [Info] Number of data points in the train set: 1156, number of used features: 80\n",
      "[LightGBM] [Info] Start training from score 12.015333\n",
      "Training until validation scores don't improve for 20 rounds\n",
      "[10]\tvalid_0's l2: 0.0723296\n",
      "[20]\tvalid_0's l2: 0.0424445\n",
      "[30]\tvalid_0's l2: 0.0284022\n",
      "[40]\tvalid_0's l2: 0.0222346\n",
      "[50]\tvalid_0's l2: 0.0189382\n",
      "[60]\tvalid_0's l2: 0.0171733\n",
      "[70]\tvalid_0's l2: 0.0163607\n"
     ]
    },
    {
     "name": "stderr",
     "output_type": "stream",
     "text": [
      "\u001b[32m[I 2022-05-26 15:29:41,514]\u001b[0m Trial 11 finished with value: 0.11983377452964886 and parameters: {'num_leaves': 11, 'max_bin': 94, 'bagging_fraction': 0.45936385947712205, 'bagging_freq': 4, 'feature_fraction': 0.607131497257335, 'min_data_in_leaf': 2, 'min_sum_hessian_in_leaf': 7}. Best is trial 4 with value: 0.11621335807143585.\u001b[0m\n"
     ]
    },
    {
     "name": "stdout",
     "output_type": "stream",
     "text": [
      "[80]\tvalid_0's l2: 0.0154663\n",
      "[90]\tvalid_0's l2: 0.0151567\n",
      "[100]\tvalid_0's l2: 0.0149257\n",
      "[110]\tvalid_0's l2: 0.0147376\n",
      "[120]\tvalid_0's l2: 0.0145206\n",
      "[130]\tvalid_0's l2: 0.0145659\n",
      "[140]\tvalid_0's l2: 0.0145321\n",
      "[150]\tvalid_0's l2: 0.0144151\n",
      "[160]\tvalid_0's l2: 0.0143894\n",
      "[170]\tvalid_0's l2: 0.0144635\n",
      "[180]\tvalid_0's l2: 0.0146086\n",
      "Early stopping, best iteration is:\n",
      "[163]\tvalid_0's l2: 0.0143601\n",
      "[LightGBM] [Warning] Auto-choosing col-wise multi-threading, the overhead of testing was 0.001429 seconds.\n",
      "You can set `force_col_wise=true` to remove the overhead.\n",
      "[LightGBM] [Info] Total Bins 1987\n",
      "[LightGBM] [Info] Number of data points in the train set: 1156, number of used features: 78\n",
      "[LightGBM] [Info] Start training from score 12.015333\n",
      "Training until validation scores don't improve for 20 rounds\n",
      "[LightGBM] [Warning] No further splits with positive gain, best gain: -inf\n",
      "[LightGBM] [Warning] No further splits with positive gain, best gain: -inf\n",
      "[10]\tvalid_0's l2: 0.0652096\n",
      "[20]\tvalid_0's l2: 0.0355787\n",
      "[LightGBM] [Warning] No further splits with positive gain, best gain: -inf\n",
      "[30]\tvalid_0's l2: 0.0236788\n",
      "[40]\tvalid_0's l2: 0.0185916\n",
      "[LightGBM] [Warning] No further splits with positive gain, best gain: -inf\n",
      "[LightGBM] [Warning] No further splits with positive gain, best gain: -inf\n",
      "[50]\tvalid_0's l2: 0.0165607\n",
      "[LightGBM] [Warning] No further splits with positive gain, best gain: -inf\n",
      "[60]\tvalid_0's l2: 0.0154825\n",
      "[LightGBM] [Warning] No further splits with positive gain, best gain: -inf\n",
      "[LightGBM] [Warning] No further splits with positive gain, best gain: -inf\n",
      "[70]\tvalid_0's l2: 0.0149025\n",
      "[LightGBM] [Warning] No further splits with positive gain, best gain: -inf\n",
      "[80]\tvalid_0's l2: 0.0146989\n",
      "[LightGBM] [Warning] No further splits with positive gain, best gain: -inf\n",
      "[LightGBM] [Warning] No further splits with positive gain, best gain: -inf\n",
      "[90]\tvalid_0's l2: 0.014613\n",
      "[100]\tvalid_0's l2: 0.014646\n",
      "[110]\tvalid_0's l2: 0.0146479\n",
      "Early stopping, best iteration is:\n",
      "[92]\tvalid_0's l2: 0.0145591\n"
     ]
    },
    {
     "name": "stderr",
     "output_type": "stream",
     "text": [
      "\u001b[32m[I 2022-05-26 15:29:41,829]\u001b[0m Trial 12 finished with value: 0.12066129587078789 and parameters: {'num_leaves': 38, 'max_bin': 90, 'bagging_fraction': 0.6616240267333499, 'bagging_freq': 1, 'feature_fraction': 0.6879732477780897, 'min_data_in_leaf': 15, 'min_sum_hessian_in_leaf': 4}. Best is trial 4 with value: 0.11621335807143585.\u001b[0m\n"
     ]
    },
    {
     "name": "stdout",
     "output_type": "stream",
     "text": [
      "[LightGBM] [Warning] Auto-choosing row-wise multi-threading, the overhead of testing was 0.000570 seconds.\n",
      "You can set `force_row_wise=true` to remove the overhead.\n",
      "And if memory is not enough, you can set `force_col_wise=true`.\n",
      "[LightGBM] [Info] Total Bins 1665\n",
      "[LightGBM] [Info] Number of data points in the train set: 1156, number of used features: 78\n",
      "[LightGBM] [Info] Start training from score 12.015333\n",
      "Training until validation scores don't improve for 20 rounds\n",
      "[10]\tvalid_0's l2: 0.0675109\n",
      "[20]\tvalid_0's l2: 0.0373061\n",
      "[30]\tvalid_0's l2: 0.0244711\n",
      "[40]\tvalid_0's l2: 0.0192189\n",
      "[50]\tvalid_0's l2: 0.0169365\n",
      "[60]\tvalid_0's l2: 0.015945\n",
      "[70]\tvalid_0's l2: 0.0153745\n",
      "[80]\tvalid_0's l2: 0.0150851\n",
      "[90]\tvalid_0's l2: 0.014887\n",
      "[100]\tvalid_0's l2: 0.0147742\n",
      "[110]\tvalid_0's l2: 0.0146256\n",
      "[120]\tvalid_0's l2: 0.0146666\n",
      "[130]\tvalid_0's l2: 0.0145984\n",
      "[140]\tvalid_0's l2: 0.014508\n",
      "[150]\tvalid_0's l2: 0.0144821\n",
      "[160]\tvalid_0's l2: 0.0144311\n",
      "[170]\tvalid_0's l2: 0.014398\n",
      "[180]\tvalid_0's l2: 0.0144176\n",
      "[190]\tvalid_0's l2: 0.0144799\n",
      "Early stopping, best iteration is:\n",
      "[171]\tvalid_0's l2: 0.0143881\n"
     ]
    },
    {
     "name": "stderr",
     "output_type": "stream",
     "text": [
      "\u001b[32m[I 2022-05-26 15:29:42,344]\u001b[0m Trial 13 finished with value: 0.1199504383453797 and parameters: {'num_leaves': 44, 'max_bin': 69, 'bagging_fraction': 0.7581636020592828, 'bagging_freq': 3, 'feature_fraction': 0.49159568100355844, 'min_data_in_leaf': 10, 'min_sum_hessian_in_leaf': 1}. Best is trial 4 with value: 0.11621335807143585.\u001b[0m\n"
     ]
    },
    {
     "name": "stdout",
     "output_type": "stream",
     "text": [
      "[LightGBM] [Warning] Auto-choosing col-wise multi-threading, the overhead of testing was 0.002073 seconds.\n",
      "You can set `force_col_wise=true` to remove the overhead.\n",
      "[LightGBM] [Info] Total Bins 1344\n",
      "[LightGBM] [Info] Number of data points in the train set: 1156, number of used features: 78\n",
      "[LightGBM] [Info] Start training from score 12.015333\n",
      "[LightGBM] [Warning] No further splits with positive gain, best gain: -inf\n",
      "Training until validation scores don't improve for 20 rounds\n",
      "[LightGBM] [Warning] No further splits with positive gain, best gain: -inf\n",
      "[LightGBM] [Warning] No further splits with positive gain, best gain: -inf\n",
      "[LightGBM] [Warning] No further splits with positive gain, best gain: -inf\n",
      "[LightGBM] [Warning] No further splits with positive gain, best gain: -inf\n",
      "[LightGBM] [Warning] No further splits with positive gain, best gain: -inf\n",
      "[LightGBM] [Warning] No further splits with positive gain, best gain: -inf\n",
      "[LightGBM] [Warning] No further splits with positive gain, best gain: -inf\n",
      "[LightGBM] [Warning] No further splits with positive gain, best gain: -inf\n",
      "[LightGBM] [Warning] No further splits with positive gain, best gain: -inf\n",
      "[10]\tvalid_0's l2: 0.0661537\n",
      "[LightGBM] [Warning] No further splits with positive gain, best gain: -inf\n",
      "[LightGBM] [Warning] No further splits with positive gain, best gain: -inf\n",
      "[LightGBM] [Warning] No further splits with positive gain, best gain: -inf\n",
      "[LightGBM] [Warning] No further splits with positive gain, best gain: -inf\n",
      "[LightGBM] [Warning] No further splits with positive gain, best gain: -inf\n",
      "[LightGBM] [Warning] No further splits with positive gain, best gain: -inf\n",
      "[LightGBM] [Warning] No further splits with positive gain, best gain: -inf\n",
      "[LightGBM] [Warning] No further splits with positive gain, best gain: -inf\n",
      "[LightGBM] [Warning] No further splits with positive gain, best gain: -inf\n",
      "[LightGBM] [Warning] No further splits with positive gain, best gain: -inf\n",
      "[20]\tvalid_0's l2: 0.0357635\n",
      "[LightGBM] [Warning] No further splits with positive gain, best gain: -inf\n",
      "[LightGBM] [Warning] No further splits with positive gain, best gain: -inf\n",
      "[LightGBM] [Warning] No further splits with positive gain, best gain: -inf\n",
      "[LightGBM] [Warning] No further splits with positive gain, best gain: -inf\n",
      "[LightGBM] [Warning] No further splits with positive gain, best gain: -inf\n",
      "[LightGBM] [Warning] No further splits with positive gain, best gain: -inf\n",
      "[LightGBM] [Warning] No further splits with positive gain, best gain: -inf\n",
      "[LightGBM] [Warning] No further splits with positive gain, best gain: -inf\n",
      "[LightGBM] [Warning] No further splits with positive gain, best gain: -inf\n",
      "[LightGBM] [Warning] No further splits with positive gain, best gain: -inf\n",
      "[30]\tvalid_0's l2: 0.0235315\n",
      "[LightGBM] [Warning] No further splits with positive gain, best gain: -inf\n",
      "[LightGBM] [Warning] No further splits with positive gain, best gain: -inf\n",
      "[LightGBM] [Warning] No further splits with positive gain, best gain: -inf\n",
      "[LightGBM] [Warning] No further splits with positive gain, best gain: -inf\n",
      "[LightGBM] [Warning] No further splits with positive gain, best gain: -inf\n",
      "[LightGBM] [Warning] No further splits with positive gain, best gain: -inf\n",
      "[LightGBM] [Warning] No further splits with positive gain, best gain: -inf\n",
      "[LightGBM] [Warning] No further splits with positive gain, best gain: -inf\n",
      "[LightGBM] [Warning] No further splits with positive gain, best gain: -inf\n",
      "[LightGBM] [Warning] No further splits with positive gain, best gain: -inf\n",
      "[40]\tvalid_0's l2: 0.0184655\n",
      "[LightGBM] [Warning] No further splits with positive gain, best gain: -inf\n",
      "[LightGBM] [Warning] No further splits with positive gain, best gain: -inf\n",
      "[LightGBM] [Warning] No further splits with positive gain, best gain: -inf\n",
      "[LightGBM] [Warning] No further splits with positive gain, best gain: -inf\n",
      "[LightGBM] [Warning] No further splits with positive gain, best gain: -inf\n",
      "[LightGBM] [Warning] No further splits with positive gain, best gain: -inf\n",
      "[LightGBM] [Warning] No further splits with positive gain, best gain: -inf\n",
      "[LightGBM] [Warning] No further splits with positive gain, best gain: -inf\n",
      "[LightGBM] [Warning] No further splits with positive gain, best gain: -inf\n",
      "[LightGBM] [Warning] No further splits with positive gain, best gain: -inf\n",
      "[50]\tvalid_0's l2: 0.016163\n",
      "[LightGBM] [Warning] No further splits with positive gain, best gain: -inf\n",
      "[LightGBM] [Warning] No further splits with positive gain, best gain: -inf\n",
      "[LightGBM] [Warning] No further splits with positive gain, best gain: -inf\n",
      "[LightGBM] [Warning] No further splits with positive gain, best gain: -inf\n",
      "[LightGBM] [Warning] No further splits with positive gain, best gain: -inf\n",
      "[LightGBM] [Warning] No further splits with positive gain, best gain: -inf\n",
      "[LightGBM] [Warning] No further splits with positive gain, best gain: -inf\n",
      "[LightGBM] [Warning] No further splits with positive gain, best gain: -inf\n",
      "[LightGBM] [Warning] No further splits with positive gain, best gain: -inf\n",
      "[LightGBM] [Warning] No further splits with positive gain, best gain: -inf\n",
      "[60]\tvalid_0's l2: 0.0150688\n",
      "[LightGBM] [Warning] No further splits with positive gain, best gain: -inf\n",
      "[LightGBM] [Warning] No further splits with positive gain, best gain: -inf\n",
      "[LightGBM] [Warning] No further splits with positive gain, best gain: -inf\n",
      "[LightGBM] [Warning] No further splits with positive gain, best gain: -inf\n",
      "[LightGBM] [Warning] No further splits with positive gain, best gain: -inf\n",
      "[LightGBM] [Warning] No further splits with positive gain, best gain: -inf\n",
      "[LightGBM] [Warning] No further splits with positive gain, best gain: -inf\n",
      "[LightGBM] [Warning] No further splits with positive gain, best gain: -inf\n",
      "[LightGBM] [Warning] No further splits with positive gain, best gain: -inf\n",
      "[LightGBM] [Warning] No further splits with positive gain, best gain: -inf\n",
      "[70]\tvalid_0's l2: 0.0146976\n",
      "[LightGBM] [Warning] No further splits with positive gain, best gain: -inf\n",
      "[LightGBM] [Warning] No further splits with positive gain, best gain: -inf\n",
      "[LightGBM] [Warning] No further splits with positive gain, best gain: -inf\n",
      "[LightGBM] [Warning] No further splits with positive gain, best gain: -inf\n",
      "[LightGBM] [Warning] No further splits with positive gain, best gain: -inf\n",
      "[LightGBM] [Warning] No further splits with positive gain, best gain: -inf\n",
      "[LightGBM] [Warning] No further splits with positive gain, best gain: -inf\n",
      "[LightGBM] [Warning] No further splits with positive gain, best gain: -inf\n",
      "[LightGBM] [Warning] No further splits with positive gain, best gain: -inf\n",
      "[LightGBM] [Warning] No further splits with positive gain, best gain: -inf\n",
      "[80]\tvalid_0's l2: 0.014342\n",
      "[LightGBM] [Warning] No further splits with positive gain, best gain: -inf\n",
      "[LightGBM] [Warning] No further splits with positive gain, best gain: -inf\n",
      "[LightGBM] [Warning] No further splits with positive gain, best gain: -inf\n",
      "[LightGBM] [Warning] No further splits with positive gain, best gain: -inf\n",
      "[LightGBM] [Warning] No further splits with positive gain, best gain: -inf\n",
      "[LightGBM] [Warning] No further splits with positive gain, best gain: -inf\n",
      "[LightGBM] [Warning] No further splits with positive gain, best gain: -inf\n",
      "[LightGBM] [Warning] No further splits with positive gain, best gain: -inf\n",
      "[LightGBM] [Warning] No further splits with positive gain, best gain: -inf\n",
      "[LightGBM] [Warning] No further splits with positive gain, best gain: -inf\n",
      "[90]\tvalid_0's l2: 0.0141401\n",
      "[LightGBM] [Warning] No further splits with positive gain, best gain: -inf\n",
      "[LightGBM] [Warning] No further splits with positive gain, best gain: -inf\n",
      "[LightGBM] [Warning] No further splits with positive gain, best gain: -inf\n",
      "[LightGBM] [Warning] No further splits with positive gain, best gain: -inf\n",
      "[LightGBM] [Warning] No further splits with positive gain, best gain: -inf\n",
      "[LightGBM] [Warning] No further splits with positive gain, best gain: -inf\n",
      "[LightGBM] [Warning] No further splits with positive gain, best gain: -inf\n",
      "[LightGBM] [Warning] No further splits with positive gain, best gain: -inf\n",
      "[LightGBM] [Warning] No further splits with positive gain, best gain: -inf\n"
     ]
    },
    {
     "name": "stderr",
     "output_type": "stream",
     "text": [
      "\u001b[32m[I 2022-05-26 15:29:42,734]\u001b[0m Trial 14 finished with value: 0.1183866598579404 and parameters: {'num_leaves': 54, 'max_bin': 50, 'bagging_fraction': 0.7389082683981151, 'bagging_freq': 3, 'feature_fraction': 0.7675970110612975, 'min_data_in_leaf': 16, 'min_sum_hessian_in_leaf': 3}. Best is trial 4 with value: 0.11621335807143585.\u001b[0m\n"
     ]
    },
    {
     "name": "stdout",
     "output_type": "stream",
     "text": [
      "[LightGBM] [Warning] No further splits with positive gain, best gain: -inf\n",
      "[100]\tvalid_0's l2: 0.0141325\n",
      "[LightGBM] [Warning] No further splits with positive gain, best gain: -inf\n",
      "[LightGBM] [Warning] No further splits with positive gain, best gain: -inf\n",
      "[LightGBM] [Warning] No further splits with positive gain, best gain: -inf\n",
      "[LightGBM] [Warning] No further splits with positive gain, best gain: -inf\n",
      "[LightGBM] [Warning] No further splits with positive gain, best gain: -inf\n",
      "[LightGBM] [Warning] No further splits with positive gain, best gain: -inf\n",
      "[LightGBM] [Warning] No further splits with positive gain, best gain: -inf\n",
      "[LightGBM] [Warning] No further splits with positive gain, best gain: -inf\n",
      "[LightGBM] [Warning] No further splits with positive gain, best gain: -inf\n",
      "[LightGBM] [Warning] No further splits with positive gain, best gain: -inf\n",
      "[110]\tvalid_0's l2: 0.0140446\n",
      "[LightGBM] [Warning] No further splits with positive gain, best gain: -inf\n",
      "[LightGBM] [Warning] No further splits with positive gain, best gain: -inf\n",
      "[LightGBM] [Warning] No further splits with positive gain, best gain: -inf\n",
      "[LightGBM] [Warning] No further splits with positive gain, best gain: -inf\n",
      "[LightGBM] [Warning] No further splits with positive gain, best gain: -inf\n",
      "[LightGBM] [Warning] No further splits with positive gain, best gain: -inf\n",
      "[LightGBM] [Warning] No further splits with positive gain, best gain: -inf\n",
      "[LightGBM] [Warning] No further splits with positive gain, best gain: -inf\n",
      "[LightGBM] [Warning] No further splits with positive gain, best gain: -inf\n",
      "[LightGBM] [Warning] No further splits with positive gain, best gain: -inf\n",
      "[120]\tvalid_0's l2: 0.0140154\n",
      "[LightGBM] [Warning] No further splits with positive gain, best gain: -inf\n",
      "[LightGBM] [Warning] No further splits with positive gain, best gain: -inf\n",
      "[LightGBM] [Warning] No further splits with positive gain, best gain: -inf\n",
      "[LightGBM] [Warning] No further splits with positive gain, best gain: -inf\n",
      "[LightGBM] [Warning] No further splits with positive gain, best gain: -inf\n",
      "[LightGBM] [Warning] No further splits with positive gain, best gain: -inf\n",
      "[LightGBM] [Warning] No further splits with positive gain, best gain: -inf\n",
      "[LightGBM] [Warning] No further splits with positive gain, best gain: -inf\n",
      "[LightGBM] [Warning] No further splits with positive gain, best gain: -inf\n",
      "[LightGBM] [Warning] No further splits with positive gain, best gain: -inf\n",
      "[130]\tvalid_0's l2: 0.0141523\n",
      "[LightGBM] [Warning] No further splits with positive gain, best gain: -inf\n",
      "[LightGBM] [Warning] No further splits with positive gain, best gain: -inf\n",
      "[LightGBM] [Warning] No further splits with positive gain, best gain: -inf\n",
      "[LightGBM] [Warning] No further splits with positive gain, best gain: -inf\n",
      "[LightGBM] [Warning] No further splits with positive gain, best gain: -inf\n",
      "[LightGBM] [Warning] No further splits with positive gain, best gain: -inf\n",
      "[LightGBM] [Warning] No further splits with positive gain, best gain: -inf\n",
      "[LightGBM] [Warning] No further splits with positive gain, best gain: -inf\n",
      "[LightGBM] [Warning] No further splits with positive gain, best gain: -inf\n",
      "[LightGBM] [Warning] No further splits with positive gain, best gain: -inf\n",
      "[140]\tvalid_0's l2: 0.0141645\n",
      "Early stopping, best iteration is:\n",
      "[120]\tvalid_0's l2: 0.0140154\n",
      "[LightGBM] [Warning] Auto-choosing col-wise multi-threading, the overhead of testing was 0.001472 seconds.\n",
      "You can set `force_col_wise=true` to remove the overhead.\n",
      "[LightGBM] [Info] Total Bins 2590\n",
      "[LightGBM] [Info] Number of data points in the train set: 1156, number of used features: 78\n",
      "[LightGBM] [Info] Start training from score 12.015333\n",
      "Training until validation scores don't improve for 20 rounds\n",
      "[10]\tvalid_0's l2: 0.0652192\n",
      "[20]\tvalid_0's l2: 0.0356203\n",
      "[30]\tvalid_0's l2: 0.023876\n",
      "[40]\tvalid_0's l2: 0.0188538\n",
      "[50]\tvalid_0's l2: 0.0170089\n",
      "[60]\tvalid_0's l2: 0.0161279\n",
      "[70]\tvalid_0's l2: 0.0157713\n",
      "[80]\tvalid_0's l2: 0.0154205\n",
      "[90]\tvalid_0's l2: 0.0153315\n",
      "[100]\tvalid_0's l2: 0.0151689\n"
     ]
    },
    {
     "name": "stderr",
     "output_type": "stream",
     "text": [
      "\u001b[32m[I 2022-05-26 15:29:44,055]\u001b[0m Trial 15 finished with value: 0.12249843914982214 and parameters: {'num_leaves': 39, 'max_bin': 139, 'bagging_fraction': 0.6861259528954367, 'bagging_freq': 3, 'feature_fraction': 0.8763745057584925, 'min_data_in_leaf': 8, 'min_sum_hessian_in_leaf': 9}. Best is trial 4 with value: 0.11621335807143585.\u001b[0m\n"
     ]
    },
    {
     "name": "stdout",
     "output_type": "stream",
     "text": [
      "[110]\tvalid_0's l2: 0.0150059\n",
      "[120]\tvalid_0's l2: 0.0150484\n",
      "[130]\tvalid_0's l2: 0.0150938\n",
      "Early stopping, best iteration is:\n",
      "[110]\tvalid_0's l2: 0.0150059\n",
      "[LightGBM] [Warning] Auto-choosing col-wise multi-threading, the overhead of testing was 0.001451 seconds.\n",
      "You can set `force_col_wise=true` to remove the overhead.\n",
      "[LightGBM] [Info] Total Bins 2047\n",
      "[LightGBM] [Info] Number of data points in the train set: 1156, number of used features: 78\n",
      "[LightGBM] [Info] Start training from score 12.015333\n",
      "Training until validation scores don't improve for 20 rounds\n",
      "[10]\tvalid_0's l2: 0.0654476\n",
      "[20]\tvalid_0's l2: 0.0348945\n",
      "[30]\tvalid_0's l2: 0.0232133\n",
      "[40]\tvalid_0's l2: 0.0186158\n",
      "[50]\tvalid_0's l2: 0.0167928\n",
      "[60]\tvalid_0's l2: 0.0158671\n",
      "[70]\tvalid_0's l2: 0.0151884\n",
      "[80]\tvalid_0's l2: 0.014973\n",
      "[90]\tvalid_0's l2: 0.0148574\n",
      "[100]\tvalid_0's l2: 0.0147908\n"
     ]
    },
    {
     "name": "stderr",
     "output_type": "stream",
     "text": [
      "\u001b[32m[I 2022-05-26 15:29:44,569]\u001b[0m Trial 16 finished with value: 0.12079833209560319 and parameters: {'num_leaves': 46, 'max_bin': 94, 'bagging_fraction': 0.8068989098512387, 'bagging_freq': 4, 'feature_fraction': 0.8405515985555808, 'min_data_in_leaf': 10, 'min_sum_hessian_in_leaf': 9}. Best is trial 4 with value: 0.11621335807143585.\u001b[0m\n"
     ]
    },
    {
     "name": "stdout",
     "output_type": "stream",
     "text": [
      "[110]\tvalid_0's l2: 0.0147467\n",
      "[120]\tvalid_0's l2: 0.0147442\n",
      "[130]\tvalid_0's l2: 0.0147911\n",
      "[140]\tvalid_0's l2: 0.0146097\n",
      "[150]\tvalid_0's l2: 0.0146298\n",
      "[160]\tvalid_0's l2: 0.0146584\n",
      "Early stopping, best iteration is:\n",
      "[141]\tvalid_0's l2: 0.0145922\n",
      "[LightGBM] [Warning] Auto-choosing col-wise multi-threading, the overhead of testing was 0.001440 seconds.\n",
      "You can set `force_col_wise=true` to remove the overhead.\n",
      "[LightGBM] [Info] Total Bins 2827\n",
      "[LightGBM] [Info] Number of data points in the train set: 1156, number of used features: 78\n",
      "[LightGBM] [Info] Start training from score 12.015333\n",
      "Training until validation scores don't improve for 20 rounds\n",
      "[10]\tvalid_0's l2: 0.0635115\n",
      "[20]\tvalid_0's l2: 0.0356727\n",
      "[30]\tvalid_0's l2: 0.0241828\n",
      "[40]\tvalid_0's l2: 0.0197761\n",
      "[50]\tvalid_0's l2: 0.017458\n",
      "[60]\tvalid_0's l2: 0.0164014\n",
      "[70]\tvalid_0's l2: 0.0161523\n"
     ]
    },
    {
     "name": "stderr",
     "output_type": "stream",
     "text": [
      "\u001b[32m[I 2022-05-26 15:29:44,947]\u001b[0m Trial 17 finished with value: 0.12465732708852482 and parameters: {'num_leaves': 46, 'max_bin': 159, 'bagging_fraction': 0.6506621909633512, 'bagging_freq': 10, 'feature_fraction': 0.7219950996148188, 'min_data_in_leaf': 8, 'min_sum_hessian_in_leaf': 7}. Best is trial 4 with value: 0.11621335807143585.\u001b[0m\n"
     ]
    },
    {
     "name": "stdout",
     "output_type": "stream",
     "text": [
      "[80]\tvalid_0's l2: 0.015674\n",
      "[90]\tvalid_0's l2: 0.0155865\n",
      "[100]\tvalid_0's l2: 0.0156389\n",
      "Early stopping, best iteration is:\n",
      "[85]\tvalid_0's l2: 0.0155394\n",
      "[LightGBM] [Warning] Auto-choosing col-wise multi-threading, the overhead of testing was 0.001465 seconds.\n",
      "You can set `force_col_wise=true` to remove the overhead.\n",
      "[LightGBM] [Info] Total Bins 2060\n",
      "[LightGBM] [Info] Number of data points in the train set: 1156, number of used features: 78\n",
      "[LightGBM] [Info] Start training from score 12.015333\n",
      "Training until validation scores don't improve for 20 rounds\n"
     ]
    },
    {
     "name": "stderr",
     "output_type": "stream",
     "text": [
      "\u001b[32m[I 2022-05-26 15:29:45,237]\u001b[0m Trial 18 finished with value: 0.11966528057480719 and parameters: {'num_leaves': 5, 'max_bin': 95, 'bagging_fraction': 0.7300867687463426, 'bagging_freq': 3, 'feature_fraction': 0.7090077144994208, 'min_data_in_leaf': 8, 'min_sum_hessian_in_leaf': 2}. Best is trial 4 with value: 0.11621335807143585.\u001b[0m\n"
     ]
    },
    {
     "name": "stdout",
     "output_type": "stream",
     "text": [
      "[10]\tvalid_0's l2: 0.0772015\n",
      "[20]\tvalid_0's l2: 0.0488641\n",
      "[30]\tvalid_0's l2: 0.034581\n",
      "[40]\tvalid_0's l2: 0.0270809\n",
      "[50]\tvalid_0's l2: 0.0230393\n",
      "[60]\tvalid_0's l2: 0.020913\n",
      "[70]\tvalid_0's l2: 0.0198276\n",
      "[80]\tvalid_0's l2: 0.018913\n",
      "[90]\tvalid_0's l2: 0.0180636\n",
      "[100]\tvalid_0's l2: 0.0173222\n",
      "[110]\tvalid_0's l2: 0.0167365\n",
      "[120]\tvalid_0's l2: 0.0162763\n",
      "[130]\tvalid_0's l2: 0.016011\n",
      "[140]\tvalid_0's l2: 0.0157394\n",
      "[150]\tvalid_0's l2: 0.0154868\n",
      "[160]\tvalid_0's l2: 0.0154228\n",
      "[170]\tvalid_0's l2: 0.0153516\n",
      "[180]\tvalid_0's l2: 0.0152941\n",
      "[190]\tvalid_0's l2: 0.0150688\n",
      "[200]\tvalid_0's l2: 0.0149567\n",
      "[210]\tvalid_0's l2: 0.0148402\n",
      "[220]\tvalid_0's l2: 0.0148004\n",
      "[230]\tvalid_0's l2: 0.0146198\n",
      "[240]\tvalid_0's l2: 0.0145606\n",
      "[250]\tvalid_0's l2: 0.0145366\n",
      "[260]\tvalid_0's l2: 0.0144597\n",
      "[270]\tvalid_0's l2: 0.0144057\n",
      "[280]\tvalid_0's l2: 0.014351\n",
      "[290]\tvalid_0's l2: 0.0143398\n",
      "[300]\tvalid_0's l2: 0.0143803\n",
      "Early stopping, best iteration is:\n",
      "[282]\tvalid_0's l2: 0.0143198\n",
      "[LightGBM] [Warning] Auto-choosing col-wise multi-threading, the overhead of testing was 0.001474 seconds.\n",
      "You can set `force_col_wise=true` to remove the overhead.\n",
      "[LightGBM] [Info] Total Bins 2554\n",
      "[LightGBM] [Info] Number of data points in the train set: 1156, number of used features: 78\n",
      "[LightGBM] [Info] Start training from score 12.015333\n",
      "Training until validation scores don't improve for 20 rounds\n",
      "[10]\tvalid_0's l2: 0.0666045\n",
      "[20]\tvalid_0's l2: 0.037398\n",
      "[30]\tvalid_0's l2: 0.0252309\n",
      "[40]\tvalid_0's l2: 0.0194101\n",
      "[50]\tvalid_0's l2: 0.016904\n",
      "[60]\tvalid_0's l2: 0.0160305\n",
      "[70]\tvalid_0's l2: 0.0153439\n",
      "[80]\tvalid_0's l2: 0.0148304\n",
      "[90]\tvalid_0's l2: 0.0147109\n",
      "[100]\tvalid_0's l2: 0.0145076\n",
      "[110]\tvalid_0's l2: 0.0145036\n",
      "[120]\tvalid_0's l2: 0.0144584\n"
     ]
    },
    {
     "name": "stderr",
     "output_type": "stream",
     "text": [
      "\u001b[32m[I 2022-05-26 15:29:45,571]\u001b[0m Trial 19 finished with value: 0.12002938223871082 and parameters: {'num_leaves': 22, 'max_bin': 136, 'bagging_fraction': 0.6954363806240866, 'bagging_freq': 6, 'feature_fraction': 0.7266004099285668, 'min_data_in_leaf': 11, 'min_sum_hessian_in_leaf': 5}. Best is trial 4 with value: 0.11621335807143585.\u001b[0m\n"
     ]
    },
    {
     "name": "stdout",
     "output_type": "stream",
     "text": [
      "[130]\tvalid_0's l2: 0.0144166\n",
      "[140]\tvalid_0's l2: 0.0145413\n",
      "[150]\tvalid_0's l2: 0.0145218\n",
      "Early stopping, best iteration is:\n",
      "[131]\tvalid_0's l2: 0.014407\n",
      "[LightGBM] [Warning] Auto-choosing row-wise multi-threading, the overhead of testing was 0.000577 seconds.\n",
      "You can set `force_row_wise=true` to remove the overhead.\n",
      "And if memory is not enough, you can set `force_col_wise=true`.\n",
      "[LightGBM] [Info] Total Bins 2182\n",
      "[LightGBM] [Info] Number of data points in the train set: 1156, number of used features: 78\n",
      "[LightGBM] [Info] Start training from score 12.015333\n",
      "[LightGBM] [Warning] No further splits with positive gain, best gain: -inf\n",
      "Training until validation scores don't improve for 20 rounds\n",
      "[LightGBM] [Warning] No further splits with positive gain, best gain: -inf\n",
      "[LightGBM] [Warning] No further splits with positive gain, best gain: -inf\n",
      "[LightGBM] [Warning] No further splits with positive gain, best gain: -inf\n",
      "[LightGBM] [Warning] No further splits with positive gain, best gain: -inf\n",
      "[LightGBM] [Warning] No further splits with positive gain, best gain: -inf\n",
      "[LightGBM] [Warning] No further splits with positive gain, best gain: -inf\n",
      "[LightGBM] [Warning] No further splits with positive gain, best gain: -inf\n",
      "[LightGBM] [Warning] No further splits with positive gain, best gain: -inf\n",
      "[LightGBM] [Warning] No further splits with positive gain, best gain: -inf\n",
      "[10]\tvalid_0's l2: 0.06419\n",
      "[LightGBM] [Warning] No further splits with positive gain, best gain: -inf\n",
      "[LightGBM] [Warning] No further splits with positive gain, best gain: -inf\n",
      "[LightGBM] [Warning] No further splits with positive gain, best gain: -inf\n",
      "[LightGBM] [Warning] No further splits with positive gain, best gain: -inf\n",
      "[LightGBM] [Warning] No further splits with positive gain, best gain: -inf\n",
      "[LightGBM] [Warning] No further splits with positive gain, best gain: -inf\n",
      "[LightGBM] [Warning] No further splits with positive gain, best gain: -inf\n",
      "[LightGBM] [Warning] No further splits with positive gain, best gain: -inf\n",
      "[LightGBM] [Warning] No further splits with positive gain, best gain: -inf\n",
      "[LightGBM] [Warning] No further splits with positive gain, best gain: -inf\n",
      "[20]\tvalid_0's l2: 0.0359727\n",
      "[LightGBM] [Warning] No further splits with positive gain, best gain: -inf\n",
      "[LightGBM] [Warning] No further splits with positive gain, best gain: -inf\n",
      "[LightGBM] [Warning] No further splits with positive gain, best gain: -inf\n",
      "[LightGBM] [Warning] No further splits with positive gain, best gain: -inf\n",
      "[LightGBM] [Warning] No further splits with positive gain, best gain: -inf\n",
      "[LightGBM] [Warning] No further splits with positive gain, best gain: -inf\n",
      "[LightGBM] [Warning] No further splits with positive gain, best gain: -inf\n",
      "[LightGBM] [Warning] No further splits with positive gain, best gain: -inf\n",
      "[LightGBM] [Warning] No further splits with positive gain, best gain: -inf\n",
      "[LightGBM] [Warning] No further splits with positive gain, best gain: -inf\n",
      "[30]\tvalid_0's l2: 0.0243612\n",
      "[LightGBM] [Warning] No further splits with positive gain, best gain: -inf\n",
      "[LightGBM] [Warning] No further splits with positive gain, best gain: -inf\n",
      "[LightGBM] [Warning] No further splits with positive gain, best gain: -inf\n",
      "[LightGBM] [Warning] No further splits with positive gain, best gain: -inf\n",
      "[LightGBM] [Warning] No further splits with positive gain, best gain: -inf\n",
      "[LightGBM] [Warning] No further splits with positive gain, best gain: -inf\n",
      "[LightGBM] [Warning] No further splits with positive gain, best gain: -inf\n",
      "[LightGBM] [Warning] No further splits with positive gain, best gain: -inf\n",
      "[LightGBM] [Warning] No further splits with positive gain, best gain: -inf\n",
      "[LightGBM] [Warning] No further splits with positive gain, best gain: -inf\n",
      "[40]\tvalid_0's l2: 0.0194545\n",
      "[LightGBM] [Warning] No further splits with positive gain, best gain: -inf\n",
      "[LightGBM] [Warning] No further splits with positive gain, best gain: -inf\n",
      "[LightGBM] [Warning] No further splits with positive gain, best gain: -inf\n",
      "[LightGBM] [Warning] No further splits with positive gain, best gain: -inf\n",
      "[LightGBM] [Warning] No further splits with positive gain, best gain: -inf\n",
      "[LightGBM] [Warning] No further splits with positive gain, best gain: -inf\n",
      "[LightGBM] [Warning] No further splits with positive gain, best gain: -inf\n",
      "[LightGBM] [Warning] No further splits with positive gain, best gain: -inf\n",
      "[LightGBM] [Warning] No further splits with positive gain, best gain: -inf\n",
      "[LightGBM] [Warning] No further splits with positive gain, best gain: -inf\n",
      "[50]\tvalid_0's l2: 0.0170943\n",
      "[LightGBM] [Warning] No further splits with positive gain, best gain: -inf\n",
      "[LightGBM] [Warning] No further splits with positive gain, best gain: -inf\n",
      "[LightGBM] [Warning] No further splits with positive gain, best gain: -inf\n",
      "[LightGBM] [Warning] No further splits with positive gain, best gain: -inf\n",
      "[LightGBM] [Warning] No further splits with positive gain, best gain: -inf\n",
      "[LightGBM] [Warning] No further splits with positive gain, best gain: -inf\n",
      "[LightGBM] [Warning] No further splits with positive gain, best gain: -inf\n",
      "[LightGBM] [Warning] No further splits with positive gain, best gain: -inf\n",
      "[LightGBM] [Warning] No further splits with positive gain, best gain: -inf\n",
      "[LightGBM] [Warning] No further splits with positive gain, best gain: -inf\n",
      "[60]\tvalid_0's l2: 0.0163475\n",
      "[LightGBM] [Warning] No further splits with positive gain, best gain: -inf\n",
      "[LightGBM] [Warning] No further splits with positive gain, best gain: -inf\n",
      "[LightGBM] [Warning] No further splits with positive gain, best gain: -inf\n",
      "[LightGBM] [Warning] No further splits with positive gain, best gain: -inf\n",
      "[LightGBM] [Warning] No further splits with positive gain, best gain: -inf\n",
      "[LightGBM] [Warning] No further splits with positive gain, best gain: -inf\n",
      "[LightGBM] [Warning] No further splits with positive gain, best gain: -inf\n",
      "[LightGBM] [Warning] No further splits with positive gain, best gain: -inf\n",
      "[LightGBM] [Warning] No further splits with positive gain, best gain: -inf\n",
      "[LightGBM] [Warning] No further splits with positive gain, best gain: -inf\n",
      "[70]\tvalid_0's l2: 0.015726\n",
      "[LightGBM] [Warning] No further splits with positive gain, best gain: -inf\n",
      "[LightGBM] [Warning] No further splits with positive gain, best gain: -inf\n",
      "[LightGBM] [Warning] No further splits with positive gain, best gain: -inf\n",
      "[LightGBM] [Warning] No further splits with positive gain, best gain: -inf\n",
      "[LightGBM] [Warning] No further splits with positive gain, best gain: -inf\n",
      "[LightGBM] [Warning] No further splits with positive gain, best gain: -inf\n",
      "[LightGBM] [Warning] No further splits with positive gain, best gain: -inf\n",
      "[LightGBM] [Warning] No further splits with positive gain, best gain: -inf\n",
      "[LightGBM] [Warning] No further splits with positive gain, best gain: -inf\n",
      "[LightGBM] [Warning] No further splits with positive gain, best gain: -inf\n",
      "[80]\tvalid_0's l2: 0.0156066\n",
      "[LightGBM] [Warning] No further splits with positive gain, best gain: -inf\n",
      "[LightGBM] [Warning] No further splits with positive gain, best gain: -inf\n",
      "[LightGBM] [Warning] No further splits with positive gain, best gain: -inf\n",
      "[LightGBM] [Warning] No further splits with positive gain, best gain: -inf\n",
      "[LightGBM] [Warning] No further splits with positive gain, best gain: -inf\n",
      "[LightGBM] [Warning] No further splits with positive gain, best gain: -inf\n",
      "[LightGBM] [Warning] No further splits with positive gain, best gain: -inf\n",
      "[LightGBM] [Warning] No further splits with positive gain, best gain: -inf\n",
      "[LightGBM] [Warning] No further splits with positive gain, best gain: -inf\n",
      "[LightGBM] [Warning] No further splits with positive gain, best gain: -inf\n",
      "[90]\tvalid_0's l2: 0.0155335\n",
      "[LightGBM] [Warning] No further splits with positive gain, best gain: -inf\n",
      "[LightGBM] [Warning] No further splits with positive gain, best gain: -inf\n",
      "[LightGBM] [Warning] No further splits with positive gain, best gain: -inf\n",
      "[LightGBM] [Warning] No further splits with positive gain, best gain: -inf\n",
      "[LightGBM] [Warning] No further splits with positive gain, best gain: -inf\n",
      "[LightGBM] [Warning] No further splits with positive gain, best gain: -inf\n",
      "[LightGBM] [Warning] No further splits with positive gain, best gain: -inf\n",
      "[LightGBM] [Warning] No further splits with positive gain, best gain: -inf\n",
      "[LightGBM] [Warning] No further splits with positive gain, best gain: -inf\n",
      "[LightGBM] [Warning] No further splits with positive gain, best gain: -inf\n",
      "[100]\tvalid_0's l2: 0.0155497\n",
      "[LightGBM] [Warning] No further splits with positive gain, best gain: -inf\n",
      "[LightGBM] [Warning] No further splits with positive gain, best gain: -inf\n",
      "[LightGBM] [Warning] No further splits with positive gain, best gain: -inf\n",
      "[LightGBM] [Warning] No further splits with positive gain, best gain: -inf\n",
      "[LightGBM] [Warning] No further splits with positive gain, best gain: -inf\n",
      "[LightGBM] [Warning] No further splits with positive gain, best gain: -inf\n",
      "[LightGBM] [Warning] No further splits with positive gain, best gain: -inf\n",
      "[LightGBM] [Warning] No further splits with positive gain, best gain: -inf\n",
      "[LightGBM] [Warning] No further splits with positive gain, best gain: -inf\n",
      "[LightGBM] [Warning] No further splits with positive gain, best gain: -inf\n",
      "[110]\tvalid_0's l2: 0.0154998\n",
      "[LightGBM] [Warning] No further splits with positive gain, best gain: -inf\n",
      "[LightGBM] [Warning] No further splits with positive gain, best gain: -inf\n",
      "Early stopping, best iteration is:\n",
      "[92]\tvalid_0's l2: 0.0154819\n"
     ]
    },
    {
     "name": "stderr",
     "output_type": "stream",
     "text": [
      "\u001b[32m[I 2022-05-26 15:29:45,935]\u001b[0m Trial 20 finished with value: 0.12442620993318665 and parameters: {'num_leaves': 58, 'max_bin': 105, 'bagging_fraction': 0.6179324626328134, 'bagging_freq': 9, 'feature_fraction': 0.8030969945230428, 'min_data_in_leaf': 12, 'min_sum_hessian_in_leaf': 2}. Best is trial 4 with value: 0.11621335807143585.\u001b[0m\n"
     ]
    },
    {
     "name": "stdout",
     "output_type": "stream",
     "text": [
      "[LightGBM] [Warning] Auto-choosing col-wise multi-threading, the overhead of testing was 0.001461 seconds.\n",
      "You can set `force_col_wise=true` to remove the overhead.\n",
      "[LightGBM] [Info] Total Bins 2807\n",
      "[LightGBM] [Info] Number of data points in the train set: 1156, number of used features: 79\n",
      "[LightGBM] [Info] Start training from score 12.015333\n",
      "Training until validation scores don't improve for 20 rounds\n",
      "[10]\tvalid_0's l2: 0.0646566\n",
      "[20]\tvalid_0's l2: 0.0348004\n",
      "[30]\tvalid_0's l2: 0.023748\n",
      "[40]\tvalid_0's l2: 0.0194866\n",
      "[50]\tvalid_0's l2: 0.0176701\n",
      "[60]\tvalid_0's l2: 0.0170057\n",
      "[70]\tvalid_0's l2: 0.0167843\n",
      "[80]\tvalid_0's l2: 0.016537\n",
      "[90]\tvalid_0's l2: 0.0164991\n",
      "[100]\tvalid_0's l2: 0.0163692\n"
     ]
    },
    {
     "name": "stderr",
     "output_type": "stream",
     "text": [
      "\u001b[32m[I 2022-05-26 15:29:46,572]\u001b[0m Trial 21 finished with value: 0.12718774119423695 and parameters: {'num_leaves': 60, 'max_bin': 157, 'bagging_fraction': 0.8994235032839333, 'bagging_freq': 2, 'feature_fraction': 0.8340630286841071, 'min_data_in_leaf': 4, 'min_sum_hessian_in_leaf': 7}. Best is trial 4 with value: 0.11621335807143585.\u001b[0m\n"
     ]
    },
    {
     "name": "stdout",
     "output_type": "stream",
     "text": [
      "[110]\tvalid_0's l2: 0.0162118\n",
      "[120]\tvalid_0's l2: 0.0162129\n",
      "[130]\tvalid_0's l2: 0.0162495\n",
      "Early stopping, best iteration is:\n",
      "[117]\tvalid_0's l2: 0.0161767\n",
      "[LightGBM] [Warning] Auto-choosing col-wise multi-threading, the overhead of testing was 0.001459 seconds.\n",
      "You can set `force_col_wise=true` to remove the overhead.\n",
      "[LightGBM] [Info] Total Bins 3017\n",
      "[LightGBM] [Info] Number of data points in the train set: 1156, number of used features: 79\n",
      "[LightGBM] [Info] Start training from score 12.015333\n",
      "Training until validation scores don't improve for 20 rounds\n",
      "[10]\tvalid_0's l2: 0.0717053\n",
      "[20]\tvalid_0's l2: 0.0413166\n",
      "[30]\tvalid_0's l2: 0.0279717\n",
      "[40]\tvalid_0's l2: 0.0219095\n",
      "[50]\tvalid_0's l2: 0.0189611\n",
      "[60]\tvalid_0's l2: 0.0172604\n",
      "[70]\tvalid_0's l2: 0.0164715\n",
      "[80]\tvalid_0's l2: 0.0160482\n",
      "[90]\tvalid_0's l2: 0.0157468\n",
      "[100]\tvalid_0's l2: 0.0153786\n",
      "[110]\tvalid_0's l2: 0.0151728\n",
      "[120]\tvalid_0's l2: 0.0149921\n",
      "[130]\tvalid_0's l2: 0.0149268\n",
      "[140]\tvalid_0's l2: 0.0148403\n",
      "[150]\tvalid_0's l2: 0.0148404\n",
      "Early stopping, best iteration is:\n",
      "[137]\tvalid_0's l2: 0.0147653\n"
     ]
    },
    {
     "name": "stderr",
     "output_type": "stream",
     "text": [
      "\u001b[32m[I 2022-05-26 15:29:46,835]\u001b[0m Trial 22 finished with value: 0.12151261222488925 and parameters: {'num_leaves': 11, 'max_bin': 178, 'bagging_fraction': 0.8036594793625054, 'bagging_freq': 6, 'feature_fraction': 0.6035916486129999, 'min_data_in_leaf': 3, 'min_sum_hessian_in_leaf': 7}. Best is trial 4 with value: 0.11621335807143585.\u001b[0m\n"
     ]
    },
    {
     "name": "stdout",
     "output_type": "stream",
     "text": [
      "[LightGBM] [Warning] Auto-choosing col-wise multi-threading, the overhead of testing was 0.001504 seconds.\n",
      "You can set `force_col_wise=true` to remove the overhead.\n",
      "[LightGBM] [Info] Total Bins 2831\n",
      "[LightGBM] [Info] Number of data points in the train set: 1156, number of used features: 80\n",
      "[LightGBM] [Info] Start training from score 12.015333\n",
      "Training until validation scores don't improve for 20 rounds\n",
      "[10]\tvalid_0's l2: 0.0656779\n",
      "[20]\tvalid_0's l2: 0.0362675\n",
      "[30]\tvalid_0's l2: 0.0243702\n",
      "[40]\tvalid_0's l2: 0.019556\n",
      "[50]\tvalid_0's l2: 0.0175464\n",
      "[60]\tvalid_0's l2: 0.0166221\n",
      "[70]\tvalid_0's l2: 0.016172\n",
      "[80]\tvalid_0's l2: 0.0160095\n",
      "[90]\tvalid_0's l2: 0.015721\n",
      "[100]\tvalid_0's l2: 0.0155644\n",
      "[110]\tvalid_0's l2: 0.0154965\n",
      "[120]\tvalid_0's l2: 0.0154206\n",
      "[130]\tvalid_0's l2: 0.0153846\n",
      "[140]\tvalid_0's l2: 0.0154011\n",
      "[150]\tvalid_0's l2: 0.0152218\n",
      "[160]\tvalid_0's l2: 0.0151882\n",
      "[170]\tvalid_0's l2: 0.0151679\n",
      "[180]\tvalid_0's l2: 0.0151587\n",
      "[190]\tvalid_0's l2: 0.0151501\n",
      "[200]\tvalid_0's l2: 0.0151077\n",
      "[210]\tvalid_0's l2: 0.0151401\n",
      "[220]\tvalid_0's l2: 0.0151285\n",
      "[230]\tvalid_0's l2: 0.015138\n",
      "Early stopping, best iteration is:\n",
      "[214]\tvalid_0's l2: 0.0150949\n"
     ]
    },
    {
     "name": "stderr",
     "output_type": "stream",
     "text": [
      "\u001b[32m[I 2022-05-26 15:29:47,571]\u001b[0m Trial 23 finished with value: 0.12286137283920079 and parameters: {'num_leaves': 31, 'max_bin': 159, 'bagging_fraction': 0.8331911629643146, 'bagging_freq': 10, 'feature_fraction': 0.8279016711963055, 'min_data_in_leaf': 2, 'min_sum_hessian_in_leaf': 4}. Best is trial 4 with value: 0.11621335807143585.\u001b[0m\n"
     ]
    },
    {
     "name": "stdout",
     "output_type": "stream",
     "text": [
      "[LightGBM] [Warning] Auto-choosing row-wise multi-threading, the overhead of testing was 0.000555 seconds.\n",
      "You can set `force_row_wise=true` to remove the overhead.\n",
      "And if memory is not enough, you can set `force_col_wise=true`.\n",
      "[LightGBM] [Info] Total Bins 1761\n",
      "[LightGBM] [Info] Number of data points in the train set: 1156, number of used features: 80\n",
      "[LightGBM] [Info] Start training from score 12.015333\n",
      "Training until validation scores don't improve for 20 rounds\n",
      "[10]\tvalid_0's l2: 0.0666495\n",
      "[20]\tvalid_0's l2: 0.0366255\n",
      "[30]\tvalid_0's l2: 0.0251371\n",
      "[40]\tvalid_0's l2: 0.0201572\n",
      "[50]\tvalid_0's l2: 0.0179482\n",
      "[60]\tvalid_0's l2: 0.0167342\n",
      "[70]\tvalid_0's l2: 0.0163499\n"
     ]
    },
    {
     "name": "stderr",
     "output_type": "stream",
     "text": [
      "\u001b[32m[I 2022-05-26 15:29:47,941]\u001b[0m Trial 24 finished with value: 0.12562753706931873 and parameters: {'num_leaves': 48, 'max_bin': 75, 'bagging_fraction': 0.6605183031020647, 'bagging_freq': 1, 'feature_fraction': 0.49999826244820006, 'min_data_in_leaf': 2, 'min_sum_hessian_in_leaf': 8}. Best is trial 4 with value: 0.11621335807143585.\u001b[0m\n"
     ]
    },
    {
     "name": "stdout",
     "output_type": "stream",
     "text": [
      "[80]\tvalid_0's l2: 0.0159761\n",
      "[90]\tvalid_0's l2: 0.0157986\n",
      "[100]\tvalid_0's l2: 0.0158269\n",
      "[110]\tvalid_0's l2: 0.015862\n",
      "Early stopping, best iteration is:\n",
      "[91]\tvalid_0's l2: 0.0157823\n",
      "[LightGBM] [Warning] Auto-choosing col-wise multi-threading, the overhead of testing was 0.001402 seconds.\n",
      "You can set `force_col_wise=true` to remove the overhead.\n",
      "[LightGBM] [Info] Total Bins 2158\n",
      "[LightGBM] [Info] Number of data points in the train set: 1156, number of used features: 79\n",
      "[LightGBM] [Info] Start training from score 12.015333\n",
      "Training until validation scores don't improve for 20 rounds\n",
      "[10]\tvalid_0's l2: 0.0688781\n",
      "[20]\tvalid_0's l2: 0.0382244\n",
      "[30]\tvalid_0's l2: 0.0256253\n",
      "[40]\tvalid_0's l2: 0.0200546\n",
      "[50]\tvalid_0's l2: 0.0173239\n",
      "[60]\tvalid_0's l2: 0.0160902\n",
      "[70]\tvalid_0's l2: 0.0154621\n",
      "[80]\tvalid_0's l2: 0.0150493\n",
      "[90]\tvalid_0's l2: 0.0148306\n",
      "[100]\tvalid_0's l2: 0.0145364\n",
      "[110]\tvalid_0's l2: 0.0144797\n",
      "[120]\tvalid_0's l2: 0.0143889\n",
      "[130]\tvalid_0's l2: 0.0142687\n",
      "[140]\tvalid_0's l2: 0.0141614\n",
      "[150]\tvalid_0's l2: 0.0140351\n",
      "[160]\tvalid_0's l2: 0.0139486\n",
      "[170]\tvalid_0's l2: 0.0139869\n",
      "[180]\tvalid_0's l2: 0.0139826\n",
      "[190]\tvalid_0's l2: 0.014061\n",
      "Early stopping, best iteration is:\n",
      "[177]\tvalid_0's l2: 0.0139364\n"
     ]
    },
    {
     "name": "stderr",
     "output_type": "stream",
     "text": [
      "\u001b[32m[I 2022-05-26 15:29:48,273]\u001b[0m Trial 25 finished with value: 0.11805245762386342 and parameters: {'num_leaves': 17, 'max_bin': 102, 'bagging_fraction': 0.8640406467327955, 'bagging_freq': 8, 'feature_fraction': 0.41591946476565395, 'min_data_in_leaf': 4, 'min_sum_hessian_in_leaf': 7}. Best is trial 4 with value: 0.11621335807143585.\u001b[0m\n"
     ]
    },
    {
     "name": "stdout",
     "output_type": "stream",
     "text": [
      "[LightGBM] [Warning] Auto-choosing col-wise multi-threading, the overhead of testing was 0.001392 seconds.\n",
      "You can set `force_col_wise=true` to remove the overhead.\n",
      "[LightGBM] [Info] Total Bins 1911\n",
      "[LightGBM] [Info] Number of data points in the train set: 1156, number of used features: 78\n",
      "[LightGBM] [Info] Start training from score 12.015333\n",
      "Training until validation scores don't improve for 20 rounds\n",
      "[10]\tvalid_0's l2: 0.0648772\n",
      "[20]\tvalid_0's l2: 0.0348522\n",
      "[30]\tvalid_0's l2: 0.0229095\n",
      "[40]\tvalid_0's l2: 0.0183481\n",
      "[50]\tvalid_0's l2: 0.0164278\n",
      "[60]\tvalid_0's l2: 0.0157691\n",
      "[70]\tvalid_0's l2: 0.0153027\n",
      "[80]\tvalid_0's l2: 0.0150543\n"
     ]
    },
    {
     "name": "stderr",
     "output_type": "stream",
     "text": [
      "\u001b[32m[I 2022-05-26 15:29:48,598]\u001b[0m Trial 26 finished with value: 0.1225406887451526 and parameters: {'num_leaves': 39, 'max_bin': 85, 'bagging_fraction': 0.867106998962397, 'bagging_freq': 7, 'feature_fraction': 0.6678164015124792, 'min_data_in_leaf': 10, 'min_sum_hessian_in_leaf': 8}. Best is trial 4 with value: 0.11621335807143585.\u001b[0m\n"
     ]
    },
    {
     "name": "stdout",
     "output_type": "stream",
     "text": [
      "[90]\tvalid_0's l2: 0.0150916\n",
      "[100]\tvalid_0's l2: 0.0152523\n",
      "Early stopping, best iteration is:\n",
      "[85]\tvalid_0's l2: 0.0150162\n",
      "[LightGBM] [Warning] Auto-choosing col-wise multi-threading, the overhead of testing was 0.001546 seconds.\n",
      "You can set `force_col_wise=true` to remove the overhead.\n",
      "[LightGBM] [Info] Total Bins 2251\n",
      "[LightGBM] [Info] Number of data points in the train set: 1156, number of used features: 78\n",
      "[LightGBM] [Info] Start training from score 12.015333\n",
      "Training until validation scores don't improve for 20 rounds\n",
      "[10]\tvalid_0's l2: 0.066821\n",
      "[20]\tvalid_0's l2: 0.0369266\n",
      "[30]\tvalid_0's l2: 0.024767\n"
     ]
    },
    {
     "name": "stderr",
     "output_type": "stream",
     "text": [
      "\u001b[32m[I 2022-05-26 15:29:48,874]\u001b[0m Trial 27 finished with value: 0.11930966687202046 and parameters: {'num_leaves': 23, 'max_bin': 110, 'bagging_fraction': 0.5049218744875611, 'bagging_freq': 2, 'feature_fraction': 0.8721861949919668, 'min_data_in_leaf': 13, 'min_sum_hessian_in_leaf': 5}. Best is trial 4 with value: 0.11621335807143585.\u001b[0m\n"
     ]
    },
    {
     "name": "stdout",
     "output_type": "stream",
     "text": [
      "[40]\tvalid_0's l2: 0.0192622\n",
      "[50]\tvalid_0's l2: 0.0169376\n",
      "[60]\tvalid_0's l2: 0.0157414\n",
      "[70]\tvalid_0's l2: 0.0150072\n",
      "[80]\tvalid_0's l2: 0.0146723\n",
      "[90]\tvalid_0's l2: 0.0143443\n",
      "[100]\tvalid_0's l2: 0.0143655\n",
      "[110]\tvalid_0's l2: 0.0142893\n",
      "Early stopping, best iteration is:\n",
      "[95]\tvalid_0's l2: 0.0142348\n",
      "[LightGBM] [Warning] Auto-choosing row-wise multi-threading, the overhead of testing was 0.000554 seconds.\n",
      "You can set `force_row_wise=true` to remove the overhead.\n",
      "And if memory is not enough, you can set `force_col_wise=true`.\n",
      "[LightGBM] [Info] Total Bins 1957\n",
      "[LightGBM] [Info] Number of data points in the train set: 1156, number of used features: 78\n"
     ]
    },
    {
     "name": "stderr",
     "output_type": "stream",
     "text": [
      "\u001b[32m[I 2022-05-26 15:29:49,132]\u001b[0m Trial 28 finished with value: 0.119057350011904 and parameters: {'num_leaves': 17, 'max_bin': 88, 'bagging_fraction': 0.42901458016193783, 'bagging_freq': 5, 'feature_fraction': 0.5558979409970513, 'min_data_in_leaf': 12, 'min_sum_hessian_in_leaf': 4}. Best is trial 4 with value: 0.11621335807143585.\u001b[0m\n"
     ]
    },
    {
     "name": "stdout",
     "output_type": "stream",
     "text": [
      "[LightGBM] [Info] Start training from score 12.015333\n",
      "Training until validation scores don't improve for 20 rounds\n",
      "[10]\tvalid_0's l2: 0.0689996\n",
      "[20]\tvalid_0's l2: 0.0393946\n",
      "[30]\tvalid_0's l2: 0.026756\n",
      "[40]\tvalid_0's l2: 0.0207262\n",
      "[50]\tvalid_0's l2: 0.0181382\n",
      "[60]\tvalid_0's l2: 0.0163805\n",
      "[70]\tvalid_0's l2: 0.0155477\n",
      "[80]\tvalid_0's l2: 0.0151918\n",
      "[90]\tvalid_0's l2: 0.0149329\n",
      "[100]\tvalid_0's l2: 0.0144812\n",
      "[110]\tvalid_0's l2: 0.0143082\n",
      "[120]\tvalid_0's l2: 0.0142451\n",
      "[130]\tvalid_0's l2: 0.0142627\n",
      "Early stopping, best iteration is:\n",
      "[114]\tvalid_0's l2: 0.0141747\n"
     ]
    },
    {
     "name": "stderr",
     "output_type": "stream",
     "text": [
      "\u001b[32m[I 2022-05-26 15:29:49,378]\u001b[0m Trial 29 finished with value: 0.11689738493077198 and parameters: {'num_leaves': 14, 'max_bin': 53, 'bagging_fraction': 0.4336248157316243, 'bagging_freq': 7, 'feature_fraction': 0.6268484222780226, 'min_data_in_leaf': 10, 'min_sum_hessian_in_leaf': 9}. Best is trial 4 with value: 0.11621335807143585.\u001b[0m\n"
     ]
    },
    {
     "name": "stdout",
     "output_type": "stream",
     "text": [
      "[LightGBM] [Warning] Auto-choosing row-wise multi-threading, the overhead of testing was 0.000612 seconds.\n",
      "You can set `force_row_wise=true` to remove the overhead.\n",
      "And if memory is not enough, you can set `force_col_wise=true`.\n",
      "[LightGBM] [Info] Total Bins 1396\n",
      "[LightGBM] [Info] Number of data points in the train set: 1156, number of used features: 78\n",
      "[LightGBM] [Info] Start training from score 12.015333\n",
      "Training until validation scores don't improve for 20 rounds\n",
      "[10]\tvalid_0's l2: 0.0686203\n",
      "[20]\tvalid_0's l2: 0.0388643\n",
      "[30]\tvalid_0's l2: 0.0264241\n",
      "[40]\tvalid_0's l2: 0.0202205\n",
      "[50]\tvalid_0's l2: 0.0174781\n",
      "[60]\tvalid_0's l2: 0.015947\n",
      "[70]\tvalid_0's l2: 0.0152872\n",
      "[80]\tvalid_0's l2: 0.0148317\n",
      "[90]\tvalid_0's l2: 0.0145008\n",
      "[100]\tvalid_0's l2: 0.01441\n",
      "[110]\tvalid_0's l2: 0.014141\n",
      "[120]\tvalid_0's l2: 0.0140428\n",
      "[130]\tvalid_0's l2: 0.0139159\n",
      "[140]\tvalid_0's l2: 0.0137138\n",
      "[150]\tvalid_0's l2: 0.013781\n",
      "[160]\tvalid_0's l2: 0.0138249\n",
      "Early stopping, best iteration is:\n",
      "[141]\tvalid_0's l2: 0.013665\n",
      "[LightGBM] [Warning] Auto-choosing row-wise multi-threading, the overhead of testing was 0.000562 seconds.\n",
      "You can set `force_row_wise=true` to remove the overhead.\n",
      "And if memory is not enough, you can set `force_col_wise=true`.\n",
      "[LightGBM] [Info] Total Bins 1863\n",
      "[LightGBM] [Info] Number of data points in the train set: 1156, number of used features: 78\n",
      "[LightGBM] [Info] Start training from score 12.015333\n",
      "[LightGBM] [Warning] No further splits with positive gain, best gain: -inf\n",
      "Training until validation scores don't improve for 20 rounds\n",
      "[LightGBM] [Warning] No further splits with positive gain, best gain: -inf\n",
      "[LightGBM] [Warning] No further splits with positive gain, best gain: -inf\n",
      "[LightGBM] [Warning] No further splits with positive gain, best gain: -inf\n",
      "[LightGBM] [Warning] No further splits with positive gain, best gain: -inf\n",
      "[LightGBM] [Warning] No further splits with positive gain, best gain: -inf\n",
      "[LightGBM] [Warning] No further splits with positive gain, best gain: -inf\n",
      "[LightGBM] [Warning] No further splits with positive gain, best gain: -inf\n",
      "[LightGBM] [Warning] No further splits with positive gain, best gain: -inf\n",
      "[LightGBM] [Warning] No further splits with positive gain, best gain: -inf\n",
      "[10]\tvalid_0's l2: 0.0683398\n",
      "[LightGBM] [Warning] No further splits with positive gain, best gain: -inf\n",
      "[LightGBM] [Warning] No further splits with positive gain, best gain: -inf\n",
      "[LightGBM] [Warning] No further splits with positive gain, best gain: -inf\n",
      "[LightGBM] [Warning] No further splits with positive gain, best gain: -inf\n",
      "[LightGBM] [Warning] No further splits with positive gain, best gain: -inf\n",
      "[LightGBM] [Warning] No further splits with positive gain, best gain: -inf\n",
      "[LightGBM] [Warning] No further splits with positive gain, best gain: -inf\n",
      "[LightGBM] [Warning] No further splits with positive gain, best gain: -inf\n",
      "[LightGBM] [Warning] No further splits with positive gain, best gain: -inf\n",
      "[LightGBM] [Warning] No further splits with positive gain, best gain: -inf\n",
      "[20]\tvalid_0's l2: 0.0372503\n",
      "[LightGBM] [Warning] No further splits with positive gain, best gain: -inf\n",
      "[LightGBM] [Warning] No further splits with positive gain, best gain: -inf\n",
      "[LightGBM] [Warning] No further splits with positive gain, best gain: -inf\n",
      "[LightGBM] [Warning] No further splits with positive gain, best gain: -inf\n",
      "[LightGBM] [Warning] No further splits with positive gain, best gain: -inf\n",
      "[LightGBM] [Warning] No further splits with positive gain, best gain: -inf\n",
      "[LightGBM] [Warning] No further splits with positive gain, best gain: -inf\n",
      "[LightGBM] [Warning] No further splits with positive gain, best gain: -inf\n",
      "[LightGBM] [Warning] No further splits with positive gain, best gain: -inf\n",
      "[LightGBM] [Warning] No further splits with positive gain, best gain: -inf\n",
      "[30]\tvalid_0's l2: 0.0240048\n",
      "[LightGBM] [Warning] No further splits with positive gain, best gain: -inf\n",
      "[LightGBM] [Warning] No further splits with positive gain, best gain: -inf\n",
      "[LightGBM] [Warning] No further splits with positive gain, best gain: -inf\n",
      "[LightGBM] [Warning] No further splits with positive gain, best gain: -inf\n",
      "[LightGBM] [Warning] No further splits with positive gain, best gain: -inf\n",
      "[LightGBM] [Warning] No further splits with positive gain, best gain: -inf\n",
      "[LightGBM] [Warning] No further splits with positive gain, best gain: -inf\n",
      "[LightGBM] [Warning] No further splits with positive gain, best gain: -inf\n",
      "[LightGBM] [Warning] No further splits with positive gain, best gain: -inf\n",
      "[LightGBM] [Warning] No further splits with positive gain, best gain: -inf\n",
      "[40]\tvalid_0's l2: 0.0186075\n",
      "[LightGBM] [Warning] No further splits with positive gain, best gain: -inf\n",
      "[LightGBM] [Warning] No further splits with positive gain, best gain: -inf\n",
      "[LightGBM] [Warning] No further splits with positive gain, best gain: -inf\n",
      "[LightGBM] [Warning] No further splits with positive gain, best gain: -inf\n",
      "[LightGBM] [Warning] No further splits with positive gain, best gain: -inf\n",
      "[LightGBM] [Warning] No further splits with positive gain, best gain: -inf\n",
      "[LightGBM] [Warning] No further splits with positive gain, best gain: -inf\n",
      "[LightGBM] [Warning] No further splits with positive gain, best gain: -inf\n",
      "[LightGBM] [Warning] No further splits with positive gain, best gain: -inf\n",
      "[LightGBM] [Warning] No further splits with positive gain, best gain: -inf\n",
      "[50]\tvalid_0's l2: 0.0162722\n",
      "[LightGBM] [Warning] No further splits with positive gain, best gain: -inf\n",
      "[LightGBM] [Warning] No further splits with positive gain, best gain: -inf\n",
      "[LightGBM] [Warning] No further splits with positive gain, best gain: -inf\n",
      "[LightGBM] [Warning] No further splits with positive gain, best gain: -inf\n",
      "[LightGBM] [Warning] No further splits with positive gain, best gain: -inf\n",
      "[LightGBM] [Warning] No further splits with positive gain, best gain: -inf\n",
      "[LightGBM] [Warning] No further splits with positive gain, best gain: -inf\n",
      "[LightGBM] [Warning] No further splits with positive gain, best gain: -inf\n",
      "[LightGBM] [Warning] No further splits with positive gain, best gain: -inf\n",
      "[LightGBM] [Warning] No further splits with positive gain, best gain: -inf\n",
      "[60]\tvalid_0's l2: 0.0148664\n",
      "[LightGBM] [Warning] No further splits with positive gain, best gain: -inf\n",
      "[LightGBM] [Warning] No further splits with positive gain, best gain: -inf\n",
      "[LightGBM] [Warning] No further splits with positive gain, best gain: -inf\n",
      "[LightGBM] [Warning] No further splits with positive gain, best gain: -inf\n",
      "[LightGBM] [Warning] No further splits with positive gain, best gain: -inf\n",
      "[LightGBM] [Warning] No further splits with positive gain, best gain: -inf\n",
      "[LightGBM] [Warning] No further splits with positive gain, best gain: -inf\n",
      "[LightGBM] [Warning] No further splits with positive gain, best gain: -inf\n",
      "[LightGBM] [Warning] No further splits with positive gain, best gain: -inf\n",
      "[LightGBM] [Warning] No further splits with positive gain, best gain: -inf\n",
      "[70]\tvalid_0's l2: 0.0144529\n",
      "[LightGBM] [Warning] No further splits with positive gain, best gain: -inf\n",
      "[LightGBM] [Warning] No further splits with positive gain, best gain: -inf\n",
      "[LightGBM] [Warning] No further splits with positive gain, best gain: -inf\n",
      "[LightGBM] [Warning] No further splits with positive gain, best gain: -inf\n",
      "[LightGBM] [Warning] No further splits with positive gain, best gain: -inf\n",
      "[LightGBM] [Warning] No further splits with positive gain, best gain: -inf\n",
      "[LightGBM] [Warning] No further splits with positive gain, best gain: -inf\n",
      "[LightGBM] [Warning] No further splits with positive gain, best gain: -inf\n",
      "[LightGBM] [Warning] No further splits with positive gain, best gain: -inf\n",
      "[LightGBM] [Warning] No further splits with positive gain, best gain: -inf\n",
      "[80]\tvalid_0's l2: 0.0141959\n",
      "[LightGBM] [Warning] No further splits with positive gain, best gain: -inf\n",
      "[LightGBM] [Warning] No further splits with positive gain, best gain: -inf\n",
      "[LightGBM] [Warning] No further splits with positive gain, best gain: -inf\n",
      "[LightGBM] [Warning] No further splits with positive gain, best gain: -inf\n",
      "[LightGBM] [Warning] No further splits with positive gain, best gain: -inf\n",
      "[LightGBM] [Warning] No further splits with positive gain, best gain: -inf\n",
      "[LightGBM] [Warning] No further splits with positive gain, best gain: -inf\n",
      "[LightGBM] [Warning] No further splits with positive gain, best gain: -inf\n",
      "[LightGBM] [Warning] No further splits with positive gain, best gain: -inf\n",
      "[LightGBM] [Warning] No further splits with positive gain, best gain: -inf\n",
      "[90]\tvalid_0's l2: 0.0139596\n",
      "[LightGBM] [Warning] No further splits with positive gain, best gain: -inf\n",
      "[LightGBM] [Warning] No further splits with positive gain, best gain: -inf\n",
      "[LightGBM] [Warning] No further splits with positive gain, best gain: -inf\n",
      "[LightGBM] [Warning] No further splits with positive gain, best gain: -inf\n",
      "[LightGBM] [Warning] No further splits with positive gain, best gain: -inf\n",
      "[LightGBM] [Warning] No further splits with positive gain, best gain: -inf\n",
      "[LightGBM] [Warning] No further splits with positive gain, best gain: -inf\n",
      "[LightGBM] [Warning] No further splits with positive gain, best gain: -inf\n",
      "[LightGBM] [Warning] No further splits with positive gain, best gain: -inf\n",
      "[LightGBM] [Warning] No further splits with positive gain, best gain: -inf\n",
      "[100]\tvalid_0's l2: 0.0137909\n",
      "[LightGBM] [Warning] No further splits with positive gain, best gain: -inf\n",
      "[LightGBM] [Warning] No further splits with positive gain, best gain: -inf\n",
      "[LightGBM] [Warning] No further splits with positive gain, best gain: -inf\n",
      "[LightGBM] [Warning] No further splits with positive gain, best gain: -inf\n",
      "[LightGBM] [Warning] No further splits with positive gain, best gain: -inf\n",
      "[LightGBM] [Warning] No further splits with positive gain, best gain: -inf\n",
      "[LightGBM] [Warning] No further splits with positive gain, best gain: -inf\n",
      "[LightGBM] [Warning] No further splits with positive gain, best gain: -inf\n",
      "[LightGBM] [Warning] No further splits with positive gain, best gain: -inf\n",
      "[LightGBM] [Warning] No further splits with positive gain, best gain: -inf\n",
      "[110]\tvalid_0's l2: 0.0137427\n",
      "[LightGBM] [Warning] No further splits with positive gain, best gain: -inf\n",
      "[LightGBM] [Warning] No further splits with positive gain, best gain: -inf\n",
      "[LightGBM] [Warning] No further splits with positive gain, best gain: -inf\n",
      "[LightGBM] [Warning] No further splits with positive gain, best gain: -inf\n",
      "[LightGBM] [Warning] No further splits with positive gain, best gain: -inf\n",
      "[LightGBM] [Warning] No further splits with positive gain, best gain: -inf\n",
      "[LightGBM] [Warning] No further splits with positive gain, best gain: -inf\n",
      "[LightGBM] [Warning] No further splits with positive gain, best gain: -inf\n",
      "[LightGBM] [Warning] No further splits with positive gain, best gain: -inf\n",
      "[LightGBM] [Warning] No further splits with positive gain, best gain: -inf\n",
      "[120]\tvalid_0's l2: 0.013629\n",
      "[LightGBM] [Warning] No further splits with positive gain, best gain: -inf\n",
      "[LightGBM] [Warning] No further splits with positive gain, best gain: -inf\n",
      "[LightGBM] [Warning] No further splits with positive gain, best gain: -inf\n",
      "[LightGBM] [Warning] No further splits with positive gain, best gain: -inf\n",
      "[LightGBM] [Warning] No further splits with positive gain, best gain: -inf\n",
      "[LightGBM] [Warning] No further splits with positive gain, best gain: -inf\n",
      "[LightGBM] [Warning] No further splits with positive gain, best gain: -inf\n",
      "[LightGBM] [Warning] No further splits with positive gain, best gain: -inf\n",
      "[LightGBM] [Warning] No further splits with positive gain, best gain: -inf\n",
      "[LightGBM] [Warning] No further splits with positive gain, best gain: -inf\n",
      "[130]\tvalid_0's l2: 0.0136314\n",
      "[LightGBM] [Warning] No further splits with positive gain, best gain: -inf\n",
      "[LightGBM] [Warning] No further splits with positive gain, best gain: -inf\n",
      "[LightGBM] [Warning] No further splits with positive gain, best gain: -inf\n",
      "[LightGBM] [Warning] No further splits with positive gain, best gain: -inf\n",
      "[LightGBM] [Warning] No further splits with positive gain, best gain: -inf\n",
      "[LightGBM] [Warning] No further splits with positive gain, best gain: -inf\n",
      "[LightGBM] [Warning] No further splits with positive gain, best gain: -inf\n",
      "[LightGBM] [Warning] No further splits with positive gain, best gain: -inf\n",
      "[LightGBM] [Warning] No further splits with positive gain, best gain: -inf\n",
      "[LightGBM] [Warning] No further splits with positive gain, best gain: -inf\n",
      "[140]\tvalid_0's l2: 0.0135905\n",
      "[LightGBM] [Warning] No further splits with positive gain, best gain: -inf\n",
      "[LightGBM] [Warning] No further splits with positive gain, best gain: -inf\n",
      "[LightGBM] [Warning] No further splits with positive gain, best gain: -inf\n",
      "[LightGBM] [Warning] No further splits with positive gain, best gain: -inf\n",
      "[LightGBM] [Warning] No further splits with positive gain, best gain: -inf\n",
      "[LightGBM] [Warning] No further splits with positive gain, best gain: -inf\n",
      "[LightGBM] [Warning] No further splits with positive gain, best gain: -inf\n",
      "[LightGBM] [Warning] No further splits with positive gain, best gain: -inf\n",
      "[LightGBM] [Warning] No further splits with positive gain, best gain: -inf\n",
      "[LightGBM] [Warning] No further splits with positive gain, best gain: -inf\n",
      "[150]\tvalid_0's l2: 0.0135892\n",
      "[LightGBM] [Warning] No further splits with positive gain, best gain: -inf\n",
      "[LightGBM] [Warning] No further splits with positive gain, best gain: -inf\n",
      "[LightGBM] [Warning] No further splits with positive gain, best gain: -inf\n",
      "[LightGBM] [Warning] No further splits with positive gain, best gain: -inf\n",
      "[LightGBM] [Warning] No further splits with positive gain, best gain: -inf\n",
      "[LightGBM] [Warning] No further splits with positive gain, best gain: -inf\n",
      "[LightGBM] [Warning] No further splits with positive gain, best gain: -inf\n",
      "[LightGBM] [Warning] No further splits with positive gain, best gain: -inf\n",
      "[LightGBM] [Warning] No further splits with positive gain, best gain: -inf\n",
      "[LightGBM] [Warning] No further splits with positive gain, best gain: -inf\n",
      "[160]\tvalid_0's l2: 0.0135412\n",
      "[LightGBM] [Warning] No further splits with positive gain, best gain: -inf\n",
      "[LightGBM] [Warning] No further splits with positive gain, best gain: -inf\n",
      "[LightGBM] [Warning] No further splits with positive gain, best gain: -inf\n",
      "[LightGBM] [Warning] No further splits with positive gain, best gain: -inf\n",
      "[LightGBM] [Warning] No further splits with positive gain, best gain: -inf\n",
      "[LightGBM] [Warning] No further splits with positive gain, best gain: -inf\n",
      "[LightGBM] [Warning] No further splits with positive gain, best gain: -inf\n",
      "[LightGBM] [Warning] No further splits with positive gain, best gain: -inf\n",
      "[LightGBM] [Warning] No further splits with positive gain, best gain: -inf\n",
      "[LightGBM] [Warning] No further splits with positive gain, best gain: -inf\n",
      "[170]\tvalid_0's l2: 0.013555\n",
      "[LightGBM] [Warning] No further splits with positive gain, best gain: -inf\n",
      "[LightGBM] [Warning] No further splits with positive gain, best gain: -inf\n",
      "[LightGBM] [Warning] No further splits with positive gain, best gain: -inf\n",
      "[LightGBM] [Warning] No further splits with positive gain, best gain: -inf\n",
      "[LightGBM] [Warning] No further splits with positive gain, best gain: -inf\n",
      "[LightGBM] [Warning] No further splits with positive gain, best gain: -inf\n",
      "[LightGBM] [Warning] No further splits with positive gain, best gain: -inf\n",
      "[LightGBM] [Warning] No further splits with positive gain, best gain: -inf\n",
      "[LightGBM] [Warning] No further splits with positive gain, best gain: -inf\n",
      "[LightGBM] [Warning] No further splits with positive gain, best gain: -inf\n",
      "[180]\tvalid_0's l2: 0.0135165\n",
      "[LightGBM] [Warning] No further splits with positive gain, best gain: -inf\n"
     ]
    },
    {
     "name": "stderr",
     "output_type": "stream",
     "text": [
      "\u001b[32m[I 2022-05-26 15:29:49,950]\u001b[0m Trial 30 finished with value: 0.11621005960781597 and parameters: {'num_leaves': 64, 'max_bin': 82, 'bagging_fraction': 0.7315391015500504, 'bagging_freq': 3, 'feature_fraction': 0.41032549973286436, 'min_data_in_leaf': 13, 'min_sum_hessian_in_leaf': 4}. Best is trial 30 with value: 0.11621005960781597.\u001b[0m\n"
     ]
    },
    {
     "name": "stdout",
     "output_type": "stream",
     "text": [
      "[LightGBM] [Warning] No further splits with positive gain, best gain: -inf\n",
      "[LightGBM] [Warning] No further splits with positive gain, best gain: -inf\n",
      "[LightGBM] [Warning] No further splits with positive gain, best gain: -inf\n",
      "[LightGBM] [Warning] No further splits with positive gain, best gain: -inf\n",
      "[LightGBM] [Warning] No further splits with positive gain, best gain: -inf\n",
      "[LightGBM] [Warning] No further splits with positive gain, best gain: -inf\n",
      "[LightGBM] [Warning] No further splits with positive gain, best gain: -inf\n",
      "[LightGBM] [Warning] No further splits with positive gain, best gain: -inf\n",
      "[LightGBM] [Warning] No further splits with positive gain, best gain: -inf\n",
      "[190]\tvalid_0's l2: 0.0135885\n",
      "[LightGBM] [Warning] No further splits with positive gain, best gain: -inf\n",
      "[LightGBM] [Warning] No further splits with positive gain, best gain: -inf\n",
      "[LightGBM] [Warning] No further splits with positive gain, best gain: -inf\n",
      "[LightGBM] [Warning] No further splits with positive gain, best gain: -inf\n",
      "[LightGBM] [Warning] No further splits with positive gain, best gain: -inf\n",
      "[LightGBM] [Warning] No further splits with positive gain, best gain: -inf\n",
      "[LightGBM] [Warning] No further splits with positive gain, best gain: -inf\n",
      "[LightGBM] [Warning] No further splits with positive gain, best gain: -inf\n",
      "[LightGBM] [Warning] No further splits with positive gain, best gain: -inf\n",
      "[LightGBM] [Warning] No further splits with positive gain, best gain: -inf\n",
      "[200]\tvalid_0's l2: 0.0136354\n",
      "[LightGBM] [Warning] No further splits with positive gain, best gain: -inf\n",
      "Early stopping, best iteration is:\n",
      "[181]\tvalid_0's l2: 0.0135048\n",
      "[LightGBM] [Warning] Auto-choosing col-wise multi-threading, the overhead of testing was 0.001443 seconds.\n",
      "You can set `force_col_wise=true` to remove the overhead.\n",
      "[LightGBM] [Info] Total Bins 2578\n",
      "[LightGBM] [Info] Number of data points in the train set: 1156, number of used features: 78\n",
      "[LightGBM] [Info] Start training from score 12.015333\n",
      "Training until validation scores don't improve for 20 rounds\n",
      "[10]\tvalid_0's l2: 0.0662191\n",
      "[20]\tvalid_0's l2: 0.0375317\n",
      "[30]\tvalid_0's l2: 0.0249813\n",
      "[40]\tvalid_0's l2: 0.0196436\n",
      "[50]\tvalid_0's l2: 0.0175243\n",
      "[60]\tvalid_0's l2: 0.016674\n",
      "[70]\tvalid_0's l2: 0.0161567\n",
      "[80]\tvalid_0's l2: 0.0160406\n",
      "[90]\tvalid_0's l2: 0.0159134\n",
      "[100]\tvalid_0's l2: 0.0157352\n",
      "[110]\tvalid_0's l2: 0.0156062\n",
      "[120]\tvalid_0's l2: 0.0154926\n"
     ]
    },
    {
     "name": "stderr",
     "output_type": "stream",
     "text": [
      "\u001b[32m[I 2022-05-26 15:29:50,398]\u001b[0m Trial 31 finished with value: 0.12345973724558293 and parameters: {'num_leaves': 27, 'max_bin': 138, 'bagging_fraction': 0.8155242276180952, 'bagging_freq': 7, 'feature_fraction': 0.8363253277236977, 'min_data_in_leaf': 6, 'min_sum_hessian_in_leaf': 8}. Best is trial 30 with value: 0.11621005960781597.\u001b[0m\n"
     ]
    },
    {
     "name": "stdout",
     "output_type": "stream",
     "text": [
      "[130]\tvalid_0's l2: 0.0153928\n",
      "[140]\tvalid_0's l2: 0.015358\n",
      "[150]\tvalid_0's l2: 0.0152489\n",
      "[160]\tvalid_0's l2: 0.0153489\n",
      "[170]\tvalid_0's l2: 0.0153372\n",
      "Early stopping, best iteration is:\n",
      "[154]\tvalid_0's l2: 0.0152423\n",
      "[LightGBM] [Warning] Auto-choosing col-wise multi-threading, the overhead of testing was 0.001544 seconds.\n",
      "You can set `force_col_wise=true` to remove the overhead.\n",
      "[LightGBM] [Info] Total Bins 3081\n",
      "[LightGBM] [Info] Number of data points in the train set: 1156, number of used features: 78\n",
      "[LightGBM] [Info] Start training from score 12.015333\n",
      "Training until validation scores don't improve for 20 rounds\n",
      "[10]\tvalid_0's l2: 0.0687108\n",
      "[20]\tvalid_0's l2: 0.039362\n",
      "[30]\tvalid_0's l2: 0.0268704\n",
      "[40]\tvalid_0's l2: 0.0213277\n",
      "[50]\tvalid_0's l2: 0.0185501\n",
      "[60]\tvalid_0's l2: 0.0172349\n",
      "[70]\tvalid_0's l2: 0.0165869\n",
      "[80]\tvalid_0's l2: 0.0160938\n",
      "[90]\tvalid_0's l2: 0.016112\n",
      "[100]\tvalid_0's l2: 0.0158469\n",
      "[110]\tvalid_0's l2: 0.0156173\n",
      "[120]\tvalid_0's l2: 0.0155477\n",
      "[130]\tvalid_0's l2: 0.01557\n",
      "[140]\tvalid_0's l2: 0.0155486\n",
      "[150]\tvalid_0's l2: 0.0155581\n",
      "[160]\tvalid_0's l2: 0.0155437\n",
      "Early stopping, best iteration is:\n",
      "[144]\tvalid_0's l2: 0.0155004\n"
     ]
    },
    {
     "name": "stderr",
     "output_type": "stream",
     "text": [
      "\u001b[32m[I 2022-05-26 15:29:50,730]\u001b[0m Trial 32 finished with value: 0.12450060870067971 and parameters: {'num_leaves': 15, 'max_bin': 193, 'bagging_fraction': 0.7437441381939076, 'bagging_freq': 3, 'feature_fraction': 0.8736852952444621, 'min_data_in_leaf': 12, 'min_sum_hessian_in_leaf': 3}. Best is trial 30 with value: 0.11621005960781597.\u001b[0m\n"
     ]
    },
    {
     "name": "stdout",
     "output_type": "stream",
     "text": [
      "[LightGBM] [Warning] Auto-choosing row-wise multi-threading, the overhead of testing was 0.000539 seconds.\n",
      "You can set `force_row_wise=true` to remove the overhead.\n",
      "And if memory is not enough, you can set `force_col_wise=true`.\n",
      "[LightGBM] [Info] Total Bins 2459\n",
      "[LightGBM] [Info] Number of data points in the train set: 1156, number of used features: 78\n",
      "[LightGBM] [Info] Start training from score 12.015333\n",
      "Training until validation scores don't improve for 20 rounds\n",
      "[10]\tvalid_0's l2: 0.0682726\n",
      "[20]\tvalid_0's l2: 0.0384307\n",
      "[30]\tvalid_0's l2: 0.0260289\n",
      "[40]\tvalid_0's l2: 0.0204018\n",
      "[50]\tvalid_0's l2: 0.0177781\n",
      "[60]\tvalid_0's l2: 0.0165407\n",
      "[70]\tvalid_0's l2: 0.0158151\n",
      "[80]\tvalid_0's l2: 0.0154962\n",
      "[90]\tvalid_0's l2: 0.0152292\n",
      "[100]\tvalid_0's l2: 0.0150404\n",
      "[110]\tvalid_0's l2: 0.0148178\n",
      "[120]\tvalid_0's l2: 0.0148236\n",
      "[130]\tvalid_0's l2: 0.0146665\n",
      "[140]\tvalid_0's l2: 0.0146263\n",
      "[150]\tvalid_0's l2: 0.014627\n",
      "[160]\tvalid_0's l2: 0.0146223\n"
     ]
    },
    {
     "name": "stderr",
     "output_type": "stream",
     "text": [
      "\u001b[32m[I 2022-05-26 15:29:51,032]\u001b[0m Trial 33 finished with value: 0.1207198568553516 and parameters: {'num_leaves': 17, 'max_bin': 128, 'bagging_fraction': 0.4128313590272658, 'bagging_freq': 3, 'feature_fraction': 0.6123427343757532, 'min_data_in_leaf': 7, 'min_sum_hessian_in_leaf': 5}. Best is trial 30 with value: 0.11621005960781597.\u001b[0m\n"
     ]
    },
    {
     "name": "stdout",
     "output_type": "stream",
     "text": [
      "[170]\tvalid_0's l2: 0.0146368\n",
      "Early stopping, best iteration is:\n",
      "[153]\tvalid_0's l2: 0.0145733\n",
      "[LightGBM] [Warning] Auto-choosing col-wise multi-threading, the overhead of testing was 0.001401 seconds.\n",
      "You can set `force_col_wise=true` to remove the overhead.\n",
      "[LightGBM] [Info] Total Bins 2580\n",
      "[LightGBM] [Info] Number of data points in the train set: 1156, number of used features: 79\n",
      "[LightGBM] [Info] Start training from score 12.015333\n",
      "Training until validation scores don't improve for 20 rounds\n",
      "[10]\tvalid_0's l2: 0.0676655\n",
      "[20]\tvalid_0's l2: 0.0383163\n",
      "[30]\tvalid_0's l2: 0.0259987\n",
      "[40]\tvalid_0's l2: 0.0205822\n",
      "[50]\tvalid_0's l2: 0.0179582\n",
      "[60]\tvalid_0's l2: 0.0165008\n",
      "[70]\tvalid_0's l2: 0.0159439\n",
      "[80]\tvalid_0's l2: 0.0154322\n",
      "[90]\tvalid_0's l2: 0.0152\n",
      "[100]\tvalid_0's l2: 0.0150601\n",
      "[110]\tvalid_0's l2: 0.0149015\n",
      "[120]\tvalid_0's l2: 0.0147122\n",
      "[130]\tvalid_0's l2: 0.0146916\n",
      "[140]\tvalid_0's l2: 0.0146432\n",
      "[150]\tvalid_0's l2: 0.0145681\n",
      "[160]\tvalid_0's l2: 0.014555\n",
      "[170]\tvalid_0's l2: 0.0145766\n",
      "[180]\tvalid_0's l2: 0.0145195\n",
      "[190]\tvalid_0's l2: 0.0145071\n",
      "[200]\tvalid_0's l2: 0.0145429\n",
      "Early stopping, best iteration is:\n",
      "[186]\tvalid_0's l2: 0.0144864\n"
     ]
    },
    {
     "name": "stderr",
     "output_type": "stream",
     "text": [
      "\u001b[32m[I 2022-05-26 15:29:51,447]\u001b[0m Trial 34 finished with value: 0.1203595765461759 and parameters: {'num_leaves': 20, 'max_bin': 138, 'bagging_fraction': 0.8319278029616157, 'bagging_freq': 2, 'feature_fraction': 0.6586895535770572, 'min_data_in_leaf': 3, 'min_sum_hessian_in_leaf': 8}. Best is trial 30 with value: 0.11621005960781597.\u001b[0m\n"
     ]
    },
    {
     "name": "stdout",
     "output_type": "stream",
     "text": [
      "[LightGBM] [Warning] Auto-choosing col-wise multi-threading, the overhead of testing was 0.001415 seconds.\n",
      "You can set `force_col_wise=true` to remove the overhead.\n",
      "[LightGBM] [Info] Total Bins 2542\n",
      "[LightGBM] [Info] Number of data points in the train set: 1156, number of used features: 78\n",
      "[LightGBM] [Info] Start training from score 12.015333\n",
      "Training until validation scores don't improve for 20 rounds\n",
      "[10]\tvalid_0's l2: 0.068393\n",
      "[20]\tvalid_0's l2: 0.0381795\n",
      "[30]\tvalid_0's l2: 0.0252867\n",
      "[40]\tvalid_0's l2: 0.0199694\n",
      "[50]\tvalid_0's l2: 0.017562\n",
      "[60]\tvalid_0's l2: 0.0163758\n",
      "[70]\tvalid_0's l2: 0.0155249\n",
      "[80]\tvalid_0's l2: 0.0149318\n",
      "[90]\tvalid_0's l2: 0.0147414\n",
      "[100]\tvalid_0's l2: 0.0146293\n"
     ]
    },
    {
     "name": "stderr",
     "output_type": "stream",
     "text": [
      "\u001b[32m[I 2022-05-26 15:29:51,775]\u001b[0m Trial 35 finished with value: 0.12059170214927306 and parameters: {'num_leaves': 28, 'max_bin': 135, 'bagging_fraction': 0.49163991810703933, 'bagging_freq': 2, 'feature_fraction': 0.6440281403244773, 'min_data_in_leaf': 7, 'min_sum_hessian_in_leaf': 10}. Best is trial 30 with value: 0.11621005960781597.\u001b[0m\n"
     ]
    },
    {
     "name": "stdout",
     "output_type": "stream",
     "text": [
      "[110]\tvalid_0's l2: 0.0146798\n",
      "[120]\tvalid_0's l2: 0.0146872\n",
      "Early stopping, best iteration is:\n",
      "[105]\tvalid_0's l2: 0.0145424\n",
      "[LightGBM] [Warning] Auto-choosing row-wise multi-threading, the overhead of testing was 0.000639 seconds.\n",
      "You can set `force_row_wise=true` to remove the overhead.\n",
      "And if memory is not enough, you can set `force_col_wise=true`.\n",
      "[LightGBM] [Info] Total Bins 2870\n",
      "[LightGBM] [Info] Number of data points in the train set: 1156, number of used features: 78\n",
      "[LightGBM] [Info] Start training from score 12.015333\n",
      "Training until validation scores don't improve for 20 rounds\n",
      "[10]\tvalid_0's l2: 0.064695\n",
      "[20]\tvalid_0's l2: 0.0350467\n",
      "[30]\tvalid_0's l2: 0.0236307\n",
      "[40]\tvalid_0's l2: 0.0190976\n",
      "[50]\tvalid_0's l2: 0.0170016\n",
      "[60]\tvalid_0's l2: 0.0162354\n",
      "[70]\tvalid_0's l2: 0.0158601\n",
      "[80]\tvalid_0's l2: 0.0156705\n",
      "[90]\tvalid_0's l2: 0.0155466\n",
      "[100]\tvalid_0's l2: 0.0154278\n"
     ]
    },
    {
     "name": "stderr",
     "output_type": "stream",
     "text": [
      "\u001b[32m[I 2022-05-26 15:29:52,329]\u001b[0m Trial 36 finished with value: 0.12362844403791992 and parameters: {'num_leaves': 50, 'max_bin': 163, 'bagging_fraction': 0.8518598698729667, 'bagging_freq': 1, 'feature_fraction': 0.6760962349612033, 'min_data_in_leaf': 10, 'min_sum_hessian_in_leaf': 10}. Best is trial 30 with value: 0.11621005960781597.\u001b[0m\n"
     ]
    },
    {
     "name": "stdout",
     "output_type": "stream",
     "text": [
      "[110]\tvalid_0's l2: 0.0153874\n",
      "[120]\tvalid_0's l2: 0.0153315\n",
      "[130]\tvalid_0's l2: 0.0153339\n",
      "[140]\tvalid_0's l2: 0.0153313\n",
      "[150]\tvalid_0's l2: 0.0153087\n",
      "[160]\tvalid_0's l2: 0.0153258\n",
      "Early stopping, best iteration is:\n",
      "[145]\tvalid_0's l2: 0.015284\n",
      "[LightGBM] [Warning] Auto-choosing col-wise multi-threading, the overhead of testing was 0.001484 seconds.\n",
      "You can set `force_col_wise=true` to remove the overhead.\n",
      "[LightGBM] [Info] Total Bins 1928\n",
      "[LightGBM] [Info] Number of data points in the train set: 1156, number of used features: 78\n",
      "[LightGBM] [Info] Start training from score 12.015333\n",
      "Training until validation scores don't improve for 20 rounds\n",
      "[10]\tvalid_0's l2: 0.0677306\n",
      "[20]\tvalid_0's l2: 0.0370913\n",
      "[30]\tvalid_0's l2: 0.0243411\n",
      "[40]\tvalid_0's l2: 0.0191862\n",
      "[50]\tvalid_0's l2: 0.0167617\n",
      "[60]\tvalid_0's l2: 0.0155816\n",
      "[70]\tvalid_0's l2: 0.0147963\n",
      "[80]\tvalid_0's l2: 0.0142493\n",
      "[90]\tvalid_0's l2: 0.0141046\n",
      "[100]\tvalid_0's l2: 0.01402\n",
      "[110]\tvalid_0's l2: 0.01378\n",
      "[120]\tvalid_0's l2: 0.013896\n",
      "[130]\tvalid_0's l2: 0.0137337\n"
     ]
    },
    {
     "name": "stderr",
     "output_type": "stream",
     "text": [
      "\u001b[32m[I 2022-05-26 15:29:52,695]\u001b[0m Trial 37 finished with value: 0.11634589292845095 and parameters: {'num_leaves': 21, 'max_bin': 86, 'bagging_fraction': 0.45014697113274893, 'bagging_freq': 1, 'feature_fraction': 0.8647646583960953, 'min_data_in_leaf': 12, 'min_sum_hessian_in_leaf': 8}. Best is trial 30 with value: 0.11621005960781597.\u001b[0m\n"
     ]
    },
    {
     "name": "stdout",
     "output_type": "stream",
     "text": [
      "[140]\tvalid_0's l2: 0.0136708\n",
      "[150]\tvalid_0's l2: 0.013656\n",
      "[160]\tvalid_0's l2: 0.0135364\n",
      "[170]\tvalid_0's l2: 0.0136163\n",
      "[180]\tvalid_0's l2: 0.013646\n",
      "Early stopping, best iteration is:\n",
      "[160]\tvalid_0's l2: 0.0135364\n",
      "[LightGBM] [Warning] Auto-choosing col-wise multi-threading, the overhead of testing was 0.001474 seconds.\n",
      "You can set `force_col_wise=true` to remove the overhead.\n",
      "[LightGBM] [Info] Total Bins 2578\n",
      "[LightGBM] [Info] Number of data points in the train set: 1156, number of used features: 78\n",
      "[LightGBM] [Info] Start training from score 12.015333\n",
      "Training until validation scores don't improve for 20 rounds\n",
      "[10]\tvalid_0's l2: 0.0683957\n",
      "[20]\tvalid_0's l2: 0.0389712\n",
      "[30]\tvalid_0's l2: 0.0265129\n",
      "[40]\tvalid_0's l2: 0.0206742\n",
      "[50]\tvalid_0's l2: 0.0187495\n",
      "[60]\tvalid_0's l2: 0.0173362\n",
      "[70]\tvalid_0's l2: 0.0164796\n",
      "[80]\tvalid_0's l2: 0.0159671\n",
      "[90]\tvalid_0's l2: 0.0157594\n",
      "[100]\tvalid_0's l2: 0.0153507\n",
      "[110]\tvalid_0's l2: 0.0150858\n",
      "[120]\tvalid_0's l2: 0.014961\n",
      "[130]\tvalid_0's l2: 0.01496\n",
      "[140]\tvalid_0's l2: 0.0148748\n",
      "[150]\tvalid_0's l2: 0.014995\n",
      "[160]\tvalid_0's l2: 0.0149387\n",
      "Early stopping, best iteration is:\n",
      "[141]\tvalid_0's l2: 0.0148617\n"
     ]
    },
    {
     "name": "stderr",
     "output_type": "stream",
     "text": [
      "\u001b[32m[I 2022-05-26 15:29:53,016]\u001b[0m Trial 38 finished with value: 0.12190846996739746 and parameters: {'num_leaves': 21, 'max_bin': 138, 'bagging_fraction': 0.4319776330604906, 'bagging_freq': 5, 'feature_fraction': 0.8887475698722234, 'min_data_in_leaf': 15, 'min_sum_hessian_in_leaf': 4}. Best is trial 30 with value: 0.11621005960781597.\u001b[0m\n"
     ]
    },
    {
     "name": "stdout",
     "output_type": "stream",
     "text": [
      "[LightGBM] [Warning] Auto-choosing col-wise multi-threading, the overhead of testing was 0.001406 seconds.\n",
      "You can set `force_col_wise=true` to remove the overhead.\n",
      "[LightGBM] [Info] Total Bins 1896\n",
      "[LightGBM] [Info] Number of data points in the train set: 1156, number of used features: 78\n",
      "[LightGBM] [Info] Start training from score 12.015333\n",
      "Training until validation scores don't improve for 20 rounds\n",
      "[10]\tvalid_0's l2: 0.0644176\n",
      "[20]\tvalid_0's l2: 0.0351717\n",
      "[30]\tvalid_0's l2: 0.0235163\n",
      "[40]\tvalid_0's l2: 0.0193476\n",
      "[50]\tvalid_0's l2: 0.0170961\n",
      "[60]\tvalid_0's l2: 0.0161074\n",
      "[70]\tvalid_0's l2: 0.0154883\n",
      "[80]\tvalid_0's l2: 0.0152515\n",
      "[90]\tvalid_0's l2: 0.015119\n",
      "[100]\tvalid_0's l2: 0.0150402\n",
      "[110]\tvalid_0's l2: 0.0149841\n",
      "[120]\tvalid_0's l2: 0.0149376\n",
      "[130]\tvalid_0's l2: 0.0150143\n",
      "[140]\tvalid_0's l2: 0.015119\n"
     ]
    },
    {
     "name": "stderr",
     "output_type": "stream",
     "text": [
      "\u001b[32m[I 2022-05-26 15:29:53,533]\u001b[0m Trial 39 finished with value: 0.12215065383271784 and parameters: {'num_leaves': 62, 'max_bin': 84, 'bagging_fraction': 0.8746594112078407, 'bagging_freq': 10, 'feature_fraction': 0.7996012936761958, 'min_data_in_leaf': 11, 'min_sum_hessian_in_leaf': 9}. Best is trial 30 with value: 0.11621005960781597.\u001b[0m\n"
     ]
    },
    {
     "name": "stdout",
     "output_type": "stream",
     "text": [
      "Early stopping, best iteration is:\n",
      "[122]\tvalid_0's l2: 0.0149208\n",
      "[LightGBM] [Warning] Auto-choosing row-wise multi-threading, the overhead of testing was 0.000585 seconds.\n",
      "You can set `force_row_wise=true` to remove the overhead.\n",
      "And if memory is not enough, you can set `force_col_wise=true`.\n",
      "[LightGBM] [Info] Total Bins 3017\n",
      "[LightGBM] [Info] Number of data points in the train set: 1156, number of used features: 79\n",
      "[LightGBM] [Info] Start training from score 12.015333\n",
      "Training until validation scores don't improve for 20 rounds\n",
      "[10]\tvalid_0's l2: 0.067131\n",
      "[20]\tvalid_0's l2: 0.037303\n",
      "[30]\tvalid_0's l2: 0.0249732\n",
      "[40]\tvalid_0's l2: 0.0195751\n",
      "[50]\tvalid_0's l2: 0.0168822\n",
      "[60]\tvalid_0's l2: 0.0154761\n",
      "[70]\tvalid_0's l2: 0.0148505\n",
      "[80]\tvalid_0's l2: 0.0144755\n",
      "[90]\tvalid_0's l2: 0.014292\n",
      "[100]\tvalid_0's l2: 0.0141133\n",
      "[110]\tvalid_0's l2: 0.0140325\n",
      "[120]\tvalid_0's l2: 0.0138918\n",
      "[130]\tvalid_0's l2: 0.0138017\n",
      "[140]\tvalid_0's l2: 0.0137878\n",
      "[150]\tvalid_0's l2: 0.0137468\n",
      "[160]\tvalid_0's l2: 0.0137043\n",
      "[170]\tvalid_0's l2: 0.0137\n",
      "[180]\tvalid_0's l2: 0.0137556\n",
      "Early stopping, best iteration is:\n",
      "[161]\tvalid_0's l2: 0.0136945\n"
     ]
    },
    {
     "name": "stderr",
     "output_type": "stream",
     "text": [
      "\u001b[32m[I 2022-05-26 15:29:53,920]\u001b[0m Trial 40 finished with value: 0.1170233190753309 and parameters: {'num_leaves': 21, 'max_bin': 178, 'bagging_fraction': 0.7089383459587619, 'bagging_freq': 1, 'feature_fraction': 0.5736167589661099, 'min_data_in_leaf': 4, 'min_sum_hessian_in_leaf': 10}. Best is trial 30 with value: 0.11621005960781597.\u001b[0m\n"
     ]
    },
    {
     "name": "stdout",
     "output_type": "stream",
     "text": [
      "[LightGBM] [Warning] Auto-choosing col-wise multi-threading, the overhead of testing was 0.001389 seconds.\n",
      "You can set `force_col_wise=true` to remove the overhead.\n",
      "[LightGBM] [Info] Total Bins 2424\n",
      "[LightGBM] [Info] Number of data points in the train set: 1156, number of used features: 78\n",
      "[LightGBM] [Info] Start training from score 12.015333\n",
      "Training until validation scores don't improve for 20 rounds\n",
      "[10]\tvalid_0's l2: 0.0680019\n",
      "[20]\tvalid_0's l2: 0.0374251\n",
      "[30]\tvalid_0's l2: 0.0246349\n",
      "[40]\tvalid_0's l2: 0.019427\n",
      "[50]\tvalid_0's l2: 0.0167085\n",
      "[60]\tvalid_0's l2: 0.0151676\n",
      "[70]\tvalid_0's l2: 0.014551\n",
      "[80]\tvalid_0's l2: 0.0141983\n",
      "[90]\tvalid_0's l2: 0.0139977\n",
      "[100]\tvalid_0's l2: 0.0139503\n"
     ]
    },
    {
     "name": "stderr",
     "output_type": "stream",
     "text": [
      "\u001b[32m[I 2022-05-26 15:29:54,317]\u001b[0m Trial 41 finished with value: 0.11607389645958345 and parameters: {'num_leaves': 33, 'max_bin': 125, 'bagging_fraction': 0.7197362581993618, 'bagging_freq': 4, 'feature_fraction': 0.4684501358427995, 'min_data_in_leaf': 14, 'min_sum_hessian_in_leaf': 2}. Best is trial 41 with value: 0.11607389645958345.\u001b[0m\n"
     ]
    },
    {
     "name": "stdout",
     "output_type": "stream",
     "text": [
      "[110]\tvalid_0's l2: 0.0138424\n",
      "[120]\tvalid_0's l2: 0.0136913\n",
      "[130]\tvalid_0's l2: 0.0136268\n",
      "[140]\tvalid_0's l2: 0.0135483\n",
      "[150]\tvalid_0's l2: 0.0134731\n",
      "[160]\tvalid_0's l2: 0.0135188\n",
      "[170]\tvalid_0's l2: 0.0135685\n",
      "Early stopping, best iteration is:\n",
      "[150]\tvalid_0's l2: 0.0134731\n",
      "[LightGBM] [Warning] Auto-choosing row-wise multi-threading, the overhead of testing was 0.000603 seconds.\n",
      "You can set `force_row_wise=true` to remove the overhead.\n",
      "And if memory is not enough, you can set `force_col_wise=true`.\n",
      "[LightGBM] [Info] Total Bins 1876\n",
      "[LightGBM] [Info] Number of data points in the train set: 1156, number of used features: 78\n"
     ]
    },
    {
     "name": "stderr",
     "output_type": "stream",
     "text": [
      "\u001b[32m[I 2022-05-26 15:29:54,601]\u001b[0m Trial 42 finished with value: 0.12360509389043547 and parameters: {'num_leaves': 35, 'max_bin': 83, 'bagging_fraction': 0.44892224224701704, 'bagging_freq': 9, 'feature_fraction': 0.8864597445115652, 'min_data_in_leaf': 16, 'min_sum_hessian_in_leaf': 10}. Best is trial 41 with value: 0.11607389645958345.\u001b[0m\n"
     ]
    },
    {
     "name": "stdout",
     "output_type": "stream",
     "text": [
      "[LightGBM] [Info] Start training from score 12.015333\n",
      "[LightGBM] [Warning] No further splits with positive gain, best gain: -inf\n",
      "Training until validation scores don't improve for 20 rounds\n",
      "[LightGBM] [Warning] No further splits with positive gain, best gain: -inf\n",
      "[LightGBM] [Warning] No further splits with positive gain, best gain: -inf\n",
      "[LightGBM] [Warning] No further splits with positive gain, best gain: -inf\n",
      "[LightGBM] [Warning] No further splits with positive gain, best gain: -inf\n",
      "[LightGBM] [Warning] No further splits with positive gain, best gain: -inf\n",
      "[LightGBM] [Warning] No further splits with positive gain, best gain: -inf\n",
      "[LightGBM] [Warning] No further splits with positive gain, best gain: -inf\n",
      "[LightGBM] [Warning] No further splits with positive gain, best gain: -inf\n",
      "[LightGBM] [Warning] No further splits with positive gain, best gain: -inf\n",
      "[10]\tvalid_0's l2: 0.0678542\n",
      "[LightGBM] [Warning] No further splits with positive gain, best gain: -inf\n",
      "[LightGBM] [Warning] No further splits with positive gain, best gain: -inf\n",
      "[LightGBM] [Warning] No further splits with positive gain, best gain: -inf\n",
      "[LightGBM] [Warning] No further splits with positive gain, best gain: -inf\n",
      "[LightGBM] [Warning] No further splits with positive gain, best gain: -inf\n",
      "[LightGBM] [Warning] No further splits with positive gain, best gain: -inf\n",
      "[LightGBM] [Warning] No further splits with positive gain, best gain: -inf\n",
      "[LightGBM] [Warning] No further splits with positive gain, best gain: -inf\n",
      "[LightGBM] [Warning] No further splits with positive gain, best gain: -inf\n",
      "[LightGBM] [Warning] No further splits with positive gain, best gain: -inf\n",
      "[20]\tvalid_0's l2: 0.0378289\n",
      "[LightGBM] [Warning] No further splits with positive gain, best gain: -inf\n",
      "[LightGBM] [Warning] No further splits with positive gain, best gain: -inf\n",
      "[LightGBM] [Warning] No further splits with positive gain, best gain: -inf\n",
      "[LightGBM] [Warning] No further splits with positive gain, best gain: -inf\n",
      "[LightGBM] [Warning] No further splits with positive gain, best gain: -inf\n",
      "[LightGBM] [Warning] No further splits with positive gain, best gain: -inf\n",
      "[LightGBM] [Warning] No further splits with positive gain, best gain: -inf\n",
      "[LightGBM] [Warning] No further splits with positive gain, best gain: -inf\n",
      "[LightGBM] [Warning] No further splits with positive gain, best gain: -inf\n",
      "[LightGBM] [Warning] No further splits with positive gain, best gain: -inf\n",
      "[30]\tvalid_0's l2: 0.0261082\n",
      "[LightGBM] [Warning] No further splits with positive gain, best gain: -inf\n",
      "[LightGBM] [Warning] No further splits with positive gain, best gain: -inf\n",
      "[LightGBM] [Warning] No further splits with positive gain, best gain: -inf\n",
      "[LightGBM] [Warning] No further splits with positive gain, best gain: -inf\n",
      "[LightGBM] [Warning] No further splits with positive gain, best gain: -inf\n",
      "[LightGBM] [Warning] No further splits with positive gain, best gain: -inf\n",
      "[LightGBM] [Warning] No further splits with positive gain, best gain: -inf\n",
      "[LightGBM] [Warning] No further splits with positive gain, best gain: -inf\n",
      "[LightGBM] [Warning] No further splits with positive gain, best gain: -inf\n",
      "[LightGBM] [Warning] No further splits with positive gain, best gain: -inf\n",
      "[40]\tvalid_0's l2: 0.0210435\n",
      "[LightGBM] [Warning] No further splits with positive gain, best gain: -inf\n",
      "[LightGBM] [Warning] No further splits with positive gain, best gain: -inf\n",
      "[LightGBM] [Warning] No further splits with positive gain, best gain: -inf\n",
      "[LightGBM] [Warning] No further splits with positive gain, best gain: -inf\n",
      "[LightGBM] [Warning] No further splits with positive gain, best gain: -inf\n",
      "[LightGBM] [Warning] No further splits with positive gain, best gain: -inf\n",
      "[LightGBM] [Warning] No further splits with positive gain, best gain: -inf\n",
      "[LightGBM] [Warning] No further splits with positive gain, best gain: -inf\n",
      "[LightGBM] [Warning] No further splits with positive gain, best gain: -inf\n",
      "[LightGBM] [Warning] No further splits with positive gain, best gain: -inf\n",
      "[50]\tvalid_0's l2: 0.0184464\n",
      "[LightGBM] [Warning] No further splits with positive gain, best gain: -inf\n",
      "[LightGBM] [Warning] No further splits with positive gain, best gain: -inf\n",
      "[LightGBM] [Warning] No further splits with positive gain, best gain: -inf\n",
      "[LightGBM] [Warning] No further splits with positive gain, best gain: -inf\n",
      "[LightGBM] [Warning] No further splits with positive gain, best gain: -inf\n",
      "[LightGBM] [Warning] No further splits with positive gain, best gain: -inf\n",
      "[LightGBM] [Warning] No further splits with positive gain, best gain: -inf\n",
      "[LightGBM] [Warning] No further splits with positive gain, best gain: -inf\n",
      "[LightGBM] [Warning] No further splits with positive gain, best gain: -inf\n",
      "[LightGBM] [Warning] No further splits with positive gain, best gain: -inf\n",
      "[60]\tvalid_0's l2: 0.0171952\n",
      "[LightGBM] [Warning] No further splits with positive gain, best gain: -inf\n",
      "[LightGBM] [Warning] No further splits with positive gain, best gain: -inf\n",
      "[LightGBM] [Warning] No further splits with positive gain, best gain: -inf\n",
      "[LightGBM] [Warning] No further splits with positive gain, best gain: -inf\n",
      "[LightGBM] [Warning] No further splits with positive gain, best gain: -inf\n",
      "[LightGBM] [Warning] No further splits with positive gain, best gain: -inf\n",
      "[LightGBM] [Warning] No further splits with positive gain, best gain: -inf\n",
      "[LightGBM] [Warning] No further splits with positive gain, best gain: -inf\n",
      "[LightGBM] [Warning] No further splits with positive gain, best gain: -inf\n",
      "[LightGBM] [Warning] No further splits with positive gain, best gain: -inf\n",
      "[70]\tvalid_0's l2: 0.0167112\n",
      "[LightGBM] [Warning] No further splits with positive gain, best gain: -inf\n",
      "[LightGBM] [Warning] No further splits with positive gain, best gain: -inf\n",
      "[LightGBM] [Warning] No further splits with positive gain, best gain: -inf\n",
      "[LightGBM] [Warning] No further splits with positive gain, best gain: -inf\n",
      "[LightGBM] [Warning] No further splits with positive gain, best gain: -inf\n",
      "[LightGBM] [Warning] No further splits with positive gain, best gain: -inf\n",
      "[LightGBM] [Warning] No further splits with positive gain, best gain: -inf\n",
      "[LightGBM] [Warning] No further splits with positive gain, best gain: -inf\n",
      "[LightGBM] [Warning] No further splits with positive gain, best gain: -inf\n",
      "[LightGBM] [Warning] No further splits with positive gain, best gain: -inf\n",
      "[80]\tvalid_0's l2: 0.0160407\n",
      "[LightGBM] [Warning] No further splits with positive gain, best gain: -inf\n",
      "[LightGBM] [Warning] No further splits with positive gain, best gain: -inf\n",
      "[LightGBM] [Warning] No further splits with positive gain, best gain: -inf\n",
      "[LightGBM] [Warning] No further splits with positive gain, best gain: -inf\n",
      "[LightGBM] [Warning] No further splits with positive gain, best gain: -inf\n",
      "[LightGBM] [Warning] No further splits with positive gain, best gain: -inf\n",
      "[LightGBM] [Warning] No further splits with positive gain, best gain: -inf\n",
      "[LightGBM] [Warning] No further splits with positive gain, best gain: -inf\n",
      "[LightGBM] [Warning] No further splits with positive gain, best gain: -inf\n",
      "[LightGBM] [Warning] No further splits with positive gain, best gain: -inf\n",
      "[90]\tvalid_0's l2: 0.0156498\n",
      "[LightGBM] [Warning] No further splits with positive gain, best gain: -inf\n",
      "[LightGBM] [Warning] No further splits with positive gain, best gain: -inf\n",
      "[LightGBM] [Warning] No further splits with positive gain, best gain: -inf\n",
      "[LightGBM] [Warning] No further splits with positive gain, best gain: -inf\n",
      "[LightGBM] [Warning] No further splits with positive gain, best gain: -inf\n",
      "[LightGBM] [Warning] No further splits with positive gain, best gain: -inf\n",
      "[LightGBM] [Warning] No further splits with positive gain, best gain: -inf\n",
      "[LightGBM] [Warning] No further splits with positive gain, best gain: -inf\n",
      "[LightGBM] [Warning] No further splits with positive gain, best gain: -inf\n",
      "[LightGBM] [Warning] No further splits with positive gain, best gain: -inf\n",
      "[100]\tvalid_0's l2: 0.0156878\n",
      "[LightGBM] [Warning] No further splits with positive gain, best gain: -inf\n",
      "[LightGBM] [Warning] No further splits with positive gain, best gain: -inf\n",
      "[LightGBM] [Warning] No further splits with positive gain, best gain: -inf\n",
      "[LightGBM] [Warning] No further splits with positive gain, best gain: -inf\n",
      "[LightGBM] [Warning] No further splits with positive gain, best gain: -inf\n",
      "[LightGBM] [Warning] No further splits with positive gain, best gain: -inf\n",
      "[LightGBM] [Warning] No further splits with positive gain, best gain: -inf\n",
      "[LightGBM] [Warning] No further splits with positive gain, best gain: -inf\n",
      "[LightGBM] [Warning] No further splits with positive gain, best gain: -inf\n",
      "[LightGBM] [Warning] No further splits with positive gain, best gain: -inf\n",
      "[110]\tvalid_0's l2: 0.01528\n",
      "[LightGBM] [Warning] No further splits with positive gain, best gain: -inf\n",
      "[LightGBM] [Warning] No further splits with positive gain, best gain: -inf\n",
      "[LightGBM] [Warning] No further splits with positive gain, best gain: -inf\n",
      "[LightGBM] [Warning] No further splits with positive gain, best gain: -inf\n",
      "[LightGBM] [Warning] No further splits with positive gain, best gain: -inf\n",
      "[LightGBM] [Warning] No further splits with positive gain, best gain: -inf\n",
      "[LightGBM] [Warning] No further splits with positive gain, best gain: -inf\n",
      "[LightGBM] [Warning] No further splits with positive gain, best gain: -inf\n",
      "[LightGBM] [Warning] No further splits with positive gain, best gain: -inf\n",
      "[LightGBM] [Warning] No further splits with positive gain, best gain: -inf\n",
      "[120]\tvalid_0's l2: 0.0155507\n",
      "[LightGBM] [Warning] No further splits with positive gain, best gain: -inf\n",
      "[LightGBM] [Warning] No further splits with positive gain, best gain: -inf\n",
      "[LightGBM] [Warning] No further splits with positive gain, best gain: -inf\n",
      "[LightGBM] [Warning] No further splits with positive gain, best gain: -inf\n",
      "[LightGBM] [Warning] No further splits with positive gain, best gain: -inf\n",
      "[LightGBM] [Warning] No further splits with positive gain, best gain: -inf\n",
      "[LightGBM] [Warning] No further splits with positive gain, best gain: -inf\n",
      "[LightGBM] [Warning] No further splits with positive gain, best gain: -inf\n",
      "[LightGBM] [Warning] No further splits with positive gain, best gain: -inf\n",
      "[LightGBM] [Warning] No further splits with positive gain, best gain: -inf\n",
      "[130]\tvalid_0's l2: 0.0155976\n",
      "[LightGBM] [Warning] No further splits with positive gain, best gain: -inf\n",
      "Early stopping, best iteration is:\n",
      "[111]\tvalid_0's l2: 0.0152782\n",
      "[LightGBM] [Warning] Auto-choosing row-wise multi-threading, the overhead of testing was 0.000559 seconds.\n",
      "You can set `force_row_wise=true` to remove the overhead.\n",
      "And if memory is not enough, you can set `force_col_wise=true`.\n",
      "[LightGBM] [Info] Total Bins 2132\n",
      "[LightGBM] [Info] Number of data points in the train set: 1156, number of used features: 79\n",
      "[LightGBM] [Info] Start training from score 12.015333\n",
      "Training until validation scores don't improve for 20 rounds\n",
      "[10]\tvalid_0's l2: 0.0664833\n",
      "[20]\tvalid_0's l2: 0.0369944\n",
      "[30]\tvalid_0's l2: 0.0252167\n",
      "[40]\tvalid_0's l2: 0.0195319\n",
      "[50]\tvalid_0's l2: 0.0176001\n",
      "[60]\tvalid_0's l2: 0.0164878\n",
      "[70]\tvalid_0's l2: 0.0160626\n"
     ]
    },
    {
     "name": "stderr",
     "output_type": "stream",
     "text": [
      "\u001b[32m[I 2022-05-26 15:29:55,022]\u001b[0m Trial 43 finished with value: 0.12258004859678505 and parameters: {'num_leaves': 51, 'max_bin': 100, 'bagging_fraction': 0.4405506949939984, 'bagging_freq': 5, 'feature_fraction': 0.5161170710854714, 'min_data_in_leaf': 3, 'min_sum_hessian_in_leaf': 1}. Best is trial 41 with value: 0.11607389645958345.\u001b[0m\n"
     ]
    },
    {
     "name": "stdout",
     "output_type": "stream",
     "text": [
      "[80]\tvalid_0's l2: 0.0157654\n",
      "[90]\tvalid_0's l2: 0.0154859\n",
      "[100]\tvalid_0's l2: 0.0151975\n",
      "[110]\tvalid_0's l2: 0.0150395\n",
      "[120]\tvalid_0's l2: 0.0150358\n",
      "Early stopping, best iteration is:\n",
      "[107]\tvalid_0's l2: 0.0150259\n",
      "[LightGBM] [Warning] Auto-choosing row-wise multi-threading, the overhead of testing was 0.000560 seconds.\n",
      "You can set `force_row_wise=true` to remove the overhead.\n",
      "And if memory is not enough, you can set `force_col_wise=true`.\n",
      "[LightGBM] [Info] Total Bins 1364\n",
      "[LightGBM] [Info] Number of data points in the train set: 1156, number of used features: 79\n",
      "[LightGBM] [Info] Start training from score 12.015333\n",
      "Training until validation scores don't improve for 20 rounds\n",
      "[10]\tvalid_0's l2: 0.0671077\n",
      "[20]\tvalid_0's l2: 0.0359559\n",
      "[30]\tvalid_0's l2: 0.0239904\n",
      "[40]\tvalid_0's l2: 0.0189382\n",
      "[50]\tvalid_0's l2: 0.0167995\n",
      "[60]\tvalid_0's l2: 0.0154498\n",
      "[70]\tvalid_0's l2: 0.0148961\n"
     ]
    },
    {
     "name": "stderr",
     "output_type": "stream",
     "text": [
      "\u001b[32m[I 2022-05-26 15:29:55,470]\u001b[0m Trial 44 finished with value: 0.1184374572828425 and parameters: {'num_leaves': 48, 'max_bin': 51, 'bagging_fraction': 0.7852903742513881, 'bagging_freq': 2, 'feature_fraction': 0.4397610412933779, 'min_data_in_leaf': 3, 'min_sum_hessian_in_leaf': 7}. Best is trial 41 with value: 0.11607389645958345.\u001b[0m\n"
     ]
    },
    {
     "name": "stdout",
     "output_type": "stream",
     "text": [
      "[80]\tvalid_0's l2: 0.0147326\n",
      "[90]\tvalid_0's l2: 0.0146315\n",
      "[100]\tvalid_0's l2: 0.014387\n",
      "[110]\tvalid_0's l2: 0.014218\n",
      "[120]\tvalid_0's l2: 0.0140993\n",
      "[130]\tvalid_0's l2: 0.0140685\n",
      "[140]\tvalid_0's l2: 0.0140959\n",
      "Early stopping, best iteration is:\n",
      "[126]\tvalid_0's l2: 0.0140274\n",
      "[LightGBM] [Warning] Auto-choosing col-wise multi-threading, the overhead of testing was 0.001466 seconds.\n",
      "You can set `force_col_wise=true` to remove the overhead.\n",
      "[LightGBM] [Info] Total Bins 2289\n",
      "[LightGBM] [Info] Number of data points in the train set: 1156, number of used features: 78\n",
      "[LightGBM] [Info] Start training from score 12.015333\n",
      "Training until validation scores don't improve for 20 rounds\n",
      "[10]\tvalid_0's l2: 0.0676824\n",
      "[20]\tvalid_0's l2: 0.0391645\n",
      "[30]\tvalid_0's l2: 0.0265916\n",
      "[40]\tvalid_0's l2: 0.0210271\n",
      "[50]\tvalid_0's l2: 0.0183889\n",
      "[60]\tvalid_0's l2: 0.01707\n",
      "[70]\tvalid_0's l2: 0.0163417\n",
      "[80]\tvalid_0's l2: 0.0159728\n",
      "[90]\tvalid_0's l2: 0.0156951\n",
      "[100]\tvalid_0's l2: 0.0156128\n",
      "[110]\tvalid_0's l2: 0.0153255\n",
      "[120]\tvalid_0's l2: 0.0152131\n",
      "[130]\tvalid_0's l2: 0.0151542\n",
      "Early stopping, best iteration is:\n",
      "[117]\tvalid_0's l2: 0.0151455\n"
     ]
    },
    {
     "name": "stderr",
     "output_type": "stream",
     "text": [
      "\u001b[32m[I 2022-05-26 15:29:55,749]\u001b[0m Trial 45 finished with value: 0.12306701064230102 and parameters: {'num_leaves': 18, 'max_bin': 113, 'bagging_fraction': 0.6786843956619585, 'bagging_freq': 9, 'feature_fraction': 0.7635221313556642, 'min_data_in_leaf': 6, 'min_sum_hessian_in_leaf': 2}. Best is trial 41 with value: 0.11607389645958345.\u001b[0m\n",
      "\u001b[32m[I 2022-05-26 15:29:56,136]\u001b[0m Trial 46 finished with value: 0.12049687664013224 and parameters: {'num_leaves': 7, 'max_bin': 95, 'bagging_fraction': 0.5310590746198391, 'bagging_freq': 5, 'feature_fraction': 0.7416406677738403, 'min_data_in_leaf': 12, 'min_sum_hessian_in_leaf': 3}. Best is trial 41 with value: 0.11607389645958345.\u001b[0m\n"
     ]
    },
    {
     "name": "stdout",
     "output_type": "stream",
     "text": [
      "[LightGBM] [Warning] Auto-choosing col-wise multi-threading, the overhead of testing was 0.001463 seconds.\n",
      "You can set `force_col_wise=true` to remove the overhead.\n",
      "[LightGBM] [Info] Total Bins 2060\n",
      "[LightGBM] [Info] Number of data points in the train set: 1156, number of used features: 78\n",
      "[LightGBM] [Info] Start training from score 12.015333\n",
      "Training until validation scores don't improve for 20 rounds\n",
      "[10]\tvalid_0's l2: 0.0736703\n",
      "[20]\tvalid_0's l2: 0.0446699\n",
      "[30]\tvalid_0's l2: 0.0309675\n",
      "[40]\tvalid_0's l2: 0.0240148\n",
      "[50]\tvalid_0's l2: 0.0205786\n",
      "[60]\tvalid_0's l2: 0.0184582\n",
      "[70]\tvalid_0's l2: 0.0172221\n",
      "[80]\tvalid_0's l2: 0.0162455\n",
      "[90]\tvalid_0's l2: 0.0157497\n",
      "[100]\tvalid_0's l2: 0.0152315\n",
      "[110]\tvalid_0's l2: 0.0152008\n",
      "[120]\tvalid_0's l2: 0.0152169\n",
      "[130]\tvalid_0's l2: 0.0149349\n",
      "[140]\tvalid_0's l2: 0.0147038\n",
      "[150]\tvalid_0's l2: 0.0146566\n",
      "[160]\tvalid_0's l2: 0.0145811\n",
      "[170]\tvalid_0's l2: 0.0146407\n",
      "[180]\tvalid_0's l2: 0.0145551\n",
      "[190]\tvalid_0's l2: 0.0145977\n",
      "[200]\tvalid_0's l2: 0.0145908\n",
      "Early stopping, best iteration is:\n",
      "[185]\tvalid_0's l2: 0.0145195\n",
      "[LightGBM] [Warning] Auto-choosing col-wise multi-threading, the overhead of testing was 0.001432 seconds.\n",
      "You can set `force_col_wise=true` to remove the overhead.\n",
      "[LightGBM] [Info] Total Bins 1789\n",
      "[LightGBM] [Info] Number of data points in the train set: 1156, number of used features: 78\n",
      "[LightGBM] [Info] Start training from score 12.015333\n",
      "Training until validation scores don't improve for 20 rounds\n",
      "[10]\tvalid_0's l2: 0.0664059\n",
      "[20]\tvalid_0's l2: 0.0364447\n",
      "[30]\tvalid_0's l2: 0.0245169\n",
      "[40]\tvalid_0's l2: 0.0195329\n",
      "[50]\tvalid_0's l2: 0.0173828\n",
      "[60]\tvalid_0's l2: 0.0164353\n",
      "[70]\tvalid_0's l2: 0.0157514\n",
      "[80]\tvalid_0's l2: 0.0153623\n",
      "[90]\tvalid_0's l2: 0.015229\n",
      "[100]\tvalid_0's l2: 0.0151322\n",
      "[110]\tvalid_0's l2: 0.0149309\n",
      "[120]\tvalid_0's l2: 0.0148238\n"
     ]
    },
    {
     "name": "stderr",
     "output_type": "stream",
     "text": [
      "\u001b[32m[I 2022-05-26 15:29:56,468]\u001b[0m Trial 47 finished with value: 0.12172000179946446 and parameters: {'num_leaves': 27, 'max_bin': 77, 'bagging_fraction': 0.7942727561532594, 'bagging_freq': 1, 'feature_fraction': 0.7484986208624937, 'min_data_in_leaf': 13, 'min_sum_hessian_in_leaf': 8}. Best is trial 41 with value: 0.11607389645958345.\u001b[0m\n"
     ]
    },
    {
     "name": "stdout",
     "output_type": "stream",
     "text": [
      "[130]\tvalid_0's l2: 0.0148456\n",
      "[140]\tvalid_0's l2: 0.0148433\n",
      "Early stopping, best iteration is:\n",
      "[122]\tvalid_0's l2: 0.0148158\n",
      "[LightGBM] [Warning] Auto-choosing row-wise multi-threading, the overhead of testing was 0.000578 seconds.\n",
      "You can set `force_row_wise=true` to remove the overhead.\n",
      "And if memory is not enough, you can set `force_col_wise=true`.\n",
      "[LightGBM] [Info] Total Bins 2198\n",
      "[LightGBM] [Info] Number of data points in the train set: 1156, number of used features: 79\n",
      "[LightGBM] [Info] Start training from score 12.015333\n",
      "Training until validation scores don't improve for 20 rounds\n",
      "[10]\tvalid_0's l2: 0.0674904\n",
      "[20]\tvalid_0's l2: 0.0378495\n",
      "[30]\tvalid_0's l2: 0.0253106\n",
      "[40]\tvalid_0's l2: 0.0199075\n"
     ]
    },
    {
     "name": "stderr",
     "output_type": "stream",
     "text": [
      "\u001b[32m[I 2022-05-26 15:29:56,800]\u001b[0m Trial 48 finished with value: 0.12038292521465738 and parameters: {'num_leaves': 19, 'max_bin': 106, 'bagging_fraction': 0.6937998175981945, 'bagging_freq': 3, 'feature_fraction': 0.5854263996089444, 'min_data_in_leaf': 4, 'min_sum_hessian_in_leaf': 5}. Best is trial 41 with value: 0.11607389645958345.\u001b[0m\n"
     ]
    },
    {
     "name": "stdout",
     "output_type": "stream",
     "text": [
      "[50]\tvalid_0's l2: 0.0172684\n",
      "[60]\tvalid_0's l2: 0.0158523\n",
      "[70]\tvalid_0's l2: 0.0153712\n",
      "[80]\tvalid_0's l2: 0.0151057\n",
      "[90]\tvalid_0's l2: 0.0150663\n",
      "[100]\tvalid_0's l2: 0.014961\n",
      "[110]\tvalid_0's l2: 0.0148236\n",
      "[120]\tvalid_0's l2: 0.0147344\n",
      "[130]\tvalid_0's l2: 0.0146849\n",
      "[140]\tvalid_0's l2: 0.014542\n",
      "[150]\tvalid_0's l2: 0.0146394\n",
      "[160]\tvalid_0's l2: 0.0146166\n",
      "Early stopping, best iteration is:\n",
      "[144]\tvalid_0's l2: 0.014492\n"
     ]
    },
    {
     "name": "stderr",
     "output_type": "stream",
     "text": [
      "\u001b[32m[I 2022-05-26 15:29:57,041]\u001b[0m Trial 49 finished with value: 0.11848287385526712 and parameters: {'num_leaves': 6, 'max_bin': 170, 'bagging_fraction': 0.4384782234933164, 'bagging_freq': 6, 'feature_fraction': 0.5534050497725981, 'min_data_in_leaf': 10, 'min_sum_hessian_in_leaf': 10}. Best is trial 41 with value: 0.11607389645958345.\u001b[0m\n"
     ]
    },
    {
     "name": "stdout",
     "output_type": "stream",
     "text": [
      "[LightGBM] [Warning] Auto-choosing col-wise multi-threading, the overhead of testing was 0.001392 seconds.\n",
      "You can set `force_col_wise=true` to remove the overhead.\n",
      "[LightGBM] [Info] Total Bins 2940\n",
      "[LightGBM] [Info] Number of data points in the train set: 1156, number of used features: 78\n",
      "[LightGBM] [Info] Start training from score 12.015333\n",
      "Training until validation scores don't improve for 20 rounds\n",
      "[10]\tvalid_0's l2: 0.0762818\n",
      "[20]\tvalid_0's l2: 0.0467362\n",
      "[30]\tvalid_0's l2: 0.03249\n",
      "[40]\tvalid_0's l2: 0.0257868\n",
      "[50]\tvalid_0's l2: 0.0214988\n",
      "[60]\tvalid_0's l2: 0.0193962\n",
      "[70]\tvalid_0's l2: 0.0180176\n",
      "[80]\tvalid_0's l2: 0.0166924\n",
      "[90]\tvalid_0's l2: 0.015955\n",
      "[100]\tvalid_0's l2: 0.0155308\n",
      "[110]\tvalid_0's l2: 0.0151824\n",
      "[120]\tvalid_0's l2: 0.0147177\n",
      "[130]\tvalid_0's l2: 0.0146438\n",
      "[140]\tvalid_0's l2: 0.0145239\n",
      "[150]\tvalid_0's l2: 0.014505\n",
      "[160]\tvalid_0's l2: 0.0145101\n",
      "[170]\tvalid_0's l2: 0.0143538\n",
      "[180]\tvalid_0's l2: 0.0142652\n",
      "[190]\tvalid_0's l2: 0.0142552\n",
      "[200]\tvalid_0's l2: 0.0142293\n",
      "[210]\tvalid_0's l2: 0.0140382\n",
      "[220]\tvalid_0's l2: 0.0142292\n",
      "[230]\tvalid_0's l2: 0.0141861\n",
      "Early stopping, best iteration is:\n",
      "[210]\tvalid_0's l2: 0.0140382\n"
     ]
    },
    {
     "data": {
      "text/plain": [
       "{'num_leaves': 33,\n",
       " 'max_bin': 125,\n",
       " 'bagging_fraction': 0.7197362581993618,\n",
       " 'bagging_freq': 4,\n",
       " 'feature_fraction': 0.4684501358427995,\n",
       " 'min_data_in_leaf': 14,\n",
       " 'min_sum_hessian_in_leaf': 2}"
      ]
     },
     "execution_count": 70,
     "metadata": {},
     "output_type": "execute_result"
    }
   ],
   "source": [
    "study = optuna.create_study(sampler=optuna.samplers.RandomSampler(seed=0))\n",
    "study.optimize(objective, n_trials=50)\n",
    "study.best_params"
   ]
  },
  {
   "cell_type": "code",
   "execution_count": 71,
   "id": "26d73e10",
   "metadata": {
    "execution": {
     "iopub.execute_input": "2022-05-26T15:29:57.166569Z",
     "iopub.status.busy": "2022-05-26T15:29:57.166149Z",
     "iopub.status.idle": "2022-05-26T15:29:57.171667Z",
     "shell.execute_reply": "2022-05-26T15:29:57.170644Z"
    },
    "papermill": {
     "duration": 0.061642,
     "end_time": "2022-05-26T15:29:57.173709",
     "exception": false,
     "start_time": "2022-05-26T15:29:57.112067",
     "status": "completed"
    },
    "tags": []
   },
   "outputs": [],
   "source": [
    "lgbm_params = {\n",
    "    \"objective\":\"regression\",\n",
    "    \"random_seed\":1234,\n",
    "    \"learning_rate\":0.05,\n",
    "    \"n_estimators\":1000,\n",
    "    'num_leaves': 33,\n",
    "    'max_bin': 125,\n",
    "    'bagging_fraction': 0.7197362581993618,\n",
    "    'bagging_freq': 4,\n",
    "    'feature_fraction': 0.4684501358427995,\n",
    "    'min_data_in_leaf': 14,\n",
    "    'min_sum_hessian_in_leaf': 2\n",
    "}"
   ]
  },
  {
   "cell_type": "code",
   "execution_count": 72,
   "id": "76265dbf",
   "metadata": {
    "execution": {
     "iopub.execute_input": "2022-05-26T15:29:57.279765Z",
     "iopub.status.busy": "2022-05-26T15:29:57.279218Z",
     "iopub.status.idle": "2022-05-26T15:29:58.594734Z",
     "shell.execute_reply": "2022-05-26T15:29:58.593675Z"
    },
    "papermill": {
     "duration": 1.372876,
     "end_time": "2022-05-26T15:29:58.598625",
     "exception": false,
     "start_time": "2022-05-26T15:29:57.225749",
     "status": "completed"
    },
    "tags": []
   },
   "outputs": [
    {
     "name": "stdout",
     "output_type": "stream",
     "text": [
      "[LightGBM] [Warning] Auto-choosing row-wise multi-threading, the overhead of testing was 0.000778 seconds.\n",
      "You can set `force_row_wise=true` to remove the overhead.\n",
      "And if memory is not enough, you can set `force_col_wise=true`.\n",
      "[LightGBM] [Info] Total Bins 2374\n",
      "[LightGBM] [Info] Number of data points in the train set: 963, number of used features: 77\n",
      "[LightGBM] [Info] Start training from score 12.010615\n",
      "Training until validation scores don't improve for 20 rounds\n",
      "[10]\tvalid_0's l2: 0.0730654\n",
      "[20]\tvalid_0's l2: 0.039388\n",
      "[30]\tvalid_0's l2: 0.0260691\n",
      "[40]\tvalid_0's l2: 0.019713\n",
      "[50]\tvalid_0's l2: 0.0167307\n",
      "[60]\tvalid_0's l2: 0.0153157\n",
      "[70]\tvalid_0's l2: 0.0145976\n",
      "[80]\tvalid_0's l2: 0.0141165\n",
      "[90]\tvalid_0's l2: 0.0139484\n",
      "[100]\tvalid_0's l2: 0.0137097\n",
      "[110]\tvalid_0's l2: 0.013655\n",
      "[120]\tvalid_0's l2: 0.0135674\n",
      "[130]\tvalid_0's l2: 0.0135293\n",
      "[140]\tvalid_0's l2: 0.0135037\n",
      "[150]\tvalid_0's l2: 0.0134944\n",
      "[160]\tvalid_0's l2: 0.013517\n",
      "Early stopping, best iteration is:\n",
      "[143]\tvalid_0's l2: 0.0134783\n",
      "0.11609626422281383\n",
      "[LightGBM] [Warning] Auto-choosing row-wise multi-threading, the overhead of testing was 0.000666 seconds.\n",
      "You can set `force_row_wise=true` to remove the overhead.\n",
      "And if memory is not enough, you can set `force_col_wise=true`.\n",
      "[LightGBM] [Info] Total Bins 2370\n",
      "[LightGBM] [Info] Number of data points in the train set: 963, number of used features: 78\n",
      "[LightGBM] [Info] Start training from score 12.018820\n",
      "Training until validation scores don't improve for 20 rounds\n",
      "[10]\tvalid_0's l2: 0.0833306\n",
      "[20]\tvalid_0's l2: 0.0493842\n",
      "[30]\tvalid_0's l2: 0.0337997\n",
      "[40]\tvalid_0's l2: 0.0266571\n",
      "[50]\tvalid_0's l2: 0.0230607\n",
      "[60]\tvalid_0's l2: 0.0214028\n",
      "[70]\tvalid_0's l2: 0.0202047\n",
      "[80]\tvalid_0's l2: 0.0195021\n",
      "[90]\tvalid_0's l2: 0.0189893\n",
      "[100]\tvalid_0's l2: 0.0187437\n",
      "[110]\tvalid_0's l2: 0.0185144\n",
      "[120]\tvalid_0's l2: 0.0184643\n",
      "[130]\tvalid_0's l2: 0.0183792\n",
      "[140]\tvalid_0's l2: 0.0183163\n",
      "[150]\tvalid_0's l2: 0.01836\n",
      "[160]\tvalid_0's l2: 0.0182416\n",
      "[170]\tvalid_0's l2: 0.0181873\n",
      "[180]\tvalid_0's l2: 0.0181668\n",
      "[190]\tvalid_0's l2: 0.0182043\n",
      "[200]\tvalid_0's l2: 0.0181913\n",
      "Early stopping, best iteration is:\n",
      "[185]\tvalid_0's l2: 0.0181394\n",
      "0.13468263341875894\n",
      "[LightGBM] [Warning] Auto-choosing col-wise multi-threading, the overhead of testing was 0.001899 seconds.\n",
      "You can set `force_col_wise=true` to remove the overhead.\n",
      "[LightGBM] [Info] Total Bins 2389\n",
      "[LightGBM] [Info] Number of data points in the train set: 964, number of used features: 78\n",
      "[LightGBM] [Info] Start training from score 12.021869\n",
      "Training until validation scores don't improve for 20 rounds\n",
      "[10]\tvalid_0's l2: 0.0672398\n",
      "[20]\tvalid_0's l2: 0.0368451\n",
      "[30]\tvalid_0's l2: 0.0242847\n",
      "[40]\tvalid_0's l2: 0.0184089\n",
      "[50]\tvalid_0's l2: 0.0157186\n",
      "[60]\tvalid_0's l2: 0.0144352\n",
      "[70]\tvalid_0's l2: 0.0138335\n",
      "[80]\tvalid_0's l2: 0.0135654\n",
      "[90]\tvalid_0's l2: 0.0134322\n",
      "[100]\tvalid_0's l2: 0.0133707\n",
      "[110]\tvalid_0's l2: 0.0132919\n",
      "[120]\tvalid_0's l2: 0.0131674\n",
      "[130]\tvalid_0's l2: 0.0130868\n",
      "[140]\tvalid_0's l2: 0.0130366\n",
      "[150]\tvalid_0's l2: 0.0129945\n",
      "[160]\tvalid_0's l2: 0.0130438\n",
      "Early stopping, best iteration is:\n",
      "[144]\tvalid_0's l2: 0.0129672\n",
      "0.11387357100745589\n"
     ]
    }
   ],
   "source": [
    "models = []\n",
    "rmses = []\n",
    "oof = np.zeros(len(train_X))\n",
    "\n",
    "for train_index, val_index in kf.split(train_X):\n",
    "    X_train = train_X.iloc[train_index]\n",
    "    X_valid = train_X.iloc[val_index]\n",
    "    y_train = train_Y.iloc[train_index]\n",
    "    y_valid = train_Y.iloc[val_index]\n",
    "    \n",
    "    lgb_train = lgb.Dataset(X_train, y_train)\n",
    "    lgb_eval = lgb.Dataset(X_valid, y_valid, reference=lgb_train)\n",
    "    \n",
    "    model_lgb = lgb.train(lgbm_params,\n",
    "                         lgb_train,\n",
    "                         valid_sets = lgb_eval,\n",
    "                         num_boost_round = 100, \n",
    "                         early_stopping_rounds = 20,\n",
    "                         verbose_eval=10,\n",
    "                         )\n",
    "    \n",
    "    y_pred = model_lgb.predict(X_valid, num_iteration=model_lgb.best_iteration)\n",
    "    tmp_rmse = np.sqrt(mean_squared_error(y_valid, y_pred))\n",
    "    print(tmp_rmse)\n",
    "    \n",
    "    models.append(model_lgb)\n",
    "    rmses.append(tmp_rmse)\n",
    "    oof[val_index] = y_pred"
   ]
  },
  {
   "cell_type": "code",
   "execution_count": 73,
   "id": "73f2d727",
   "metadata": {
    "execution": {
     "iopub.execute_input": "2022-05-26T15:29:58.722475Z",
     "iopub.status.busy": "2022-05-26T15:29:58.722011Z",
     "iopub.status.idle": "2022-05-26T15:29:58.728123Z",
     "shell.execute_reply": "2022-05-26T15:29:58.727453Z"
    },
    "papermill": {
     "duration": 0.066647,
     "end_time": "2022-05-26T15:29:58.730988",
     "exception": false,
     "start_time": "2022-05-26T15:29:58.664341",
     "status": "completed"
    },
    "tags": []
   },
   "outputs": [
    {
     "data": {
      "text/plain": [
       "0.12155082288300956"
      ]
     },
     "execution_count": 73,
     "metadata": {},
     "output_type": "execute_result"
    }
   ],
   "source": [
    "sum(rmses)/len(rmses)"
   ]
  },
  {
   "cell_type": "markdown",
   "id": "3d13472a",
   "metadata": {
    "papermill": {
     "duration": 0.056217,
     "end_time": "2022-05-26T15:29:58.842570",
     "exception": false,
     "start_time": "2022-05-26T15:29:58.786353",
     "status": "completed"
    },
    "tags": []
   },
   "source": [
    "# Submission"
   ]
  },
  {
   "cell_type": "code",
   "execution_count": 74,
   "id": "f75fe9ff",
   "metadata": {
    "execution": {
     "iopub.execute_input": "2022-05-26T15:29:58.951065Z",
     "iopub.status.busy": "2022-05-26T15:29:58.950176Z",
     "iopub.status.idle": "2022-05-26T15:29:58.956608Z",
     "shell.execute_reply": "2022-05-26T15:29:58.955568Z"
    },
    "papermill": {
     "duration": 0.06379,
     "end_time": "2022-05-26T15:29:58.958928",
     "exception": false,
     "start_time": "2022-05-26T15:29:58.895138",
     "status": "completed"
    },
    "tags": []
   },
   "outputs": [],
   "source": [
    "test_X = test_df_le.drop([\"SalePrice\", \"Id\"], axis=1)"
   ]
  },
  {
   "cell_type": "code",
   "execution_count": 75,
   "id": "0b11dffd",
   "metadata": {
    "execution": {
     "iopub.execute_input": "2022-05-26T15:29:59.070995Z",
     "iopub.status.busy": "2022-05-26T15:29:59.070219Z",
     "iopub.status.idle": "2022-05-26T15:29:59.209310Z",
     "shell.execute_reply": "2022-05-26T15:29:59.208332Z"
    },
    "papermill": {
     "duration": 0.199249,
     "end_time": "2022-05-26T15:29:59.212143",
     "exception": false,
     "start_time": "2022-05-26T15:29:59.012894",
     "status": "completed"
    },
    "tags": []
   },
   "outputs": [],
   "source": [
    "preds = []\n",
    "\n",
    "for model in models:\n",
    "    pred = model.predict(test_X)\n",
    "    preds.append(pred)"
   ]
  },
  {
   "cell_type": "code",
   "execution_count": 76,
   "id": "05de4208",
   "metadata": {
    "execution": {
     "iopub.execute_input": "2022-05-26T15:29:59.322258Z",
     "iopub.status.busy": "2022-05-26T15:29:59.321831Z",
     "iopub.status.idle": "2022-05-26T15:29:59.327677Z",
     "shell.execute_reply": "2022-05-26T15:29:59.326343Z"
    },
    "papermill": {
     "duration": 0.061513,
     "end_time": "2022-05-26T15:29:59.329985",
     "exception": false,
     "start_time": "2022-05-26T15:29:59.268472",
     "status": "completed"
    },
    "tags": []
   },
   "outputs": [],
   "source": [
    "preds_array = np.array(preds)\n",
    "preds_mean = np.mean(preds_array, axis=0)"
   ]
  },
  {
   "cell_type": "code",
   "execution_count": 77,
   "id": "e137a007",
   "metadata": {
    "execution": {
     "iopub.execute_input": "2022-05-26T15:29:59.438235Z",
     "iopub.status.busy": "2022-05-26T15:29:59.437812Z",
     "iopub.status.idle": "2022-05-26T15:29:59.443201Z",
     "shell.execute_reply": "2022-05-26T15:29:59.442035Z"
    },
    "papermill": {
     "duration": 0.062157,
     "end_time": "2022-05-26T15:29:59.445590",
     "exception": false,
     "start_time": "2022-05-26T15:29:59.383433",
     "status": "completed"
    },
    "tags": []
   },
   "outputs": [
    {
     "name": "stdout",
     "output_type": "stream",
     "text": [
      "1459\n"
     ]
    }
   ],
   "source": [
    "# return log to original values\n",
    "\n",
    "preds_exp = np.exp(preds_mean)\n",
    "print(len(preds_exp))"
   ]
  },
  {
   "cell_type": "code",
   "execution_count": 78,
   "id": "77654f54",
   "metadata": {
    "execution": {
     "iopub.execute_input": "2022-05-26T15:29:59.553244Z",
     "iopub.status.busy": "2022-05-26T15:29:59.552599Z",
     "iopub.status.idle": "2022-05-26T15:29:59.566510Z",
     "shell.execute_reply": "2022-05-26T15:29:59.565646Z"
    },
    "papermill": {
     "duration": 0.070623,
     "end_time": "2022-05-26T15:29:59.568754",
     "exception": false,
     "start_time": "2022-05-26T15:29:59.498131",
     "status": "completed"
    },
    "tags": []
   },
   "outputs": [],
   "source": [
    "submission[\"SalePrice\"] = preds_exp\n",
    "submission.to_csv(\"houseprices_submit01.csv\", index=False)"
   ]
  },
  {
   "cell_type": "code",
   "execution_count": null,
   "id": "c234057c",
   "metadata": {
    "papermill": {
     "duration": 0.052619,
     "end_time": "2022-05-26T15:29:59.673773",
     "exception": false,
     "start_time": "2022-05-26T15:29:59.621154",
     "status": "completed"
    },
    "tags": []
   },
   "outputs": [],
   "source": []
  }
 ],
 "metadata": {
  "kernelspec": {
   "display_name": "Python 3",
   "language": "python",
   "name": "python3"
  },
  "language_info": {
   "codemirror_mode": {
    "name": "ipython",
    "version": 3
   },
   "file_extension": ".py",
   "mimetype": "text/x-python",
   "name": "python",
   "nbconvert_exporter": "python",
   "pygments_lexer": "ipython3",
   "version": "3.7.12"
  },
  "papermill": {
   "default_parameters": {},
   "duration": 54.743561,
   "end_time": "2022-05-26T15:30:00.649729",
   "environment_variables": {},
   "exception": null,
   "input_path": "__notebook__.ipynb",
   "output_path": "__notebook__.ipynb",
   "parameters": {},
   "start_time": "2022-05-26T15:29:05.906168",
   "version": "2.3.4"
  }
 },
 "nbformat": 4,
 "nbformat_minor": 5
}
